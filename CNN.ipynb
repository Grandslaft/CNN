{
 "cells": [
  {
   "cell_type": "markdown",
   "metadata": {},
   "source": [
    "# Main"
   ]
  },
  {
   "cell_type": "markdown",
   "metadata": {},
   "source": [
    "## import packages"
   ]
  },
  {
   "cell_type": "code",
   "execution_count": 1,
   "metadata": {},
   "outputs": [],
   "source": [
    "import numpy as np\n",
    "import pandas as pd\n",
    "import idx2numpy\n",
    "\n",
    "import matplotlib.pyplot as plt\n",
    "import plotly.graph_objects as go\n",
    "\n",
    "from sklearn.metrics import accuracy_score\n",
    "from sklearn.preprocessing import OneHotEncoder\n",
    "from sklearn.model_selection import train_test_split\n",
    "\n",
    "import PIL\n",
    "\n",
    "import time"
   ]
  },
  {
   "cell_type": "code",
   "execution_count": 2,
   "metadata": {},
   "outputs": [],
   "source": [
    "def calculate_execution_time(func):\n",
    "    def wrapper(*args, **kwargs):\n",
    "        start_time = time.time()\n",
    "        result = func(*args, **kwargs)\n",
    "        end_time = time.time()\n",
    "        print(f\"Execution time of {func.__name__}: {end_time - start_time} seconds\")\n",
    "        return result\n",
    "    return wrapper"
   ]
  },
  {
   "cell_type": "markdown",
   "metadata": {},
   "source": [
    "## class for the Activation functions"
   ]
  },
  {
   "cell_type": "code",
   "execution_count": 3,
   "metadata": {},
   "outputs": [],
   "source": [
    "class Activation:\n",
    "    def __init__(self, name):\n",
    "        self.name = name\n",
    "        if name == 'sigmoid':\n",
    "            self.function = self.exponent\n",
    "            self.derivative = self.exponent_der\n",
    "        elif name == 'tanh':\n",
    "            self.function = lambda x: np.tanh(x)\n",
    "            self.derivative = lambda x: 1 - np.square(np.tanh(x))\n",
    "        elif name == 'softmax':\n",
    "            self.function = self.softmax\n",
    "            self.derivative = self.softmax_der\n",
    "        elif name == 'relu':\n",
    "            self.function = lambda x: np.maximum(0, x)\n",
    "            self.derivative = lambda x: x > 0\n",
    "        \n",
    "    def exponent(self, x):\n",
    "        shift_x = x - np.max(x)\n",
    "        return 1/(1 + np.exp(-shift_x))\n",
    "    \n",
    "    def exponent_der(self, x):\n",
    "        exps = self.exponent(x)\n",
    "        return exps * (1 - exps)\n",
    "    \n",
    "    def softmax(self, x):\n",
    "        shift_x = x - np.max(x)\n",
    "        exps = np.exp(shift_x)\n",
    "        return exps/np.sum(exps)\n",
    "    \n",
    "    def softmax_der(self, x):\n",
    "        array = self.softmax(x).reshape(-1,1)\n",
    "        return np.diagflat(array) - np.dot(array, array.T)"
   ]
  },
  {
   "cell_type": "markdown",
   "metadata": {},
   "source": [
    "## Convolution layer"
   ]
  },
  {
   "cell_type": "code",
   "execution_count": 4,
   "metadata": {},
   "outputs": [],
   "source": [
    "class Conv:\n",
    "\n",
    "    def __init__(self, num_filters = 3, size = 3, stride = 1, activation = 'relu'):\n",
    "        self.next_layer = None\n",
    "        self.num_filters = num_filters\n",
    "        self.size = size\n",
    "        self.stride = stride\n",
    "        self.activation = Activation(activation)\n",
    "\n",
    "        self.filters = np.random.randn(num_filters, size, size) / 10\n",
    "    \n",
    "    def add_layer(self, child):\n",
    "        self.next_layer = child\n",
    "        return self\n",
    "    \n",
    "    # @calculate_execution_time            \n",
    "    def forward(self, image):\n",
    "        self.last_input = image\n",
    "        input_dimension = image.shape[1]\n",
    "        output_dimension = int((input_dimension - self.size) / self.stride) + 1\n",
    "        out = np.zeros((self.filters.shape[0], output_dimension, output_dimension))\n",
    "        \n",
    "        for f in range(self.num_filters):\n",
    "            current_y = out_y = 0\n",
    "            \n",
    "            while current_y + self.size <= input_dimension:\n",
    "                current_x = out_x = 0\n",
    "                \n",
    "                while current_x + self.size <= input_dimension:\n",
    "                    patch = image[:, current_y:current_y + self.size, current_x:current_x + self.size]\n",
    "                    out[f, out_y, out_x] = np.sum(self.filters[f] * patch)\n",
    "                    current_x += self.stride\n",
    "                    out_x += 1\n",
    "                    \n",
    "                current_y += self.stride\n",
    "                out_y += 1\n",
    "                \n",
    "        self.last_output = out\n",
    "        if self.activation:\n",
    "            out = self.activation.function(out)\n",
    "        return out\n",
    "    # @calculate_execution_time\n",
    "    def backward(self, out_prev, lr):\n",
    "        out_prev = np.clip(out_prev, -1e+5, 1e+5)\n",
    "        input_dimension = self.last_input.shape[1]\n",
    "        \n",
    "        if self.activation:\n",
    "            out_prev = out_prev * self.activation.derivative(self.last_output)\n",
    "        \n",
    "        out_next = np.zeros(self.last_input.shape)\n",
    "        dfilt = np.zeros(self.filters.shape)\n",
    "        \n",
    "        for f in range(self.filters.shape[0]):\n",
    "            current_y = out_y = 0\n",
    "            \n",
    "            while current_y + self.size <= input_dimension:\n",
    "                current_x = out_x = 0\n",
    "                \n",
    "                while current_x + self.size <= input_dimension:\n",
    "                    patch = self.last_input[:, current_y:current_y + self.size, current_x:current_x + self.size]\n",
    "                    dfilt[f] += np.sum(out_prev[f, out_y, out_x] * patch, axis=0)\n",
    "                    out_next[:, current_y:current_y + self.size, current_x:current_x + self.size] += out_prev[f, out_y, out_x] * self.filters[f]\n",
    "                    current_x += self.stride\n",
    "                    out_x += 1\n",
    "                    \n",
    "                current_y += self.stride\n",
    "                out_y += 1\n",
    "                \n",
    "        self.filters -= lr * dfilt\n",
    "        return out_next"
   ]
  },
  {
   "cell_type": "markdown",
   "metadata": {},
   "source": [
    "## Pool method"
   ]
  },
  {
   "cell_type": "code",
   "execution_count": 5,
   "metadata": {},
   "outputs": [],
   "source": [
    "class MaxPool:\n",
    "    \n",
    "    def __init__(self, size = 2, stride = 2, activation = 'relu'):\n",
    "        self.next_layer = None\n",
    "        self.stride = stride\n",
    "        self.size = size\n",
    "        self.activation = Activation(activation)\n",
    "    \n",
    "    def add_layer(self, child):\n",
    "        self.next_layer = child\n",
    "        return self\n",
    "    \n",
    "    # @calculate_execution_time            \n",
    "    def forward(self, image):\n",
    "        self.last_input = image\n",
    "        \n",
    "        nfilt, h_prev, w_prev = image.shape\n",
    "        h = int((h_prev - self.size) / self.stride) + 1\n",
    "        w = int((w_prev - self.size) / self.stride) + 1\n",
    "        \n",
    "        downscaled = np.zeros((nfilt, h, w))\n",
    "        \n",
    "        for i in range(nfilt):\n",
    "            curr_y = out_y = 0\n",
    "            \n",
    "            while curr_y + self.size <= h_prev:\n",
    "                curr_x = out_x = 0\n",
    "                \n",
    "                while curr_x + self.size <= w_prev:\n",
    "                    patch = image[i, curr_y:curr_y + self.size, curr_x:curr_x + self.size]\n",
    "                    downscaled[i, out_y, out_x] = np.max(patch)\n",
    "                    curr_x += self.stride\n",
    "                    out_x += 1\n",
    "                    \n",
    "                curr_y += self.stride\n",
    "                out_y += 1\n",
    "                \n",
    "        return downscaled\n",
    "    # @calculate_execution_time\n",
    "    def backward(self, out_prev, learning_rate):\n",
    "        out_prev = np.clip(out_prev, -1e+5, 1e+5)\n",
    "        out_next = np.zeros(self.last_input.shape)\n",
    "\n",
    "        nfilt, shape, _ = self.last_input.shape\n",
    "        \n",
    "        for c in range(nfilt):\n",
    "            current_y = out_y = 0\n",
    "            while current_y + self.size <= shape:\n",
    "                current_x = out_x = 0\n",
    "                while current_x + self.size <= shape:\n",
    "                    patch = self.last_input[c, current_y:current_y + self.size, current_x:current_x + self.size]\n",
    "                    (x, y) = np.unravel_index(np.nanargmax(patch), patch.shape)\n",
    "                    out_next[c, current_y + x, current_x + y] += out_prev[c, out_y, out_x]\n",
    "                    current_x += self.stride\n",
    "                    out_x += 1\n",
    "                current_y += self.stride\n",
    "                out_y += 1\n",
    "        return out_next"
   ]
  },
  {
   "cell_type": "markdown",
   "metadata": {},
   "source": [
    "## Dense Layer"
   ]
  },
  {
   "cell_type": "code",
   "execution_count": 6,
   "metadata": {},
   "outputs": [],
   "source": [
    "class Dense():\n",
    "    def __init__(self, n_inputs, n_neurons, activation):\n",
    "        self.next_layer = None\n",
    "        # self.weights = np.random.uniform(size=(n_inputs, n_neurons)) - 0.5\n",
    "        # self.biases = np.random.uniform(size=(n_neurons,)) - 0.5\n",
    "        \n",
    "        # self.weights = np.random.normal(loc=0, scale=np.sqrt(2/n_inputs), size=(n_inputs, n_neurons))\n",
    "        # self.biases = np.random.normal(loc=0, scale=np.sqrt(2/n_inputs), size=(n_neurons))\n",
    "        \n",
    "        self.weights = np.random.randn(n_inputs, n_neurons) / 10\n",
    "        self.biases = np.random.randn(n_neurons) / 10\n",
    "        \n",
    "        self.activation = Activation(activation)\n",
    "\n",
    "    def add_layer(self, child):\n",
    "        self.next_layer = child\n",
    "        return self\n",
    "    \n",
    "    # @calculate_execution_time\n",
    "    def forward(self, image):\n",
    "        self.last_input_shape = image.shape\n",
    "        image = image.flatten()\n",
    "        output = np.dot(image, self.weights) + self.biases\n",
    "        self.last_input = image\n",
    "        self.last_output = output\n",
    "        return self.activation.function(output)\n",
    "    \n",
    "    # @calculate_execution_time\n",
    "    def backward(self, out_prev, learning_rate):\n",
    "        out_prev = np.clip(out_prev, -1e+5, 1e+5)\n",
    "        \n",
    "        if self.next_layer is None:\n",
    "            dW = out_prev[:, np.newaxis]\n",
    "        else:\n",
    "            dW = out_prev[:, np.newaxis] * self.activation.derivative(self.last_output)[:, np.newaxis]\n",
    "        dW = (dW * self.last_input[np.newaxis, :]).T\n",
    "        db = np.copy(out_prev)\n",
    "        out_next = self.weights @ out_prev\n",
    "        self.weights -= learning_rate * dW\n",
    "        self.biases -= learning_rate * db\n",
    "        return out_next.reshape(self.last_input_shape)"
   ]
  },
  {
   "cell_type": "markdown",
   "metadata": {},
   "source": [
    "## CNN"
   ]
  },
  {
   "cell_type": "code",
   "execution_count": 7,
   "metadata": {},
   "outputs": [],
   "source": [
    "class CNN:\n",
    "    \n",
    "    def __init__(self, layers):\n",
    "        if len(layers) < 2:\n",
    "            raise ValueError(\"Not enough layers. Should be at least 2\")\n",
    "        \n",
    "        self.layers = [layers[0]]\n",
    "        \n",
    "        for layer in layers[1:]:\n",
    "            self.layers[-1].add_layer(layer)\n",
    "            if layer is not None and layer not in self.layers:\n",
    "                self.layers.append(layer)\n",
    "        \n",
    "        self.early_stop = None\n",
    "        \n",
    "    # @calculate_execution_time\n",
    "    def forward(self, image):\n",
    "        for layer in self.layers:\n",
    "            image = layer.forward(image)\n",
    "        return image\n",
    "    \n",
    "    # @calculate_execution_time\n",
    "    def backward(self, gradient, learning_rate):\n",
    "        for layer in reversed(self.layers):\n",
    "            gradient = layer.backward(gradient, learning_rate)\n",
    "\n",
    "    def train(self, X_train, y_train, X_val = None, y_val = None, epochs=10, learning_rate=0.1, lr_decay=0, step=50, val_step=100):\n",
    "        data_amount = X_train.shape[0]\n",
    "        num_digits = len(str(data_amount))\n",
    "        learning_rate_0 = learning_rate\n",
    "            \n",
    "        for epoch in range(epochs):\n",
    "            accuracies = []\n",
    "            losses = []\n",
    "            \n",
    "            self.history['accuracy'][epoch] = []\n",
    "            self.history['loss'][epoch] = []\n",
    "                \n",
    "            self.history['val_accuracy'][epoch] = []\n",
    "            self.history['val_loss'][epoch] = []\n",
    "            \n",
    "            for i, X in enumerate(X_train):              \n",
    "                output = self.forward(X)\n",
    "                \n",
    "                accuracy = output[np.argmax(y_train[i])]\n",
    "                loss = -np.sum(y_train[i] * np.log(output))\n",
    "                accuracies.append(accuracy)\n",
    "                losses.append(loss)\n",
    "                \n",
    "                gradient = np.copy(output) - y_train[i]\n",
    "                self.backward(gradient, learning_rate)\n",
    "                \n",
    "                learning_rate = (1/(1+lr_decay*((epoch + 1) * (i + 1)))) * learning_rate_0\n",
    "                \n",
    "                if i > val_step and i % step == 0:\n",
    "                    avg_accuracy = np.mean(accuracies)\n",
    "                    avg_loss = np.mean(losses)\n",
    "                    \n",
    "                    accuracies = []\n",
    "                    losses = []\n",
    "                    \n",
    "                    if self.early_stop is not None:\n",
    "                        if self.EarlyStopping(epoch, i, avg_accuracy, avg_loss, step, val_step, X_val, y_val):\n",
    "                            self.output = np.array(output)\n",
    "                            return\n",
    "                    \n",
    "                    val_accuracy, val_loss = self.history['val_accuracy'][epoch][-1], self.history['val_loss'][epoch][-1]\n",
    "                    \n",
    "                    print(f'[Image {i:{num_digits}d}]: ' +\n",
    "                          f'Avg Acc: {avg_accuracy:7.2%} | ' +\n",
    "                          f'Avg Loss {avg_loss:5.2f} | ' +\n",
    "                          f'Val Acc: {val_accuracy:7.2%} | '+\n",
    "                          f'Val Loss: {val_loss:5.2f}')\n",
    "                          \n",
    "\n",
    "    def val_pred(self, X_val, y_val):\n",
    "        accuracies = []\n",
    "        losses = []\n",
    "        \n",
    "        for i, X in enumerate(X_val):\n",
    "            current_output = self.forward(X)\n",
    "            \n",
    "            accuracy = current_output[np.argmax(y_val[i])]\n",
    "            loss = -np.sum(y_val[i] * np.log(current_output))\n",
    "            accuracies.append(accuracy)\n",
    "            losses.append(loss)\n",
    "            \n",
    "        return np.mean(accuracies), np.mean(losses)\n",
    "        \n",
    "    def predict(self, X):\n",
    "        return np.array([np.argmax(self.forward(x), 0) for x in X])\n",
    "        \n",
    "    def EarlyStop(self, monitor=\"accuracy\", min_delta=.1, min_monitor = 0.6, patience=3, restore_best_layers=False):\n",
    "        self.early_stop = {\n",
    "            \"monitor\": monitor, \n",
    "            \"min_delta\": min_delta, \n",
    "            \"min_monitor\": min_monitor, \n",
    "            \"patience\": patience,\n",
    "            \"restore_best_layers\": restore_best_layers,\n",
    "        }\n",
    "        \n",
    "        self.history = {\n",
    "            \"accuracy\": {},\n",
    "            \"loss\": {},\n",
    "            'val_accuracy': {},\n",
    "            'val_loss': {},\n",
    "            \"global_max_index\": (0, 0),\n",
    "            \"best_layers\": []\n",
    "        }\n",
    "    \n",
    "    def EarlyStopping(self, epoch, im_i, accuracy, loss, step, val_step, X_val=None, y_val=None):\n",
    "        \n",
    "        im_i = int((im_i - val_step)/step) - 1\n",
    "        \n",
    "        self.history['accuracy'][epoch].append(accuracy)\n",
    "        self.history['loss'][epoch].append(loss)\n",
    "        \n",
    "        val_accuracy, val_loss = self.val_pred(X_val, y_val)\n",
    "        self.history['val_accuracy'][epoch].append(val_accuracy)\n",
    "        self.history['val_loss'][epoch].append(val_loss)\n",
    "        \n",
    "        if ((epoch + 1) * (im_i + 1)) > self.early_stop['patience']:\n",
    "            \n",
    "            if self.history[self.early_stop['monitor']][epoch][-1] >= self.history[self.early_stop['monitor']][self.history['global_max_index'][0]][self.history['global_max_index'][1]]:\n",
    "                self.history['global_max_index'] = (epoch, im_i)\n",
    "            \n",
    "            if self.early_stop['restore_best_layers'] and (epoch, im_i) == self.history['global_max_index']:\n",
    "                self.history['best_layers'] = []\n",
    "                for layer in self.layers:\n",
    "                    if layer.__class__.__name__ == 'Conv':\n",
    "                        self.history['best_layers'].append(layer.filters)\n",
    "                    elif layer.__class__.__name__ == 'MaxPool':\n",
    "                        self.history['best_layers'].append(None)\n",
    "                    elif layer.__class__.__name__ == 'Dense':\n",
    "                        self.history['best_layers'].append((layer.weights, layer.biases))\n",
    "                \n",
    "            min_local_accuracy = min(self.history[self.early_stop['monitor']][epoch][-self.early_stop['patience']:])\n",
    "            difference = abs(min_local_accuracy - self.history[self.early_stop['monitor']][self.history['global_max_index'][0]][self.history['global_max_index'][1]])\n",
    "            \n",
    "            if min_local_accuracy >= self.early_stop['min_monitor'] and difference < self.early_stop['min_delta']:\n",
    "                if self.early_stop['restore_best_layers']:\n",
    "                    for i, layer in enumerate(self.layers):\n",
    "                        if layer.__class__.__name__ == 'Conv':\n",
    "                            layer.filters = self.history['best_layers'][i]\n",
    "                        elif layer.__class__.__name__ == 'MaxPool':\n",
    "                            continue\n",
    "                        elif layer.__class__.__name__ == 'Dense':\n",
    "                            layer.weights, layer.biases = self.history['best_layers'][i]\n",
    "                return True\n",
    "        return False\n",
    "    \n",
    "    def restore_best_layers(self):\n",
    "        if self.early_stop['restore_best_layers']:\n",
    "            for i, layer in enumerate(self.layers):\n",
    "                if layer.__class__.__name__ == 'Conv':\n",
    "                    layer.filters = self.history['best_layers'][i]\n",
    "                elif layer.__class__.__name__ == 'MaxPool':\n",
    "                    continue\n",
    "                elif layer.__class__.__name__ == 'Dense':\n",
    "                    layer.weights, layer.biases = self.history['best_layers'][i]"
   ]
  },
  {
   "cell_type": "markdown",
   "metadata": {},
   "source": [
    "## Training"
   ]
  },
  {
   "cell_type": "markdown",
   "metadata": {},
   "source": [
    "### import data"
   ]
  },
  {
   "cell_type": "code",
   "execution_count": 8,
   "metadata": {},
   "outputs": [],
   "source": [
    "# # data = pd.read_csv(\"train.csv\").sample(frac=.05).to_numpy()\n",
    "# X = idx2numpy.convert_from_file('D:\\\\Programming\\\\Projects\\\\data_sets\\\\num_mnist_X.idx3-ubyte').astype('float32')\n",
    "# Y = idx2numpy.convert_from_file('D:\\\\Programming\\\\Projects\\\\data_sets\\\\num_mnist_Y.idx1-ubyte')\n",
    "\n",
    "# X = X.reshape(-1, 1, 28, 28)\n",
    "\n",
    "# # minmax\n",
    "# X = (X - np.min(X, axis=(2,3), keepdims=True)) / (np.max(X, axis=(2,3), keepdims=True) - np.min(X, axis=(2,3), keepdims=True))\n",
    "\n",
    "# # Z-score\n",
    "# # X = (X - np.mean(X, axis=(2,3), keepdims=True)) / np.var(X, axis=(2,3), keepdims=True)\n",
    "\n",
    "# Y_onehot = OneHotEncoder().fit_transform(Y.reshape(-1, 1)).toarray()\n",
    "\n",
    "# X_train, X_test, y_train, y_test = train_test_split(X, Y_onehot, test_size=0.05, random_state=101)\n",
    "\n",
    "# percent = 0.1\n",
    "# sample = np.random.choice([True, False], size=X_test.shape[0], p=[percent, 1-percent])\n",
    "# X_val = X_test[sample]\n",
    "# y_val = y_test[sample]"
   ]
  },
  {
   "cell_type": "code",
   "execution_count": 9,
   "metadata": {},
   "outputs": [],
   "source": [
    "# data = pd.read_csv(\"train.csv\").sample(frac=.05).to_numpy()\n",
    "X_train = idx2numpy.convert_from_file('.\\Fashion_MNIST\\TrainX').astype('float32')\n",
    "y_train = idx2numpy.convert_from_file('.\\Fashion_MNIST\\TrainY').reshape(-1, 1)\n",
    "\n",
    "X_test = idx2numpy.convert_from_file('.\\Fashion_MNIST\\TestX').astype('float32')\n",
    "y_test = idx2numpy.convert_from_file('.\\Fashion_MNIST\\TestY').reshape(-1, 1)\n",
    "\n",
    "unique_vals, indeces = np.unique(y_train, return_index=True)\n",
    "\n",
    "X_train, X_test = X_train.reshape(-1, 1, 28, 28), X_test.reshape(-1, 1, 28, 28)\n",
    "\n",
    "# minmax\n",
    "X_max, X_min = np.max(X_train), np.min(X_train)\n",
    "X_train = (X_train - X_min) / (X_max - X_min)\n",
    "X_test = (X_test - X_min) / (X_max - X_min)\n",
    "\n",
    "# Z-score\n",
    "# X_mean, X_std = np.mean(X_train), np.std(X_train), \n",
    "# X_train = (X_train - X_mean)/X_std\n",
    "# X_test = (X_test - X_mean)/X_std\n",
    "\n",
    "# One-Hot\n",
    "OneHot = OneHotEncoder(sparse_output=False).fit(y_train)\n",
    "y_train = OneHot.transform(y_train)\n",
    "y_test = OneHot.transform(y_test)\n",
    "\n",
    "percent = 0.01\n",
    "sample = np.random.choice([True, False], size=X_test.shape[0], p=[percent, 1-percent])\n",
    "X_val = X_test[sample]\n",
    "y_val = y_test[sample]"
   ]
  },
  {
   "cell_type": "code",
   "execution_count": 10,
   "metadata": {},
   "outputs": [
    {
     "data": {
      "image/png": "[encoded data removed]",
      "text/plain": [
       "<Figure size 640x480 with 10 Axes>"
      ]
     },
     "metadata": {},
     "output_type": "display_data"
    }
   ],
   "source": [
    "fig, axs = plt.subplots(2,5)\n",
    "\n",
    "for i, idx in enumerate(indeces):\n",
    "    axs[np.unravel_index(i, shape=(2,5))].imshow(X_train[idx, 0], cmap='Greys')\n",
    "    axs[np.unravel_index(i, shape=(2,5))].title.set_text(i)"
   ]
  },
  {
   "cell_type": "markdown",
   "metadata": {},
   "source": [
    "### training"
   ]
  },
  {
   "cell_type": "code",
   "execution_count": 11,
   "metadata": {},
   "outputs": [
    {
     "name": "stdout",
     "output_type": "stream",
     "text": [
      "[Image   710]: Avg Acc:  32.15% | Avg Loss  1.60 | Val Acc:  53.95% | Val Loss:  0.94\n",
      "[Image   720]: Avg Acc:  59.66% | Avg Loss  0.66 | Val Acc:  56.26% | Val Loss:  0.92\n",
      "[Image   730]: Avg Acc:  90.76% | Avg Loss  0.10 | Val Acc:  57.93% | Val Loss:  0.90\n",
      "[Image   740]: Avg Acc:  52.75% | Avg Loss  0.90 | Val Acc:  58.23% | Val Loss:  0.87\n",
      "[Image   750]: Avg Acc:  69.57% | Avg Loss  0.60 | Val Acc:  58.67% | Val Loss:  0.87\n",
      "[Image   760]: Avg Acc:  69.51% | Avg Loss  0.49 | Val Acc:  59.06% | Val Loss:  0.88\n",
      "[Image   770]: Avg Acc:  56.70% | Avg Loss  1.02 | Val Acc:  54.11% | Val Loss:  0.95\n",
      "[Image   780]: Avg Acc:  55.74% | Avg Loss  0.84 | Val Acc:  54.74% | Val Loss:  0.92\n",
      "[Image   790]: Avg Acc:  47.63% | Avg Loss  0.99 | Val Acc:  56.25% | Val Loss:  0.89\n",
      "[Image   800]: Avg Acc:  69.43% | Avg Loss  0.54 | Val Acc:  56.79% | Val Loss:  0.92\n",
      "[Image   810]: Avg Acc:  53.87% | Avg Loss  1.04 | Val Acc:  56.47% | Val Loss:  0.93\n",
      "[Image   820]: Avg Acc:  79.32% | Avg Loss  0.31 | Val Acc:  56.97% | Val Loss:  0.92\n",
      "[Image   830]: Avg Acc:  66.99% | Avg Loss  0.44 | Val Acc:  58.79% | Val Loss:  0.89\n",
      "[Image   840]: Avg Acc:  53.18% | Avg Loss  1.11 | Val Acc:  57.61% | Val Loss:  0.92\n",
      "[Image   850]: Avg Acc:  48.80% | Avg Loss  1.01 | Val Acc:  58.73% | Val Loss:  0.89\n",
      "[Image   860]: Avg Acc:  71.19% | Avg Loss  0.49 | Val Acc:  58.03% | Val Loss:  0.93\n",
      "[Image   870]: Avg Acc:  60.79% | Avg Loss  0.97 | Val Acc:  58.78% | Val Loss:  0.87\n",
      "[Image   880]: Avg Acc:  50.35% | Avg Loss  1.55 | Val Acc:  57.84% | Val Loss:  0.83\n",
      "[Image   890]: Avg Acc:  60.02% | Avg Loss  0.64 | Val Acc:  59.25% | Val Loss:  0.81\n",
      "[Image   900]: Avg Acc:  51.01% | Avg Loss  0.92 | Val Acc:  57.97% | Val Loss:  0.84\n",
      "[Image   910]: Avg Acc:  45.90% | Avg Loss  0.97 | Val Acc:  57.23% | Val Loss:  0.88\n",
      "[Image   920]: Avg Acc:  69.95% | Avg Loss  0.64 | Val Acc:  58.51% | Val Loss:  0.83\n",
      "[Image   930]: Avg Acc:  69.10% | Avg Loss  0.48 | Val Acc:  57.90% | Val Loss:  0.84\n",
      "[Image   940]: Avg Acc:  57.20% | Avg Loss  1.31 | Val Acc:  57.61% | Val Loss:  0.84\n",
      "[Image   950]: Avg Acc:  58.03% | Avg Loss  0.71 | Val Acc:  55.68% | Val Loss:  0.92\n",
      "[Image   960]: Avg Acc:  68.18% | Avg Loss  0.47 | Val Acc:  56.95% | Val Loss:  0.93\n",
      "[Image   970]: Avg Acc:  75.83% | Avg Loss  0.41 | Val Acc:  57.73% | Val Loss:  0.88\n",
      "[Image   980]: Avg Acc:  47.26% | Avg Loss  1.38 | Val Acc:  58.32% | Val Loss:  0.85\n",
      "[Image   990]: Avg Acc:  46.28% | Avg Loss  1.19 | Val Acc:  58.17% | Val Loss:  0.86\n",
      "[Image  1000]: Avg Acc:  53.51% | Avg Loss  0.87 | Val Acc:  61.04% | Val Loss:  0.80\n",
      "[Image  1010]: Avg Acc:  52.60% | Avg Loss  0.92 | Val Acc:  56.88% | Val Loss:  0.90\n",
      "[Image  1020]: Avg Acc:  72.69% | Avg Loss  0.39 | Val Acc:  57.43% | Val Loss:  0.92\n",
      "[Image  1030]: Avg Acc:  61.45% | Avg Loss  0.73 | Val Acc:  60.45% | Val Loss:  0.81\n",
      "[Image  1040]: Avg Acc:  52.88% | Avg Loss  1.68 | Val Acc:  55.11% | Val Loss:  0.89\n",
      "[Image  1050]: Avg Acc:  52.05% | Avg Loss  0.84 | Val Acc:  57.72% | Val Loss:  0.86\n",
      "[Image  1060]: Avg Acc:  67.86% | Avg Loss  0.55 | Val Acc:  57.68% | Val Loss:  0.87\n",
      "[Image  1070]: Avg Acc:  68.84% | Avg Loss  0.50 | Val Acc:  61.49% | Val Loss:  0.83\n",
      "[Image  1080]: Avg Acc:  56.62% | Avg Loss  1.14 | Val Acc:  61.09% | Val Loss:  0.81\n",
      "[Image  1090]: Avg Acc:  59.16% | Avg Loss  0.95 | Val Acc:  58.56% | Val Loss:  0.88\n",
      "[Image  1100]: Avg Acc:  43.49% | Avg Loss  1.13 | Val Acc:  58.50% | Val Loss:  0.88\n",
      "[Image  1110]: Avg Acc:  40.90% | Avg Loss  1.96 | Val Acc:  55.98% | Val Loss:  0.93\n",
      "[Image  1120]: Avg Acc:  43.34% | Avg Loss  1.41 | Val Acc:  54.36% | Val Loss:  0.89\n",
      "[Image  1130]: Avg Acc:  56.01% | Avg Loss  0.91 | Val Acc:  57.16% | Val Loss:  0.84\n",
      "[Image  1140]: Avg Acc:  62.30% | Avg Loss  0.63 | Val Acc:  59.46% | Val Loss:  0.82\n",
      "[Image  1150]: Avg Acc:  35.76% | Avg Loss  1.44 | Val Acc:  57.64% | Val Loss:  0.83\n",
      "[Image  1160]: Avg Acc:  58.30% | Avg Loss  0.65 | Val Acc:  59.22% | Val Loss:  0.81\n",
      "[Image  1170]: Avg Acc:  70.43% | Avg Loss  0.45 | Val Acc:  59.26% | Val Loss:  0.83\n",
      "[Image  1180]: Avg Acc:  45.24% | Avg Loss  1.32 | Val Acc:  61.21% | Val Loss:  0.78\n",
      "[Image  1190]: Avg Acc:  50.06% | Avg Loss  1.13 | Val Acc:  60.85% | Val Loss:  0.80\n",
      "[Image  1200]: Avg Acc:  68.44% | Avg Loss  0.74 | Val Acc:  58.28% | Val Loss:  0.83\n",
      "[Image  1210]: Avg Acc:  45.24% | Avg Loss  1.40 | Val Acc:  57.24% | Val Loss:  0.84\n",
      "[Image  1220]: Avg Acc:  65.88% | Avg Loss  0.71 | Val Acc:  57.53% | Val Loss:  0.86\n",
      "[Image  1230]: Avg Acc:  57.74% | Avg Loss  0.67 | Val Acc:  59.67% | Val Loss:  0.87\n",
      "[Image  1240]: Avg Acc:  68.15% | Avg Loss  0.54 | Val Acc:  59.42% | Val Loss:  0.84\n",
      "[Image  1250]: Avg Acc:  49.41% | Avg Loss  1.08 | Val Acc:  60.83% | Val Loss:  0.79\n",
      "[Image  1260]: Avg Acc:  57.55% | Avg Loss  1.14 | Val Acc:  60.41% | Val Loss:  0.85\n",
      "[Image  1270]: Avg Acc:  65.53% | Avg Loss  0.67 | Val Acc:  59.23% | Val Loss:  0.84\n",
      "[Image  1280]: Avg Acc:  59.82% | Avg Loss  0.72 | Val Acc:  59.92% | Val Loss:  0.83\n",
      "[Image  1290]: Avg Acc:  52.76% | Avg Loss  0.97 | Val Acc:  59.01% | Val Loss:  0.83\n",
      "[Image  1300]: Avg Acc:  62.77% | Avg Loss  0.62 | Val Acc:  60.66% | Val Loss:  0.82\n",
      "[Image  1310]: Avg Acc:  54.16% | Avg Loss  0.91 | Val Acc:  60.97% | Val Loss:  0.82\n",
      "[Image  1320]: Avg Acc:  82.65% | Avg Loss  0.23 | Val Acc:  62.13% | Val Loss:  0.81\n",
      "[Image  1330]: Avg Acc:  71.97% | Avg Loss  0.47 | Val Acc:  61.90% | Val Loss:  0.84\n"
     ]
    }
   ],
   "source": [
    "layers = [\n",
    "    Conv(num_filters=7, size=5, stride=1, activation='relu'),\n",
    "    Conv(num_filters=5, size=3, stride=1, activation='relu'), \n",
    "    MaxPool(size=2, stride=2, activation='relu'),\n",
    "    Dense(n_inputs=605, n_neurons=128, activation='relu'),\n",
    "    Dense(n_inputs=128, n_neurons=10, activation='softmax'),\n",
    "]\n",
    "\n",
    "CNN_model = CNN(layers)\n",
    "\n",
    "CNN_model.EarlyStop(monitor = \"val_accuracy\", min_delta = 1e-2, min_monitor=0.6, patience = 3, restore_best_layers=True)\n",
    "\n",
    "CNN_model.train(X_train, y_train, X_val, y_val, epochs=1, learning_rate=0.01, lr_decay=0.005, step=10, val_step=700)"
   ]
  },
  {
   "cell_type": "code",
   "execution_count": 12,
   "metadata": {},
   "outputs": [],
   "source": [
    "# CNN_model.restore_best_layers()"
   ]
  },
  {
   "cell_type": "code",
   "execution_count": 13,
   "metadata": {},
   "outputs": [
    {
     "data": {
      "application/vnd.plotly.v1+json": {
       "config": {
        "plotlyServerURL": "https://plot.ly"
       },
       "data": [
        {
         "name": "accuracy",
         "type": "scatter",
         "x": [
          500,
          510,
          520,
          530,
          540,
          550,
          560,
          570,
          580,
          590,
          600,
          610,
          620,
          630,
          640,
          650,
          660,
          670,
          680,
          690,
          700,
          710,
          720,
          730,
          740,
          750,
          760,
          770,
          780,
          790,
          800,
          810,
          820,
          830,
          840,
          850,
          860,
          870,
          880,
          890,
          900,
          910,
          920,
          930,
          940,
          950,
          960,
          970,
          980,
          990,
          1000,
          1010,
          1020,
          1030,
          1040,
          1050,
          1060,
          1070,
          1080,
          1090,
          1100,
          1110,
          1120,
          1130
         ],
         "y": [
          0.32145403930835925,
          0.5966340653534037,
          0.9076235171328519,
          0.5274689846760026,
          0.6956533141870302,
          0.6951191380653545,
          0.566995168613689,
          0.5574329954643173,
          0.4762911452842191,
          0.694339418481409,
          0.5386742571776673,
          0.7932069265334387,
          0.6698707072660459,
          0.5318342609611342,
          0.4880155922891163,
          0.7119414858801966,
          0.607876222759562,
          0.503457513058933,
          0.6001921514679737,
          0.5100821020576237,
          0.4590449351983127,
          0.699489076476193,
          0.6909740817077621,
          0.5719942104280051,
          0.5802572568583828,
          0.6817936697061487,
          0.7583152028437995,
          0.47260641458959285,
          0.46282742425655254,
          0.5351402543953909,
          0.5259576986460643,
          0.7269323618972183,
          0.6145042608830712,
          0.5287601465143479,
          0.5204745045658002,
          0.6785778310419086,
          0.6884308574051602,
          0.5662225230511633,
          0.5916041402221545,
          0.43493876534750375,
          0.4090106787404846,
          0.43339542722673563,
          0.5601285554464658,
          0.6229528798883395,
          0.35762422363374713,
          0.5830395573108001,
          0.704324287595737,
          0.4524456616989033,
          0.5005691329974515,
          0.6843766632120132,
          0.4524398147420402,
          0.6587970189118686,
          0.5774349600690306,
          0.6814833653629809,
          0.4941191466083058,
          0.5754642036790282,
          0.6553170098788182,
          0.5982452124933126,
          0.5276468256554944,
          0.6277162065986914,
          0.5416160640113312,
          0.8265226943891054,
          0.7196766055022698,
          0.7886059568391098
         ]
        },
        {
         "name": "val_accuracy",
         "type": "scatter",
         "x": [
          500,
          510,
          520,
          530,
          540,
          550,
          560,
          570,
          580,
          590,
          600,
          610,
          620,
          630,
          640,
          650,
          660,
          670,
          680,
          690,
          700,
          710,
          720,
          730,
          740,
          750,
          760,
          770,
          780,
          790,
          800,
          810,
          820,
          830,
          840,
          850,
          860,
          870,
          880,
          890,
          900,
          910,
          920,
          930,
          940,
          950,
          960,
          970,
          980,
          990,
          1000,
          1010,
          1020,
          1030,
          1040,
          1050,
          1060,
          1070,
          1080,
          1090,
          1100,
          1110,
          1120,
          1130
         ],
         "y": [
          0.5394924017605054,
          0.5625709504224669,
          0.579306319679081,
          0.5823496245873591,
          0.5866922254058311,
          0.5906312070854941,
          0.541104597619093,
          0.5473713875828632,
          0.562456617853476,
          0.5678914033209957,
          0.564700556286631,
          0.5697089649082825,
          0.5878720782379054,
          0.5760701636179298,
          0.5872732263265266,
          0.5802606134527096,
          0.5878254602382609,
          0.5784325728451484,
          0.5924731124091768,
          0.579696541036665,
          0.5723119590994369,
          0.5850577742738162,
          0.5789808491769305,
          0.5760910122012747,
          0.556758605470575,
          0.5695356299897568,
          0.5772845069075379,
          0.5831618448070741,
          0.5817497596912029,
          0.610400468303248,
          0.568811545504279,
          0.5742752336903486,
          0.6044672195269931,
          0.5511340157948201,
          0.5772359216940954,
          0.5767772814011246,
          0.6149453725991677,
          0.6109066994859806,
          0.5855910281626551,
          0.5850394024450651,
          0.559807037130257,
          0.5435524683352768,
          0.5715814746370799,
          0.594636286029713,
          0.5764372766366046,
          0.592187120807928,
          0.5926085312017004,
          0.6121359247504279,
          0.6085072580910562,
          0.5827656425571608,
          0.5723788834719217,
          0.5753292388380812,
          0.5967128295358232,
          0.5942373231497717,
          0.6082632032903368,
          0.6040764973565994,
          0.5922526459319432,
          0.5992174892886871,
          0.59013380269192,
          0.6066497640282541,
          0.6097181301134779,
          0.6213098309363345,
          0.6190172521270487,
          0.6148893347520564
         ]
        }
       ],
       "layout": {
        "height": 1000,
        "legend": {
         "bgcolor": "rgba(0,0,0,0)",
         "font": {
          "size": 20
         },
         "x": 0.02,
         "y": 0.98
        },
        "margin": {
         "r": 40
        },
        "template": {
         "data": {
          "bar": [
           {
            "error_x": {
             "color": "#2a3f5f"
            },
            "error_y": {
             "color": "#2a3f5f"
            },
            "marker": {
             "line": {
              "color": "#E5ECF6",
              "width": 0.5
             },
             "pattern": {
              "fillmode": "overlay",
              "size": 10,
              "solidity": 0.2
             }
            },
            "type": "bar"
           }
          ],
          "barpolar": [
           {
            "marker": {
             "line": {
              "color": "#E5ECF6",
              "width": 0.5
             },
             "pattern": {
              "fillmode": "overlay",
              "size": 10,
              "solidity": 0.2
             }
            },
            "type": "barpolar"
           }
          ],
          "carpet": [
           {
            "aaxis": {
             "endlinecolor": "#2a3f5f",
             "gridcolor": "white",
             "linecolor": "white",
             "minorgridcolor": "white",
             "startlinecolor": "#2a3f5f"
            },
            "baxis": {
             "endlinecolor": "#2a3f5f",
             "gridcolor": "white",
             "linecolor": "white",
             "minorgridcolor": "white",
             "startlinecolor": "#2a3f5f"
            },
            "type": "carpet"
           }
          ],
          "choropleth": [
           {
            "colorbar": {
             "outlinewidth": 0,
             "ticks": ""
            },
            "type": "choropleth"
           }
          ],
          "contour": [
           {
            "colorbar": {
             "outlinewidth": 0,
             "ticks": ""
            },
            "colorscale": [
             [
              0,
              "#0d0887"
             ],
             [
              0.1111111111111111,
              "#46039f"
             ],
             [
              0.2222222222222222,
              "#7201a8"
             ],
             [
              0.3333333333333333,
              "#9c179e"
             ],
             [
              0.4444444444444444,
              "#bd3786"
             ],
             [
              0.5555555555555556,
              "#d8576b"
             ],
             [
              0.6666666666666666,
              "#ed7953"
             ],
             [
              0.7777777777777778,
              "#fb9f3a"
             ],
             [
              0.8888888888888888,
              "#fdca26"
             ],
             [
              1,
              "#f0f921"
             ]
            ],
            "type": "contour"
           }
          ],
          "contourcarpet": [
           {
            "colorbar": {
             "outlinewidth": 0,
             "ticks": ""
            },
            "type": "contourcarpet"
           }
          ],
          "heatmap": [
           {
            "colorbar": {
             "outlinewidth": 0,
             "ticks": ""
            },
            "colorscale": [
             [
              0,
              "#0d0887"
             ],
             [
              0.1111111111111111,
              "#46039f"
             ],
             [
              0.2222222222222222,
              "#7201a8"
             ],
             [
              0.3333333333333333,
              "#9c179e"
             ],
             [
              0.4444444444444444,
              "#bd3786"
             ],
             [
              0.5555555555555556,
              "#d8576b"
             ],
             [
              0.6666666666666666,
              "#ed7953"
             ],
             [
              0.7777777777777778,
              "#fb9f3a"
             ],
             [
              0.8888888888888888,
              "#fdca26"
             ],
             [
              1,
              "#f0f921"
             ]
            ],
            "type": "heatmap"
           }
          ],
          "heatmapgl": [
           {
            "colorbar": {
             "outlinewidth": 0,
             "ticks": ""
            },
            "colorscale": [
             [
              0,
              "#0d0887"
             ],
             [
              0.1111111111111111,
              "#46039f"
             ],
             [
              0.2222222222222222,
              "#7201a8"
             ],
             [
              0.3333333333333333,
              "#9c179e"
             ],
             [
              0.4444444444444444,
              "#bd3786"
             ],
             [
              0.5555555555555556,
              "#d8576b"
             ],
             [
              0.6666666666666666,
              "#ed7953"
             ],
             [
              0.7777777777777778,
              "#fb9f3a"
             ],
             [
              0.8888888888888888,
              "#fdca26"
             ],
             [
              1,
              "#f0f921"
             ]
            ],
            "type": "heatmapgl"
           }
          ],
          "histogram": [
           {
            "marker": {
             "pattern": {
              "fillmode": "overlay",
              "size": 10,
              "solidity": 0.2
             }
            },
            "type": "histogram"
           }
          ],
          "histogram2d": [
           {
            "colorbar": {
             "outlinewidth": 0,
             "ticks": ""
            },
            "colorscale": [
             [
              0,
              "#0d0887"
             ],
             [
              0.1111111111111111,
              "#46039f"
             ],
             [
              0.2222222222222222,
              "#7201a8"
             ],
             [
              0.3333333333333333,
              "#9c179e"
             ],
             [
              0.4444444444444444,
              "#bd3786"
             ],
             [
              0.5555555555555556,
              "#d8576b"
             ],
             [
              0.6666666666666666,
              "#ed7953"
             ],
             [
              0.7777777777777778,
              "#fb9f3a"
             ],
             [
              0.8888888888888888,
              "#fdca26"
             ],
             [
              1,
              "#f0f921"
             ]
            ],
            "type": "histogram2d"
           }
          ],
          "histogram2dcontour": [
           {
            "colorbar": {
             "outlinewidth": 0,
             "ticks": ""
            },
            "colorscale": [
             [
              0,
              "#0d0887"
             ],
             [
              0.1111111111111111,
              "#46039f"
             ],
             [
              0.2222222222222222,
              "#7201a8"
             ],
             [
              0.3333333333333333,
              "#9c179e"
             ],
             [
              0.4444444444444444,
              "#bd3786"
             ],
             [
              0.5555555555555556,
              "#d8576b"
             ],
             [
              0.6666666666666666,
              "#ed7953"
             ],
             [
              0.7777777777777778,
              "#fb9f3a"
             ],
             [
              0.8888888888888888,
              "#fdca26"
             ],
             [
              1,
              "#f0f921"
             ]
            ],
            "type": "histogram2dcontour"
           }
          ],
          "mesh3d": [
           {
            "colorbar": {
             "outlinewidth": 0,
             "ticks": ""
            },
            "type": "mesh3d"
           }
          ],
          "parcoords": [
           {
            "line": {
             "colorbar": {
              "outlinewidth": 0,
              "ticks": ""
             }
            },
            "type": "parcoords"
           }
          ],
          "pie": [
           {
            "automargin": true,
            "type": "pie"
           }
          ],
          "scatter": [
           {
            "fillpattern": {
             "fillmode": "overlay",
             "size": 10,
             "solidity": 0.2
            },
            "type": "scatter"
           }
          ],
          "scatter3d": [
           {
            "line": {
             "colorbar": {
              "outlinewidth": 0,
              "ticks": ""
             }
            },
            "marker": {
             "colorbar": {
              "outlinewidth": 0,
              "ticks": ""
             }
            },
            "type": "scatter3d"
           }
          ],
          "scattercarpet": [
           {
            "marker": {
             "colorbar": {
              "outlinewidth": 0,
              "ticks": ""
             }
            },
            "type": "scattercarpet"
           }
          ],
          "scattergeo": [
           {
            "marker": {
             "colorbar": {
              "outlinewidth": 0,
              "ticks": ""
             }
            },
            "type": "scattergeo"
           }
          ],
          "scattergl": [
           {
            "marker": {
             "colorbar": {
              "outlinewidth": 0,
              "ticks": ""
             }
            },
            "type": "scattergl"
           }
          ],
          "scattermapbox": [
           {
            "marker": {
             "colorbar": {
              "outlinewidth": 0,
              "ticks": ""
             }
            },
            "type": "scattermapbox"
           }
          ],
          "scatterpolar": [
           {
            "marker": {
             "colorbar": {
              "outlinewidth": 0,
              "ticks": ""
             }
            },
            "type": "scatterpolar"
           }
          ],
          "scatterpolargl": [
           {
            "marker": {
             "colorbar": {
              "outlinewidth": 0,
              "ticks": ""
             }
            },
            "type": "scatterpolargl"
           }
          ],
          "scatterternary": [
           {
            "marker": {
             "colorbar": {
              "outlinewidth": 0,
              "ticks": ""
             }
            },
            "type": "scatterternary"
           }
          ],
          "surface": [
           {
            "colorbar": {
             "outlinewidth": 0,
             "ticks": ""
            },
            "colorscale": [
             [
              0,
              "#0d0887"
             ],
             [
              0.1111111111111111,
              "#46039f"
             ],
             [
              0.2222222222222222,
              "#7201a8"
             ],
             [
              0.3333333333333333,
              "#9c179e"
             ],
             [
              0.4444444444444444,
              "#bd3786"
             ],
             [
              0.5555555555555556,
              "#d8576b"
             ],
             [
              0.6666666666666666,
              "#ed7953"
             ],
             [
              0.7777777777777778,
              "#fb9f3a"
             ],
             [
              0.8888888888888888,
              "#fdca26"
             ],
             [
              1,
              "#f0f921"
             ]
            ],
            "type": "surface"
           }
          ],
          "table": [
           {
            "cells": {
             "fill": {
              "color": "#EBF0F8"
             },
             "line": {
              "color": "white"
             }
            },
            "header": {
             "fill": {
              "color": "#C8D4E3"
             },
             "line": {
              "color": "white"
             }
            },
            "type": "table"
           }
          ]
         },
         "layout": {
          "annotationdefaults": {
           "arrowcolor": "#2a3f5f",
           "arrowhead": 0,
           "arrowwidth": 1
          },
          "autotypenumbers": "strict",
          "coloraxis": {
           "colorbar": {
            "outlinewidth": 0,
            "ticks": ""
           }
          },
          "colorscale": {
           "diverging": [
            [
             0,
             "#8e0152"
            ],
            [
             0.1,
             "#c51b7d"
            ],
            [
             0.2,
             "#de77ae"
            ],
            [
             0.3,
             "#f1b6da"
            ],
            [
             0.4,
             "#fde0ef"
            ],
            [
             0.5,
             "#f7f7f7"
            ],
            [
             0.6,
             "#e6f5d0"
            ],
            [
             0.7,
             "#b8e186"
            ],
            [
             0.8,
             "#7fbc41"
            ],
            [
             0.9,
             "#4d9221"
            ],
            [
             1,
             "#276419"
            ]
           ],
           "sequential": [
            [
             0,
             "#0d0887"
            ],
            [
             0.1111111111111111,
             "#46039f"
            ],
            [
             0.2222222222222222,
             "#7201a8"
            ],
            [
             0.3333333333333333,
             "#9c179e"
            ],
            [
             0.4444444444444444,
             "#bd3786"
            ],
            [
             0.5555555555555556,
             "#d8576b"
            ],
            [
             0.6666666666666666,
             "#ed7953"
            ],
            [
             0.7777777777777778,
             "#fb9f3a"
            ],
            [
             0.8888888888888888,
             "#fdca26"
            ],
            [
             1,
             "#f0f921"
            ]
           ],
           "sequentialminus": [
            [
             0,
             "#0d0887"
            ],
            [
             0.1111111111111111,
             "#46039f"
            ],
            [
             0.2222222222222222,
             "#7201a8"
            ],
            [
             0.3333333333333333,
             "#9c179e"
            ],
            [
             0.4444444444444444,
             "#bd3786"
            ],
            [
             0.5555555555555556,
             "#d8576b"
            ],
            [
             0.6666666666666666,
             "#ed7953"
            ],
            [
             0.7777777777777778,
             "#fb9f3a"
            ],
            [
             0.8888888888888888,
             "#fdca26"
            ],
            [
             1,
             "#f0f921"
            ]
           ]
          },
          "colorway": [
           "#636efa",
           "#EF553B",
           "#00cc96",
           "#ab63fa",
           "#FFA15A",
           "#19d3f3",
           "#FF6692",
           "#B6E880",
           "#FF97FF",
           "#FECB52"
          ],
          "font": {
           "color": "#2a3f5f"
          },
          "geo": {
           "bgcolor": "white",
           "lakecolor": "white",
           "landcolor": "#E5ECF6",
           "showlakes": true,
           "showland": true,
           "subunitcolor": "white"
          },
          "hoverlabel": {
           "align": "left"
          },
          "hovermode": "closest",
          "mapbox": {
           "style": "light"
          },
          "paper_bgcolor": "white",
          "plot_bgcolor": "#E5ECF6",
          "polar": {
           "angularaxis": {
            "gridcolor": "white",
            "linecolor": "white",
            "ticks": ""
           },
           "bgcolor": "#E5ECF6",
           "radialaxis": {
            "gridcolor": "white",
            "linecolor": "white",
            "ticks": ""
           }
          },
          "scene": {
           "xaxis": {
            "backgroundcolor": "#E5ECF6",
            "gridcolor": "white",
            "gridwidth": 2,
            "linecolor": "white",
            "showbackground": true,
            "ticks": "",
            "zerolinecolor": "white"
           },
           "yaxis": {
            "backgroundcolor": "#E5ECF6",
            "gridcolor": "white",
            "gridwidth": 2,
            "linecolor": "white",
            "showbackground": true,
            "ticks": "",
            "zerolinecolor": "white"
           },
           "zaxis": {
            "backgroundcolor": "#E5ECF6",
            "gridcolor": "white",
            "gridwidth": 2,
            "linecolor": "white",
            "showbackground": true,
            "ticks": "",
            "zerolinecolor": "white"
           }
          },
          "shapedefaults": {
           "line": {
            "color": "#2a3f5f"
           }
          },
          "ternary": {
           "aaxis": {
            "gridcolor": "white",
            "linecolor": "white",
            "ticks": ""
           },
           "baxis": {
            "gridcolor": "white",
            "linecolor": "white",
            "ticks": ""
           },
           "bgcolor": "#E5ECF6",
           "caxis": {
            "gridcolor": "white",
            "linecolor": "white",
            "ticks": ""
           }
          },
          "title": {
           "x": 0.05
          },
          "xaxis": {
           "automargin": true,
           "gridcolor": "white",
           "linecolor": "white",
           "ticks": "",
           "title": {
            "standoff": 15
           },
           "zerolinecolor": "white",
           "zerolinewidth": 2
          },
          "yaxis": {
           "automargin": true,
           "gridcolor": "white",
           "linecolor": "white",
           "ticks": "",
           "title": {
            "standoff": 15
           },
           "zerolinecolor": "white",
           "zerolinewidth": 2
          }
         }
        },
        "title": {
         "font": {
          "size": 30
         },
         "text": "accuracy per epoch",
         "x": 0.5
        },
        "xaxis": {
         "title": {
          "font": {
           "size": 20
          },
          "text": "epoch"
         }
        },
        "yaxis": {
         "title": {
          "font": {
           "size": 20
          },
          "text": "accuracy"
         }
        }
       }
      }
     },
     "metadata": {},
     "output_type": "display_data"
    }
   ],
   "source": [
    "X_axis = list( range(500, 500 + len(CNN_model.history['accuracy'][0])*10, 10 ) )\n",
    "\n",
    "data = [go.Scatter(x=X_axis, y = CNN_model.history['accuracy'][0], name = 'accuracy'),\n",
    "        go.Scatter(x=X_axis, y = CNN_model.history['val_accuracy'][0], name = 'val_accuracy')]\n",
    "\n",
    "layout = go.Layout(\n",
    "    height = 1000,\n",
    "    title = dict(\n",
    "        text = 'accuracy per epoch',\n",
    "        font_size = 30,\n",
    "        x = .5\n",
    "    ),\n",
    "    xaxis_title = dict(\n",
    "        text = 'epoch',\n",
    "        font_size = 20\n",
    "    ),\n",
    "    yaxis_title = dict(\n",
    "        text = 'accuracy',\n",
    "        font_size = 20\n",
    "    ),\n",
    "    legend = dict(\n",
    "        x = 0.02, y = .98,\n",
    "        bgcolor = 'rgba(0,0,0,0)',\n",
    "        font_size = 20\n",
    "    ),\n",
    "    margin={'r':40}\n",
    ")\n",
    "go.Figure(data, layout)"
   ]
  },
  {
   "cell_type": "code",
   "execution_count": 14,
   "metadata": {},
   "outputs": [
    {
     "data": {
      "application/vnd.plotly.v1+json": {
       "config": {
        "plotlyServerURL": "https://plot.ly"
       },
       "data": [
        {
         "name": "loss",
         "type": "scatter",
         "x": [
          500,
          510,
          520,
          530,
          540,
          550,
          560,
          570,
          580,
          590,
          600,
          610,
          620,
          630,
          640,
          650,
          660,
          670,
          680,
          690,
          700,
          710,
          720,
          730,
          740,
          750,
          760,
          770,
          780,
          790,
          800,
          810,
          820,
          830,
          840,
          850,
          860,
          870,
          880,
          890,
          900,
          910,
          920,
          930,
          940,
          950,
          960,
          970,
          980,
          990,
          1000,
          1010,
          1020,
          1030,
          1040,
          1050,
          1060,
          1070,
          1080,
          1090,
          1100,
          1110,
          1120,
          1130
         ],
         "y": [
          1.5958337813353187,
          0.6629491663560131,
          0.1001477449065941,
          0.8990932855250826,
          0.6014821897452552,
          0.48747463567534427,
          1.0174273095650288,
          0.8364415445436792,
          0.9852438919860548,
          0.5350309072173602,
          1.0373783864586845,
          0.3136892001360566,
          0.43810708505097223,
          1.106120572167235,
          1.006113167017382,
          0.491065831112002,
          0.9713919740724533,
          1.551311240181085,
          0.6358207533722957,
          0.9224937047229987,
          0.9658181441967338,
          0.6432434371961013,
          0.4838537139989672,
          1.3129932695416062,
          0.7127158634101791,
          0.46804077303711455,
          0.406220413496919,
          1.379665323000681,
          1.1889729966054567,
          0.8661500801363621,
          0.9197654460857227,
          0.3880180610164479,
          0.7302324062506924,
          1.6820318925102367,
          0.8427680463747714,
          0.5503107758465641,
          0.4960437912674395,
          1.1403744724108686,
          0.9487186521475991,
          1.1257144978468483,
          1.9601422483309254,
          1.4134148919462586,
          0.910336999939997,
          0.6267515650527906,
          1.439407141961674,
          0.6545972479561318,
          0.4494110545260859,
          1.315297636865462,
          1.1333930997269506,
          0.7366202985506446,
          1.4025621899169034,
          0.7085066790596789,
          0.6738007644229528,
          0.539309095285484,
          1.0762366704794553,
          1.1425371167390055,
          0.6694110915579305,
          0.7218443276497807,
          0.9679473236358904,
          0.6228210658928841,
          0.9125515252131675,
          0.22649213119154785,
          0.4706279116769868,
          0.27909401036743775
         ]
        },
        {
         "name": "val_loss",
         "type": "scatter",
         "x": [
          500,
          510,
          520,
          530,
          540,
          550,
          560,
          570,
          580,
          590,
          600,
          610,
          620,
          630,
          640,
          650,
          660,
          670,
          680,
          690,
          700,
          710,
          720,
          730,
          740,
          750,
          760,
          770,
          780,
          790,
          800,
          810,
          820,
          830,
          840,
          850,
          860,
          870,
          880,
          890,
          900,
          910,
          920,
          930,
          940,
          950,
          960,
          970,
          980,
          990,
          1000,
          1010,
          1020,
          1030,
          1040,
          1050,
          1060,
          1070,
          1080,
          1090,
          1100,
          1110,
          1120,
          1130
         ],
         "y": [
          0.9436943047159507,
          0.9213133501470855,
          0.9014107532458574,
          0.8700591479651408,
          0.8715875286029812,
          0.879053308583981,
          0.9500980562744243,
          0.9213888530085709,
          0.8937402079598622,
          0.9171927349169955,
          0.925449436730952,
          0.922750376065469,
          0.8916509332050756,
          0.9153115094039785,
          0.8891726717580619,
          0.9338302194595478,
          0.8692670049231955,
          0.8287702791224622,
          0.8082063916499972,
          0.8375029841285687,
          0.8821653412720721,
          0.829903053853501,
          0.8425782817372537,
          0.839412471545147,
          0.9161516189151735,
          0.9288401194820718,
          0.8775217363685192,
          0.8516494495608591,
          0.8598041977882874,
          0.8005840242721813,
          0.9018969174104019,
          0.9247596869387864,
          0.8145961154829334,
          0.8927303997271449,
          0.8645154363176598,
          0.8745712483098801,
          0.8328574200299257,
          0.8110300424010022,
          0.8829459075166831,
          0.8845870940540719,
          0.931345204325943,
          0.8946515484168159,
          0.8448797137886191,
          0.8151542691748622,
          0.8281114004672717,
          0.8069560882841459,
          0.8317288255380622,
          0.7786950385327237,
          0.8049706988899189,
          0.8317428016226704,
          0.8379150113951553,
          0.8597457806328183,
          0.8722900583328785,
          0.8391975480135113,
          0.7906819527176658,
          0.8459414810308604,
          0.8449770299007916,
          0.8327543430890658,
          0.8297007554166537,
          0.8152092977374656,
          0.8192984199475346,
          0.8142177050611095,
          0.8350801099538282,
          0.8906752799203279
         ]
        }
       ],
       "layout": {
        "height": 1000,
        "legend": {
         "bgcolor": "rgba(0,0,0,0)",
         "font": {
          "size": 20
         },
         "x": 0.02,
         "y": 0.98
        },
        "margin": {
         "r": 0
        },
        "template": {
         "data": {
          "bar": [
           {
            "error_x": {
             "color": "#2a3f5f"
            },
            "error_y": {
             "color": "#2a3f5f"
            },
            "marker": {
             "line": {
              "color": "#E5ECF6",
              "width": 0.5
             },
             "pattern": {
              "fillmode": "overlay",
              "size": 10,
              "solidity": 0.2
             }
            },
            "type": "bar"
           }
          ],
          "barpolar": [
           {
            "marker": {
             "line": {
              "color": "#E5ECF6",
              "width": 0.5
             },
             "pattern": {
              "fillmode": "overlay",
              "size": 10,
              "solidity": 0.2
             }
            },
            "type": "barpolar"
           }
          ],
          "carpet": [
           {
            "aaxis": {
             "endlinecolor": "#2a3f5f",
             "gridcolor": "white",
             "linecolor": "white",
             "minorgridcolor": "white",
             "startlinecolor": "#2a3f5f"
            },
            "baxis": {
             "endlinecolor": "#2a3f5f",
             "gridcolor": "white",
             "linecolor": "white",
             "minorgridcolor": "white",
             "startlinecolor": "#2a3f5f"
            },
            "type": "carpet"
           }
          ],
          "choropleth": [
           {
            "colorbar": {
             "outlinewidth": 0,
             "ticks": ""
            },
            "type": "choropleth"
           }
          ],
          "contour": [
           {
            "colorbar": {
             "outlinewidth": 0,
             "ticks": ""
            },
            "colorscale": [
             [
              0,
              "#0d0887"
             ],
             [
              0.1111111111111111,
              "#46039f"
             ],
             [
              0.2222222222222222,
              "#7201a8"
             ],
             [
              0.3333333333333333,
              "#9c179e"
             ],
             [
              0.4444444444444444,
              "#bd3786"
             ],
             [
              0.5555555555555556,
              "#d8576b"
             ],
             [
              0.6666666666666666,
              "#ed7953"
             ],
             [
              0.7777777777777778,
              "#fb9f3a"
             ],
             [
              0.8888888888888888,
              "#fdca26"
             ],
             [
              1,
              "#f0f921"
             ]
            ],
            "type": "contour"
           }
          ],
          "contourcarpet": [
           {
            "colorbar": {
             "outlinewidth": 0,
             "ticks": ""
            },
            "type": "contourcarpet"
           }
          ],
          "heatmap": [
           {
            "colorbar": {
             "outlinewidth": 0,
             "ticks": ""
            },
            "colorscale": [
             [
              0,
              "#0d0887"
             ],
             [
              0.1111111111111111,
              "#46039f"
             ],
             [
              0.2222222222222222,
              "#7201a8"
             ],
             [
              0.3333333333333333,
              "#9c179e"
             ],
             [
              0.4444444444444444,
              "#bd3786"
             ],
             [
              0.5555555555555556,
              "#d8576b"
             ],
             [
              0.6666666666666666,
              "#ed7953"
             ],
             [
              0.7777777777777778,
              "#fb9f3a"
             ],
             [
              0.8888888888888888,
              "#fdca26"
             ],
             [
              1,
              "#f0f921"
             ]
            ],
            "type": "heatmap"
           }
          ],
          "heatmapgl": [
           {
            "colorbar": {
             "outlinewidth": 0,
             "ticks": ""
            },
            "colorscale": [
             [
              0,
              "#0d0887"
             ],
             [
              0.1111111111111111,
              "#46039f"
             ],
             [
              0.2222222222222222,
              "#7201a8"
             ],
             [
              0.3333333333333333,
              "#9c179e"
             ],
             [
              0.4444444444444444,
              "#bd3786"
             ],
             [
              0.5555555555555556,
              "#d8576b"
             ],
             [
              0.6666666666666666,
              "#ed7953"
             ],
             [
              0.7777777777777778,
              "#fb9f3a"
             ],
             [
              0.8888888888888888,
              "#fdca26"
             ],
             [
              1,
              "#f0f921"
             ]
            ],
            "type": "heatmapgl"
           }
          ],
          "histogram": [
           {
            "marker": {
             "pattern": {
              "fillmode": "overlay",
              "size": 10,
              "solidity": 0.2
             }
            },
            "type": "histogram"
           }
          ],
          "histogram2d": [
           {
            "colorbar": {
             "outlinewidth": 0,
             "ticks": ""
            },
            "colorscale": [
             [
              0,
              "#0d0887"
             ],
             [
              0.1111111111111111,
              "#46039f"
             ],
             [
              0.2222222222222222,
              "#7201a8"
             ],
             [
              0.3333333333333333,
              "#9c179e"
             ],
             [
              0.4444444444444444,
              "#bd3786"
             ],
             [
              0.5555555555555556,
              "#d8576b"
             ],
             [
              0.6666666666666666,
              "#ed7953"
             ],
             [
              0.7777777777777778,
              "#fb9f3a"
             ],
             [
              0.8888888888888888,
              "#fdca26"
             ],
             [
              1,
              "#f0f921"
             ]
            ],
            "type": "histogram2d"
           }
          ],
          "histogram2dcontour": [
           {
            "colorbar": {
             "outlinewidth": 0,
             "ticks": ""
            },
            "colorscale": [
             [
              0,
              "#0d0887"
             ],
             [
              0.1111111111111111,
              "#46039f"
             ],
             [
              0.2222222222222222,
              "#7201a8"
             ],
             [
              0.3333333333333333,
              "#9c179e"
             ],
             [
              0.4444444444444444,
              "#bd3786"
             ],
             [
              0.5555555555555556,
              "#d8576b"
             ],
             [
              0.6666666666666666,
              "#ed7953"
             ],
             [
              0.7777777777777778,
              "#fb9f3a"
             ],
             [
              0.8888888888888888,
              "#fdca26"
             ],
             [
              1,
              "#f0f921"
             ]
            ],
            "type": "histogram2dcontour"
           }
          ],
          "mesh3d": [
           {
            "colorbar": {
             "outlinewidth": 0,
             "ticks": ""
            },
            "type": "mesh3d"
           }
          ],
          "parcoords": [
           {
            "line": {
             "colorbar": {
              "outlinewidth": 0,
              "ticks": ""
             }
            },
            "type": "parcoords"
           }
          ],
          "pie": [
           {
            "automargin": true,
            "type": "pie"
           }
          ],
          "scatter": [
           {
            "fillpattern": {
             "fillmode": "overlay",
             "size": 10,
             "solidity": 0.2
            },
            "type": "scatter"
           }
          ],
          "scatter3d": [
           {
            "line": {
             "colorbar": {
              "outlinewidth": 0,
              "ticks": ""
             }
            },
            "marker": {
             "colorbar": {
              "outlinewidth": 0,
              "ticks": ""
             }
            },
            "type": "scatter3d"
           }
          ],
          "scattercarpet": [
           {
            "marker": {
             "colorbar": {
              "outlinewidth": 0,
              "ticks": ""
             }
            },
            "type": "scattercarpet"
           }
          ],
          "scattergeo": [
           {
            "marker": {
             "colorbar": {
              "outlinewidth": 0,
              "ticks": ""
             }
            },
            "type": "scattergeo"
           }
          ],
          "scattergl": [
           {
            "marker": {
             "colorbar": {
              "outlinewidth": 0,
              "ticks": ""
             }
            },
            "type": "scattergl"
           }
          ],
          "scattermapbox": [
           {
            "marker": {
             "colorbar": {
              "outlinewidth": 0,
              "ticks": ""
             }
            },
            "type": "scattermapbox"
           }
          ],
          "scatterpolar": [
           {
            "marker": {
             "colorbar": {
              "outlinewidth": 0,
              "ticks": ""
             }
            },
            "type": "scatterpolar"
           }
          ],
          "scatterpolargl": [
           {
            "marker": {
             "colorbar": {
              "outlinewidth": 0,
              "ticks": ""
             }
            },
            "type": "scatterpolargl"
           }
          ],
          "scatterternary": [
           {
            "marker": {
             "colorbar": {
              "outlinewidth": 0,
              "ticks": ""
             }
            },
            "type": "scatterternary"
           }
          ],
          "surface": [
           {
            "colorbar": {
             "outlinewidth": 0,
             "ticks": ""
            },
            "colorscale": [
             [
              0,
              "#0d0887"
             ],
             [
              0.1111111111111111,
              "#46039f"
             ],
             [
              0.2222222222222222,
              "#7201a8"
             ],
             [
              0.3333333333333333,
              "#9c179e"
             ],
             [
              0.4444444444444444,
              "#bd3786"
             ],
             [
              0.5555555555555556,
              "#d8576b"
             ],
             [
              0.6666666666666666,
              "#ed7953"
             ],
             [
              0.7777777777777778,
              "#fb9f3a"
             ],
             [
              0.8888888888888888,
              "#fdca26"
             ],
             [
              1,
              "#f0f921"
             ]
            ],
            "type": "surface"
           }
          ],
          "table": [
           {
            "cells": {
             "fill": {
              "color": "#EBF0F8"
             },
             "line": {
              "color": "white"
             }
            },
            "header": {
             "fill": {
              "color": "#C8D4E3"
             },
             "line": {
              "color": "white"
             }
            },
            "type": "table"
           }
          ]
         },
         "layout": {
          "annotationdefaults": {
           "arrowcolor": "#2a3f5f",
           "arrowhead": 0,
           "arrowwidth": 1
          },
          "autotypenumbers": "strict",
          "coloraxis": {
           "colorbar": {
            "outlinewidth": 0,
            "ticks": ""
           }
          },
          "colorscale": {
           "diverging": [
            [
             0,
             "#8e0152"
            ],
            [
             0.1,
             "#c51b7d"
            ],
            [
             0.2,
             "#de77ae"
            ],
            [
             0.3,
             "#f1b6da"
            ],
            [
             0.4,
             "#fde0ef"
            ],
            [
             0.5,
             "#f7f7f7"
            ],
            [
             0.6,
             "#e6f5d0"
            ],
            [
             0.7,
             "#b8e186"
            ],
            [
             0.8,
             "#7fbc41"
            ],
            [
             0.9,
             "#4d9221"
            ],
            [
             1,
             "#276419"
            ]
           ],
           "sequential": [
            [
             0,
             "#0d0887"
            ],
            [
             0.1111111111111111,
             "#46039f"
            ],
            [
             0.2222222222222222,
             "#7201a8"
            ],
            [
             0.3333333333333333,
             "#9c179e"
            ],
            [
             0.4444444444444444,
             "#bd3786"
            ],
            [
             0.5555555555555556,
             "#d8576b"
            ],
            [
             0.6666666666666666,
             "#ed7953"
            ],
            [
             0.7777777777777778,
             "#fb9f3a"
            ],
            [
             0.8888888888888888,
             "#fdca26"
            ],
            [
             1,
             "#f0f921"
            ]
           ],
           "sequentialminus": [
            [
             0,
             "#0d0887"
            ],
            [
             0.1111111111111111,
             "#46039f"
            ],
            [
             0.2222222222222222,
             "#7201a8"
            ],
            [
             0.3333333333333333,
             "#9c179e"
            ],
            [
             0.4444444444444444,
             "#bd3786"
            ],
            [
             0.5555555555555556,
             "#d8576b"
            ],
            [
             0.6666666666666666,
             "#ed7953"
            ],
            [
             0.7777777777777778,
             "#fb9f3a"
            ],
            [
             0.8888888888888888,
             "#fdca26"
            ],
            [
             1,
             "#f0f921"
            ]
           ]
          },
          "colorway": [
           "#636efa",
           "#EF553B",
           "#00cc96",
           "#ab63fa",
           "#FFA15A",
           "#19d3f3",
           "#FF6692",
           "#B6E880",
           "#FF97FF",
           "#FECB52"
          ],
          "font": {
           "color": "#2a3f5f"
          },
          "geo": {
           "bgcolor": "white",
           "lakecolor": "white",
           "landcolor": "#E5ECF6",
           "showlakes": true,
           "showland": true,
           "subunitcolor": "white"
          },
          "hoverlabel": {
           "align": "left"
          },
          "hovermode": "closest",
          "mapbox": {
           "style": "light"
          },
          "paper_bgcolor": "white",
          "plot_bgcolor": "#E5ECF6",
          "polar": {
           "angularaxis": {
            "gridcolor": "white",
            "linecolor": "white",
            "ticks": ""
           },
           "bgcolor": "#E5ECF6",
           "radialaxis": {
            "gridcolor": "white",
            "linecolor": "white",
            "ticks": ""
           }
          },
          "scene": {
           "xaxis": {
            "backgroundcolor": "#E5ECF6",
            "gridcolor": "white",
            "gridwidth": 2,
            "linecolor": "white",
            "showbackground": true,
            "ticks": "",
            "zerolinecolor": "white"
           },
           "yaxis": {
            "backgroundcolor": "#E5ECF6",
            "gridcolor": "white",
            "gridwidth": 2,
            "linecolor": "white",
            "showbackground": true,
            "ticks": "",
            "zerolinecolor": "white"
           },
           "zaxis": {
            "backgroundcolor": "#E5ECF6",
            "gridcolor": "white",
            "gridwidth": 2,
            "linecolor": "white",
            "showbackground": true,
            "ticks": "",
            "zerolinecolor": "white"
           }
          },
          "shapedefaults": {
           "line": {
            "color": "#2a3f5f"
           }
          },
          "ternary": {
           "aaxis": {
            "gridcolor": "white",
            "linecolor": "white",
            "ticks": ""
           },
           "baxis": {
            "gridcolor": "white",
            "linecolor": "white",
            "ticks": ""
           },
           "bgcolor": "#E5ECF6",
           "caxis": {
            "gridcolor": "white",
            "linecolor": "white",
            "ticks": ""
           }
          },
          "title": {
           "x": 0.05
          },
          "xaxis": {
           "automargin": true,
           "gridcolor": "white",
           "linecolor": "white",
           "ticks": "",
           "title": {
            "standoff": 15
           },
           "zerolinecolor": "white",
           "zerolinewidth": 2
          },
          "yaxis": {
           "automargin": true,
           "gridcolor": "white",
           "linecolor": "white",
           "ticks": "",
           "title": {
            "standoff": 15
           },
           "zerolinecolor": "white",
           "zerolinewidth": 2
          }
         }
        },
        "title": {
         "font": {
          "size": 30
         },
         "text": "loss per epoch",
         "x": 0.5
        },
        "xaxis": {
         "title": {
          "font": {
           "size": 20
          },
          "text": "epoch"
         }
        },
        "yaxis": {
         "title": {
          "font": {
           "size": 20
          },
          "text": "loss"
         }
        }
       }
      }
     },
     "metadata": {},
     "output_type": "display_data"
    }
   ],
   "source": [
    "data = [go.Scatter(x=X_axis, y = CNN_model.history['loss'][0], name = 'loss'),\n",
    "        go.Scatter(x=X_axis, y = CNN_model.history['val_loss'][0], name = 'val_loss')]\n",
    "\n",
    "layout = go.Layout(\n",
    "    height = 1000,\n",
    "    title = dict(\n",
    "        text = 'loss per epoch',\n",
    "        font_size = 30,\n",
    "        x = .5\n",
    "    ),\n",
    "    xaxis_title = dict(\n",
    "        text = 'epoch',\n",
    "        font_size = 20\n",
    "    ),\n",
    "    yaxis_title = dict(\n",
    "        text = 'loss',\n",
    "        font_size = 20\n",
    "    ),\n",
    "    legend = dict(\n",
    "        x = 0.02, y = .98,\n",
    "        bgcolor = 'rgba(0,0,0,0)',\n",
    "        font_size = 20\n",
    "    ),\n",
    "    margin={'r':0}\n",
    ")\n",
    "go.Figure(data, layout)"
   ]
  },
  {
   "cell_type": "code",
   "execution_count": 15,
   "metadata": {},
   "outputs": [
    {
     "data": {
      "text/plain": [
       "0.7"
      ]
     },
     "execution_count": 15,
     "metadata": {},
     "output_type": "execute_result"
    }
   ],
   "source": [
    "predictions = CNN_model.predict(X_test[:100])\n",
    "accuracy_score(np.argmax(y_test[:100], 1), predictions)"
   ]
  }
 ],
 "metadata": {
  "kernelspec": {
   "display_name": "university",
   "language": "python",
   "name": "python3"
  },
  "language_info": {
   "codemirror_mode": {
    "name": "ipython",
    "version": 3
   },
   "file_extension": ".py",
   "mimetype": "text/x-python",
   "name": "python",
   "nbconvert_exporter": "python",
   "pygments_lexer": "ipython3",
   "version": "3.11.4"
  },
  "orig_nbformat": 4
 },
 "nbformat": 4,
 "nbformat_minor": 2
}

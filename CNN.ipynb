{
 "cells": [
  {
   "cell_type": "markdown",
   "metadata": {},
   "source": [
    "# Essential"
   ]
  },
  {
   "cell_type": "markdown",
   "metadata": {},
   "source": [
    "## import packages"
   ]
  },
  {
   "cell_type": "code",
   "execution_count": 1,
   "metadata": {},
   "outputs": [],
   "source": [
    "import numpy as np\n",
    "import idx2numpy\n",
    "\n",
    "import matplotlib.pyplot as plt\n",
    "import plotly.graph_objects as go\n",
    "import seaborn as sns\n",
    "\n",
    "from sklearn.metrics import accuracy_score\n",
    "from sklearn.preprocessing import OneHotEncoder\n",
    "\n",
    "from scipy import interpolate\n",
    "\n",
    "import time"
   ]
  },
  {
   "cell_type": "markdown",
   "metadata": {},
   "source": [
    "## execution time wrapper"
   ]
  },
  {
   "cell_type": "code",
   "execution_count": 2,
   "metadata": {},
   "outputs": [],
   "source": [
    "def calculate_execution_time(func):\n",
    "    def wrapper(*args, **kwargs):\n",
    "        start_time = time.time()\n",
    "        result = func(*args, **kwargs)\n",
    "        end_time = time.time()\n",
    "        print(f\"Execution time of {func.__name__}: {end_time - start_time} seconds\")\n",
    "        return result\n",
    "    return wrapper"
   ]
  },
  {
   "cell_type": "markdown",
   "metadata": {},
   "source": [
    "## class for the Activation functions"
   ]
  },
  {
   "cell_type": "code",
   "execution_count": 3,
   "metadata": {},
   "outputs": [],
   "source": [
    "class Activation:\n",
    "    def __init__(self, name, alpha=1):\n",
    "        self.name = name\n",
    "        if name == 'sigmoid':\n",
    "            self.function = self.exponent\n",
    "            self.derivative = self.exponent_der\n",
    "        elif name == 'tanh':\n",
    "            self.function = lambda x: np.tanh(x)\n",
    "            self.derivative = lambda x: 1 - np.square(np.tanh(x))\n",
    "        elif name == 'softmax':\n",
    "            self.function = self.softmax\n",
    "            self.derivative = self.softmax_der\n",
    "        elif name == 'relu':\n",
    "            self.function = lambda x: np.maximum(0, x)\n",
    "            self.derivative = lambda x: x >= 0\n",
    "        elif name == 'lrelu':\n",
    "            self.function = lambda x: np.maximum(0.0001, x) \n",
    "            self.derivative = lambda x: np.where(x >= 0, 1, 0.0001)\n",
    "        elif name == 'elu':\n",
    "            self.function = lambda x: np.where(x >= 0, x, alpha*(np.exp(x) - 1))\n",
    "            self.derivative = lambda x: np.where(x >= 0, 1, self.function(x) + alpha)\n",
    "        \n",
    "    def exponent(self, x):\n",
    "        shift_x = x - np.max(x)\n",
    "        return 1/(1 + np.exp(-shift_x))\n",
    "    \n",
    "    def exponent_der(self, x):\n",
    "        exps = self.exponent(x)\n",
    "        return exps * (1 - exps)\n",
    "    \n",
    "    def softmax(self, x):\n",
    "        shift_x = x - np.max(x)\n",
    "        exps = np.exp(shift_x)\n",
    "        return exps/np.sum(exps)\n",
    "    \n",
    "    def softmax_der(self, x):\n",
    "        array = self.softmax(x).reshape(-1,1)\n",
    "        return np.diagflat(array) - np.dot(array, array.T)"
   ]
  },
  {
   "cell_type": "markdown",
   "metadata": {},
   "source": [
    "# Model creation"
   ]
  },
  {
   "cell_type": "markdown",
   "metadata": {},
   "source": [
    "## Convolution layer"
   ]
  },
  {
   "cell_type": "code",
   "execution_count": 4,
   "metadata": {},
   "outputs": [],
   "source": [
    "class Conv:\n",
    "\n",
    "    def __init__(self, num_filters = 3, size = 3, stride = 1, activation = 'relu'):\n",
    "        self.next_layer = None\n",
    "        self.num_filters = num_filters\n",
    "        self.size = size\n",
    "        self.stride = stride\n",
    "        self.activation = Activation(activation)\n",
    "\n",
    "        self.filters = np.random.randn(num_filters, size, size) / 10\n",
    "    \n",
    "    def add_layer(self, child):\n",
    "        self.next_layer = child\n",
    "        return self\n",
    "    \n",
    "    # @calculate_execution_time            \n",
    "    def forward(self, image):\n",
    "        self.last_input = image\n",
    "        input_dimension = image.shape[1]\n",
    "        output_dimension = int((input_dimension - self.size) / self.stride) + 1\n",
    "        output = np.zeros((self.filters.shape[0], output_dimension, output_dimension))\n",
    "        \n",
    "        for f in range(self.num_filters):\n",
    "            current_y = output_y = 0\n",
    "            \n",
    "            while current_y + self.size <= input_dimension:\n",
    "                current_x = output_x = 0\n",
    "                \n",
    "                while current_x + self.size <= input_dimension:\n",
    "                    patch = image[:, current_y:current_y + self.size, current_x:current_x + self.size]\n",
    "                    output[f, output_y, output_x] = np.sum(self.filters[f] * patch)\n",
    "                    current_x += self.stride\n",
    "                    output_x += 1\n",
    "                    \n",
    "                current_y += self.stride\n",
    "                output_y += 1\n",
    "        \n",
    "        output = self.last_output = self.activation.function(output)\n",
    "        return output\n",
    "    \n",
    "    # @calculate_execution_time\n",
    "    def backward(self, out_prev, lr):\n",
    "        out_prev = np.clip(out_prev, -1e+5, 1e+5)\n",
    "        input_dimension = self.last_input.shape[1]\n",
    "        \n",
    "        out_prev = out_prev * self.last_output\n",
    "        \n",
    "        out_next = np.zeros(self.last_input.shape)\n",
    "        dfilt = np.zeros(self.filters.shape)\n",
    "        \n",
    "        for f in range(self.filters.shape[0]):\n",
    "            current_y = output_y = 0\n",
    "            \n",
    "            while current_y + self.size <= input_dimension:\n",
    "                current_x = output_x = 0\n",
    "                \n",
    "                while current_x + self.size <= input_dimension:\n",
    "                    patch = self.last_input[:, current_y:current_y + self.size, current_x:current_x + self.size]\n",
    "                    dfilt[f] += np.sum(out_prev[f, output_y, output_x] * patch, axis=0)\n",
    "                    out_next[:, current_y:current_y + self.size, current_x:current_x + self.size] += out_prev[f, output_y, output_x] * self.filters[f]\n",
    "                    current_x += self.stride\n",
    "                    output_x += 1\n",
    "                    \n",
    "                current_y += self.stride\n",
    "                output_y += 1\n",
    "                \n",
    "        self.filters -= lr * dfilt\n",
    "        return out_next"
   ]
  },
  {
   "cell_type": "markdown",
   "metadata": {},
   "source": [
    "## Pool method"
   ]
  },
  {
   "cell_type": "code",
   "execution_count": 5,
   "metadata": {},
   "outputs": [],
   "source": [
    "class MaxPool:\n",
    "    \n",
    "    def __init__(self, size = 2, stride = 2, activation = 'relu'):\n",
    "        self.next_layer = None\n",
    "        self.stride = stride\n",
    "        self.size = size\n",
    "        self.activation = Activation(activation)\n",
    "    \n",
    "    def add_layer(self, child):\n",
    "        self.next_layer = child\n",
    "        return self\n",
    "    \n",
    "    # @calculate_execution_time            \n",
    "    def forward(self, image):\n",
    "        self.last_input = image\n",
    "        \n",
    "        nfilt, h_prev, w_prev = image.shape\n",
    "        h = int((h_prev - self.size) / self.stride) + 1\n",
    "        w = int((w_prev - self.size) / self.stride) + 1\n",
    "        \n",
    "        downscaled = np.zeros((nfilt, h, w))\n",
    "        \n",
    "        for i in range(nfilt):\n",
    "            curr_y = output_y = 0\n",
    "            \n",
    "            while curr_y + self.size <= h_prev:\n",
    "                curr_x = output_x = 0\n",
    "                \n",
    "                while curr_x + self.size <= w_prev:\n",
    "                    patch = image[i, curr_y:curr_y + self.size, curr_x:curr_x + self.size]\n",
    "                    downscaled[i, output_y, output_x] = np.max(patch)\n",
    "                    curr_x += self.stride\n",
    "                    output_x += 1\n",
    "                    \n",
    "                curr_y += self.stride\n",
    "                output_y += 1\n",
    "                \n",
    "        return downscaled\n",
    "    # @calculate_execution_time\n",
    "    def backward(self, out_prev, learning_rate):\n",
    "        out_prev = np.clip(out_prev, -1e+5, 1e+5)\n",
    "        out_next = np.zeros(self.last_input.shape)\n",
    "\n",
    "        nfilt, shape, _ = self.last_input.shape\n",
    "        \n",
    "        for c in range(nfilt):\n",
    "            current_y = output_y = 0\n",
    "            while current_y + self.size <= shape:\n",
    "                current_x = output_x = 0\n",
    "                while current_x + self.size <= shape:\n",
    "                    patch = self.last_input[c, current_y:current_y + self.size, current_x:current_x + self.size]\n",
    "                    (x, y) = np.unravel_index(np.nanargmax(patch), patch.shape)\n",
    "                    out_next[c, current_y + x, current_x + y] += out_prev[c, output_y, output_x]\n",
    "                    current_x += self.stride\n",
    "                    output_x += 1\n",
    "                current_y += self.stride\n",
    "                output_y += 1\n",
    "        return out_next"
   ]
  },
  {
   "cell_type": "markdown",
   "metadata": {},
   "source": [
    "## Dense Layer"
   ]
  },
  {
   "cell_type": "code",
   "execution_count": 6,
   "metadata": {},
   "outputs": [],
   "source": [
    "class Dense():\n",
    "    def __init__(self, n_inputs, n_neurons, activation):\n",
    "        self.next_layer = None\n",
    "        # self.weights = np.random.uniform(size=(n_inputs, n_neurons)) - 0.5\n",
    "        # self.biases = np.random.uniform(size=(n_neurons,)) - 0.5\n",
    "        \n",
    "        # self.weights = np.random.normal(loc=0, scale=np.sqrt(2/n_inputs), size=(n_inputs, n_neurons))\n",
    "        # self.biases = np.random.normal(loc=0, scale=np.sqrt(2/n_inputs), size=(n_neurons))\n",
    "        \n",
    "        self.weights = np.random.randn(n_inputs, n_neurons) / 10\n",
    "        self.biases = np.random.randn(n_neurons) / 10\n",
    "        \n",
    "        self.activation = Activation(activation)\n",
    "\n",
    "    def add_layer(self, child):\n",
    "        self.next_layer = child\n",
    "        return self\n",
    "    \n",
    "    # @calculate_execution_time\n",
    "    def forward(self, image):\n",
    "        self.last_input_shape = image.shape\n",
    "        image = image.flatten()\n",
    "        output = np.dot(image, self.weights) + self.biases\n",
    "        self.last_input = image\n",
    "        self.last_output = output\n",
    "        return self.activation.function(output)\n",
    "    \n",
    "    # @calculate_execution_time\n",
    "    def backward(self, out_prev, learning_rate):\n",
    "        out_prev = np.clip(out_prev, -1e+5, 1e+5)\n",
    "        \n",
    "        if self.next_layer is None:\n",
    "            dW = out_prev[:, np.newaxis]\n",
    "        else:\n",
    "            dW = out_prev[:, np.newaxis] * self.activation.derivative(self.last_output)[:, np.newaxis]\n",
    "        dW = (dW * self.last_input[np.newaxis, :]).T\n",
    "        db = np.copy(out_prev)\n",
    "        out_next = self.weights @ out_prev\n",
    "        self.weights -= learning_rate * dW\n",
    "        self.biases -= learning_rate * db\n",
    "        return out_next.reshape(self.last_input_shape)"
   ]
  },
  {
   "cell_type": "markdown",
   "metadata": {},
   "source": [
    "## CNN"
   ]
  },
  {
   "cell_type": "code",
   "execution_count": 7,
   "metadata": {},
   "outputs": [],
   "source": [
    "class CNN:\n",
    "    \n",
    "    def __init__(self, layers):\n",
    "        if len(layers) < 2:\n",
    "            raise ValueError(\"Not enough layers. Should be at least 2\")\n",
    "        \n",
    "        self.layers = [layers[0]]\n",
    "        \n",
    "        for layer in layers[1:]:\n",
    "            self.layers[-1].add_layer(layer)\n",
    "            if layer is not None and layer not in self.layers:\n",
    "                self.layers.append(layer)\n",
    "        \n",
    "        self.early_stop = None\n",
    "        \n",
    "    # @calculate_execution_time\n",
    "    def forward(self, image):\n",
    "        for layer in self.layers:\n",
    "            image = layer.forward(image)\n",
    "        return image\n",
    "    \n",
    "    # @calculate_execution_time\n",
    "    def backward(self, gradient, learning_rate):\n",
    "        for layer in reversed(self.layers):\n",
    "            gradient = layer.backward(gradient, learning_rate)\n",
    "\n",
    "    def train(self, X_train, y_train, X_val = None, y_val = None, epochs=10, learning_rate=0.1, lr_decay=0, step=50, val_step=100):\n",
    "        data_amount = X_train.shape[0]\n",
    "        num_digits = len(str(data_amount))\n",
    "        learning_rate_0 = learning_rate\n",
    "            \n",
    "        for epoch in range(epochs):\n",
    "            accuracies = []\n",
    "            losses = []\n",
    "            \n",
    "            self.history['accuracy'][epoch] = []\n",
    "            self.history['loss'][epoch] = []\n",
    "                \n",
    "            self.history['val_accuracy'][epoch] = []\n",
    "            self.history['val_loss'][epoch] = []\n",
    "            \n",
    "            for i, X in enumerate(X_train):              \n",
    "                output = self.forward(X)\n",
    "                \n",
    "                accuracy = output[np.argmax(y_train[i])]\n",
    "                loss = -np.sum(y_train[i] * np.log(output))\n",
    "                accuracies.append(accuracy)\n",
    "                losses.append(loss)\n",
    "                \n",
    "                gradient = np.copy(output) - y_train[i]\n",
    "                self.backward(gradient, learning_rate)\n",
    "                \n",
    "                learning_rate = (1/(1+lr_decay*((epoch + 1) * (i + 1)))) * learning_rate_0\n",
    "                \n",
    "                if i > val_step and i % step == 0:\n",
    "                    avg_accuracy = np.mean(accuracies)\n",
    "                    avg_loss = np.mean(losses)\n",
    "                    \n",
    "                    accuracies = []\n",
    "                    losses = []\n",
    "                    \n",
    "                    if self.early_stop is not None:\n",
    "                        if self.EarlyStopping(epoch, i, avg_accuracy, avg_loss, step, val_step, X_val, y_val):\n",
    "                            self.output = np.array(output)\n",
    "                            return\n",
    "                    \n",
    "                    val_accuracy, val_loss = self.history['val_accuracy'][epoch][-1], self.history['val_loss'][epoch][-1]\n",
    "                    \n",
    "                    print(f'[Image {i:{num_digits}d}]: ' +\n",
    "                          f'Avg Acc: {avg_accuracy:7.2%} | ' +\n",
    "                          f'Avg Loss {avg_loss:5.2f} | ' +\n",
    "                          f'Val Acc: {val_accuracy:7.2%} | '+\n",
    "                          f'Val Loss: {val_loss:5.2f}')\n",
    "                          \n",
    "\n",
    "    def val_pred(self, X_val, y_val):\n",
    "        accuracies = []\n",
    "        losses = []\n",
    "        \n",
    "        for i, X in enumerate(X_val):\n",
    "            current_output = self.forward(X)\n",
    "            \n",
    "            accuracy = current_output[np.argmax(y_val[i])]\n",
    "            loss = -np.sum(y_val[i] * np.log(current_output))\n",
    "            accuracies.append(accuracy)\n",
    "            losses.append(loss)\n",
    "            \n",
    "        return np.mean(accuracies), np.mean(losses)\n",
    "        \n",
    "    def predict(self, X):\n",
    "        return np.array([np.argmax(self.forward(x), 0) for x in X])\n",
    "        \n",
    "    def EarlyStop(self, monitor=\"accuracy\", min_delta=.1, min_monitor = 0.6, patience=3, restore_best_layers=False):\n",
    "        self.early_stop = {\n",
    "            \"monitor\": monitor, \n",
    "            \"min_delta\": min_delta, \n",
    "            \"min_monitor\": min_monitor, \n",
    "            \"patience\": patience,\n",
    "            \"restore_best_layers\": restore_best_layers,\n",
    "        }\n",
    "        \n",
    "        self.history = {\n",
    "            \"accuracy\": {},\n",
    "            \"loss\": {},\n",
    "            'val_accuracy': {},\n",
    "            'val_loss': {},\n",
    "            \"global_max_index\": (0, 0),\n",
    "            \"best_layers\": []\n",
    "        }\n",
    "    \n",
    "    def EarlyStopping(self, epoch, im_i, accuracy, loss, step, val_step, X_val=None, y_val=None):\n",
    "        \n",
    "        im_i = int((im_i - val_step)/step) - 1\n",
    "        \n",
    "        self.history['accuracy'][epoch].append(accuracy)\n",
    "        self.history['loss'][epoch].append(loss)\n",
    "        \n",
    "        val_accuracy, val_loss = self.val_pred(X_val, y_val)\n",
    "        self.history['val_accuracy'][epoch].append(val_accuracy)\n",
    "        self.history['val_loss'][epoch].append(val_loss)\n",
    "        \n",
    "        if ((epoch + 1) * (im_i + 1)) > self.early_stop['patience']:\n",
    "            \n",
    "            if self.history[self.early_stop['monitor']][epoch][-1] >= self.history[self.early_stop['monitor']][self.history['global_max_index'][0]][self.history['global_max_index'][1]]:\n",
    "                self.history['global_max_index'] = (epoch, im_i)\n",
    "            \n",
    "            if self.early_stop['restore_best_layers'] and (epoch, im_i) == self.history['global_max_index']:\n",
    "                self.history['best_layers'] = []\n",
    "                for layer in self.layers:\n",
    "                    if layer.__class__.__name__ == 'Conv':\n",
    "                        self.history['best_layers'].append(layer.filters)\n",
    "                    elif layer.__class__.__name__ == 'MaxPool':\n",
    "                        self.history['best_layers'].append(None)\n",
    "                    elif layer.__class__.__name__ == 'Dense':\n",
    "                        self.history['best_layers'].append((layer.weights, layer.biases))\n",
    "                \n",
    "            min_local_accuracy = min(self.history[self.early_stop['monitor']][epoch][-self.early_stop['patience']:])\n",
    "            difference = abs(min_local_accuracy - self.history[self.early_stop['monitor']][self.history['global_max_index'][0]][self.history['global_max_index'][1]])\n",
    "            \n",
    "            if min_local_accuracy >= self.early_stop['min_monitor'] and difference < self.early_stop['min_delta']:\n",
    "                if self.early_stop['restore_best_layers']:\n",
    "                    for i, layer in enumerate(self.layers):\n",
    "                        if layer.__class__.__name__ == 'Conv':\n",
    "                            layer.filters = self.history['best_layers'][i]\n",
    "                        elif layer.__class__.__name__ == 'MaxPool':\n",
    "                            continue\n",
    "                        elif layer.__class__.__name__ == 'Dense':\n",
    "                            layer.weights, layer.biases = self.history['best_layers'][i]\n",
    "                return True\n",
    "        return False\n",
    "    \n",
    "    def restore_best_layers(self):\n",
    "        if self.early_stop['restore_best_layers']:\n",
    "            for i, layer in enumerate(self.layers):\n",
    "                if layer.__class__.__name__ == 'Conv':\n",
    "                    layer.filters = self.history['best_layers'][i]\n",
    "                elif layer.__class__.__name__ == 'MaxPool':\n",
    "                    continue\n",
    "                elif layer.__class__.__name__ == 'Dense':\n",
    "                    layer.weights, layer.biases = self.history['best_layers'][i]"
   ]
  },
  {
   "cell_type": "markdown",
   "metadata": {},
   "source": [
    "## Training"
   ]
  },
  {
   "cell_type": "markdown",
   "metadata": {},
   "source": [
    "### import data"
   ]
  },
  {
   "cell_type": "code",
   "execution_count": 8,
   "metadata": {},
   "outputs": [],
   "source": [
    "# # data = pd.read_csv(\"train.csv\").sample(frac=.05).to_numpy()\n",
    "# X = idx2numpy.convert_from_file('D:\\\\Programming\\\\Projects\\\\data_sets\\\\num_mnist_X.idx3-ubyte').astype('float32')\n",
    "# Y = idx2numpy.convert_from_file('D:\\\\Programming\\\\Projects\\\\data_sets\\\\num_mnist_Y.idx1-ubyte')\n",
    "\n",
    "# X = X.reshape(-1, 1, 28, 28)\n",
    "\n",
    "# # minmax\n",
    "# X = (X - np.min(X, axis=(2,3), keepdims=True)) / (np.max(X, axis=(2,3), keepdims=True) - np.min(X, axis=(2,3), keepdims=True))\n",
    "\n",
    "# # Z-score\n",
    "# # X = (X - np.mean(X, axis=(2,3), keepdims=True)) / np.var(X, axis=(2,3), keepdims=True)\n",
    "\n",
    "# Y_onehot = OneHotEncoder().fit_transform(Y.reshape(-1, 1)).toarray()\n",
    "\n",
    "# X_train, X_test, y_train, y_test = train_test_split(X, Y_onehot, test_size=0.05, random_state=101)\n",
    "\n",
    "# percent = 0.1\n",
    "# sample = np.random.choice([True, False], size=X_test.shape[0], p=[percent, 1-percent])\n",
    "# X_val = X_test[sample]\n",
    "# y_val = y_test[sample]"
   ]
  },
  {
   "cell_type": "code",
   "execution_count": 9,
   "metadata": {},
   "outputs": [
    {
     "data": {
      "image/png": "[encoded data removed]",
      "text/plain": [
       "<Figure size 640x480 with 1 Axes>"
      ]
     },
     "metadata": {},
     "output_type": "display_data"
    }
   ],
   "source": [
    "labels = {\n",
    "    0: 'T-shirt/top',\n",
    "    1: 'Trouser',\n",
    "    2: 'Pullover',\n",
    "    3: 'Dress',\n",
    "    4: 'Coat',\n",
    "    5: 'Sandal',\n",
    "    6: 'Shirt',\n",
    "    7: 'Sneaker',\n",
    "    8: 'Bag',\n",
    "    9: 'Ankle boot',\n",
    "}\n",
    "\n",
    "X_train = idx2numpy.convert_from_file('.\\Fashion_MNIST\\TrainX').astype('float32')\n",
    "y_train = idx2numpy.convert_from_file('.\\Fashion_MNIST\\TrainY').reshape(-1, 1)\n",
    "\n",
    "X_test = idx2numpy.convert_from_file('.\\Fashion_MNIST\\TestX').astype('float32')\n",
    "y_test = idx2numpy.convert_from_file('.\\Fashion_MNIST\\TestY').reshape(-1, 1)\n",
    "\n",
    "X_train, X_test = X_train.reshape(-1, 1, 28, 28), X_test.reshape(-1, 1, 28, 28)\n",
    "\n",
    "# minmax\n",
    "X_max, X_min = np.max(X_train), np.min(X_train)\n",
    "X_train = (X_train - X_min) / (X_max - X_min)\n",
    "X_test = (X_test - X_min) / (X_max - X_min)\n",
    "\n",
    "shuffled_indices = np.random.permutation(len(X_train))\n",
    "X_train = X_train[shuffled_indices]\n",
    "y_train = y_train[shuffled_indices]\n",
    "\n",
    "unique_vals, indices = np.unique(y_train, return_index=True)\n",
    "\n",
    "# Z-score\n",
    "# X_mean, X_std = np.mean(X_train), np.std(X_train), \n",
    "# X_train = (X_train - X_mean)/X_std\n",
    "# X_test = (X_test - X_mean)/X_std\n",
    "\n",
    "sns.countplot(x=y_train.flatten())\n",
    "\n",
    "# One-Hot\n",
    "OneHot = OneHotEncoder(sparse_output=False).fit(y_train)\n",
    "y_train_OH = OneHot.transform(y_train)\n",
    "y_test_OH = OneHot.transform(y_test)\n",
    "\n",
    "percent = 0.01\n",
    "sample = np.random.choice([True, False], size=X_test.shape[0], p=[percent, 1-percent])\n",
    "X_val = X_test[sample]\n",
    "y_val = y_test_OH[sample]"
   ]
  },
  {
   "cell_type": "code",
   "execution_count": 10,
   "metadata": {},
   "outputs": [
    {
     "data": {
      "image/png": "[encoded data removed]",
      "text/plain": [
       "<Figure size 640x480 with 10 Axes>"
      ]
     },
     "metadata": {},
     "output_type": "display_data"
    }
   ],
   "source": [
    "fig, axs = plt.subplots(2,5)\n",
    "\n",
    "for i, idx in enumerate(indices):\n",
    "    axs[np.unravel_index(i, shape=(2,5))].imshow(X_train[idx, 0], cmap='Greys')\n",
    "    axs[np.unravel_index(i, shape=(2,5))].title.set_text(labels.get(y_train[idx, 0]))"
   ]
  },
  {
   "cell_type": "markdown",
   "metadata": {},
   "source": [
    "### training"
   ]
  },
  {
   "cell_type": "code",
   "execution_count": 11,
   "metadata": {},
   "outputs": [
    {
     "name": "stdout",
     "output_type": "stream",
     "text": [
      "[Image 10005]: Avg Acc:  59.69% | Avg Loss  0.78 | Val Acc:  64.15% | Val Loss:  0.64\n",
      "[Image 10010]: Avg Acc:  65.08% | Avg Loss  0.60 | Val Acc:  64.33% | Val Loss:  0.65\n",
      "[Image 10015]: Avg Acc:  95.56% | Avg Loss  0.05 | Val Acc:  64.41% | Val Loss:  0.65\n",
      "[Image 10020]: Avg Acc:  71.51% | Avg Loss  0.84 | Val Acc:  64.68% | Val Loss:  0.65\n",
      "[Image 10025]: Avg Acc:  71.41% | Avg Loss  0.41 | Val Acc:  64.61% | Val Loss:  0.65\n",
      "[Image 10030]: Avg Acc:  60.35% | Avg Loss  0.60 | Val Acc:  64.45% | Val Loss:  0.67\n",
      "[Image 10035]: Avg Acc:  70.25% | Avg Loss  0.48 | Val Acc:  64.51% | Val Loss:  0.66\n",
      "[Image 10040]: Avg Acc:  52.46% | Avg Loss  0.92 | Val Acc:  64.68% | Val Loss:  0.66\n",
      "[Image 10045]: Avg Acc:  69.56% | Avg Loss  0.44 | Val Acc:  64.56% | Val Loss:  0.67\n",
      "[Image 10050]: Avg Acc:  64.20% | Avg Loss  0.74 | Val Acc:  64.56% | Val Loss:  0.66\n",
      "[Image 10055]: Avg Acc:  59.21% | Avg Loss  0.73 | Val Acc:  64.84% | Val Loss:  0.65\n",
      "[Image 10060]: Avg Acc:  43.26% | Avg Loss  1.22 | Val Acc:  63.95% | Val Loss:  0.67\n",
      "[Image 10065]: Avg Acc:  64.01% | Avg Loss  0.90 | Val Acc:  64.04% | Val Loss:  0.65\n",
      "[Image 10070]: Avg Acc:  75.34% | Avg Loss  0.31 | Val Acc:  64.39% | Val Loss:  0.64\n",
      "[Image 10075]: Avg Acc:  38.48% | Avg Loss  1.29 | Val Acc:  63.82% | Val Loss:  0.65\n",
      "[Image 10080]: Avg Acc:  76.65% | Avg Loss  0.42 | Val Acc:  63.64% | Val Loss:  0.65\n",
      "[Image 10085]: Avg Acc:  77.97% | Avg Loss  0.33 | Val Acc:  63.50% | Val Loss:  0.65\n",
      "[Image 10090]: Avg Acc:  75.76% | Avg Loss  0.64 | Val Acc:  62.73% | Val Loss:  0.67\n",
      "[Image 10095]: Avg Acc:  57.64% | Avg Loss  0.63 | Val Acc:  62.87% | Val Loss:  0.67\n",
      "[Image 10100]: Avg Acc:  48.33% | Avg Loss  1.05 | Val Acc:  63.58% | Val Loss:  0.65\n",
      "[Image 10105]: Avg Acc:  77.38% | Avg Loss  0.41 | Val Acc:  63.31% | Val Loss:  0.65\n",
      "[Image 10110]: Avg Acc:  56.30% | Avg Loss  1.04 | Val Acc:  62.36% | Val Loss:  0.67\n",
      "[Image 10115]: Avg Acc:  69.94% | Avg Loss  0.52 | Val Acc:  62.39% | Val Loss:  0.66\n",
      "[Image 10120]: Avg Acc:  72.93% | Avg Loss  0.52 | Val Acc:  62.35% | Val Loss:  0.66\n",
      "[Image 10125]: Avg Acc:  69.61% | Avg Loss  0.51 | Val Acc:  62.62% | Val Loss:  0.66\n",
      "[Image 10130]: Avg Acc:  62.43% | Avg Loss  0.72 | Val Acc:  62.60% | Val Loss:  0.67\n",
      "[Image 10135]: Avg Acc:  55.62% | Avg Loss  1.01 | Val Acc:  62.74% | Val Loss:  0.68\n",
      "[Image 10140]: Avg Acc:  48.35% | Avg Loss  1.08 | Val Acc:  61.85% | Val Loss:  0.69\n",
      "[Image 10145]: Avg Acc:  50.04% | Avg Loss  0.86 | Val Acc:  62.08% | Val Loss:  0.67\n"
     ]
    },
    {
     "ename": "KeyboardInterrupt",
     "evalue": "",
     "output_type": "error",
     "traceback": [
      "\u001b[1;31m---------------------------------------------------------------------------\u001b[0m",
      "\u001b[1;31mKeyboardInterrupt\u001b[0m                         Traceback (most recent call last)",
      "Cell \u001b[1;32mIn[11], line 15\u001b[0m\n\u001b[0;32m     13\u001b[0m val_step \u001b[38;5;241m=\u001b[39m \u001b[38;5;241m10_000\u001b[39m\n\u001b[0;32m     14\u001b[0m step \u001b[38;5;241m=\u001b[39m \u001b[38;5;241m5\u001b[39m\n\u001b[1;32m---> 15\u001b[0m \u001b[43mCNN_model\u001b[49m\u001b[38;5;241;43m.\u001b[39;49m\u001b[43mtrain\u001b[49m\u001b[43m(\u001b[49m\u001b[43mX_train\u001b[49m\u001b[43m,\u001b[49m\u001b[43m \u001b[49m\u001b[43my_train_OH\u001b[49m\u001b[43m,\u001b[49m\u001b[43m \u001b[49m\u001b[43mX_val\u001b[49m\u001b[43m,\u001b[49m\u001b[43m \u001b[49m\u001b[43my_val\u001b[49m\u001b[43m,\u001b[49m\u001b[43m \u001b[49m\u001b[43mepochs\u001b[49m\u001b[38;5;241;43m=\u001b[39;49m\u001b[38;5;241;43m1\u001b[39;49m\u001b[43m,\u001b[49m\u001b[43m \u001b[49m\u001b[43mlearning_rate\u001b[49m\u001b[38;5;241;43m=\u001b[39;49m\u001b[38;5;241;43m0.01\u001b[39;49m\u001b[43m,\u001b[49m\u001b[43m \u001b[49m\u001b[43mlr_decay\u001b[49m\u001b[38;5;241;43m=\u001b[39;49m\u001b[38;5;241;43m0.005\u001b[39;49m\u001b[43m,\u001b[49m\u001b[43m \u001b[49m\u001b[43mstep\u001b[49m\u001b[38;5;241;43m=\u001b[39;49m\u001b[43mstep\u001b[49m\u001b[43m,\u001b[49m\u001b[43m \u001b[49m\u001b[43mval_step\u001b[49m\u001b[38;5;241;43m=\u001b[39;49m\u001b[43mval_step\u001b[49m\u001b[43m)\u001b[49m\n",
      "Cell \u001b[1;32mIn[7], line 63\u001b[0m, in \u001b[0;36mCNN.train\u001b[1;34m(self, X_train, y_train, X_val, y_val, epochs, learning_rate, lr_decay, step, val_step)\u001b[0m\n\u001b[0;32m     60\u001b[0m losses \u001b[38;5;241m=\u001b[39m []\n\u001b[0;32m     62\u001b[0m \u001b[38;5;28;01mif\u001b[39;00m \u001b[38;5;28mself\u001b[39m\u001b[38;5;241m.\u001b[39mearly_stop \u001b[38;5;129;01mis\u001b[39;00m \u001b[38;5;129;01mnot\u001b[39;00m \u001b[38;5;28;01mNone\u001b[39;00m:\n\u001b[1;32m---> 63\u001b[0m     \u001b[38;5;28;01mif\u001b[39;00m \u001b[38;5;28;43mself\u001b[39;49m\u001b[38;5;241;43m.\u001b[39;49m\u001b[43mEarlyStopping\u001b[49m\u001b[43m(\u001b[49m\u001b[43mepoch\u001b[49m\u001b[43m,\u001b[49m\u001b[43m \u001b[49m\u001b[43mi\u001b[49m\u001b[43m,\u001b[49m\u001b[43m \u001b[49m\u001b[43mavg_accuracy\u001b[49m\u001b[43m,\u001b[49m\u001b[43m \u001b[49m\u001b[43mavg_loss\u001b[49m\u001b[43m,\u001b[49m\u001b[43m \u001b[49m\u001b[43mstep\u001b[49m\u001b[43m,\u001b[49m\u001b[43m \u001b[49m\u001b[43mval_step\u001b[49m\u001b[43m,\u001b[49m\u001b[43m \u001b[49m\u001b[43mX_val\u001b[49m\u001b[43m,\u001b[49m\u001b[43m \u001b[49m\u001b[43my_val\u001b[49m\u001b[43m)\u001b[49m:\n\u001b[0;32m     64\u001b[0m         \u001b[38;5;28mself\u001b[39m\u001b[38;5;241m.\u001b[39moutput \u001b[38;5;241m=\u001b[39m np\u001b[38;5;241m.\u001b[39marray(output)\n\u001b[0;32m     65\u001b[0m         \u001b[38;5;28;01mreturn\u001b[39;00m\n",
      "Cell \u001b[1;32mIn[7], line 118\u001b[0m, in \u001b[0;36mCNN.EarlyStopping\u001b[1;34m(self, epoch, im_i, accuracy, loss, step, val_step, X_val, y_val)\u001b[0m\n\u001b[0;32m    115\u001b[0m \u001b[38;5;28mself\u001b[39m\u001b[38;5;241m.\u001b[39mhistory[\u001b[38;5;124m'\u001b[39m\u001b[38;5;124maccuracy\u001b[39m\u001b[38;5;124m'\u001b[39m][epoch]\u001b[38;5;241m.\u001b[39mappend(accuracy)\n\u001b[0;32m    116\u001b[0m \u001b[38;5;28mself\u001b[39m\u001b[38;5;241m.\u001b[39mhistory[\u001b[38;5;124m'\u001b[39m\u001b[38;5;124mloss\u001b[39m\u001b[38;5;124m'\u001b[39m][epoch]\u001b[38;5;241m.\u001b[39mappend(loss)\n\u001b[1;32m--> 118\u001b[0m val_accuracy, val_loss \u001b[38;5;241m=\u001b[39m \u001b[38;5;28;43mself\u001b[39;49m\u001b[38;5;241;43m.\u001b[39;49m\u001b[43mval_pred\u001b[49m\u001b[43m(\u001b[49m\u001b[43mX_val\u001b[49m\u001b[43m,\u001b[49m\u001b[43m \u001b[49m\u001b[43my_val\u001b[49m\u001b[43m)\u001b[49m\n\u001b[0;32m    119\u001b[0m \u001b[38;5;28mself\u001b[39m\u001b[38;5;241m.\u001b[39mhistory[\u001b[38;5;124m'\u001b[39m\u001b[38;5;124mval_accuracy\u001b[39m\u001b[38;5;124m'\u001b[39m][epoch]\u001b[38;5;241m.\u001b[39mappend(val_accuracy)\n\u001b[0;32m    120\u001b[0m \u001b[38;5;28mself\u001b[39m\u001b[38;5;241m.\u001b[39mhistory[\u001b[38;5;124m'\u001b[39m\u001b[38;5;124mval_loss\u001b[39m\u001b[38;5;124m'\u001b[39m][epoch]\u001b[38;5;241m.\u001b[39mappend(val_loss)\n",
      "Cell \u001b[1;32mIn[7], line 81\u001b[0m, in \u001b[0;36mCNN.val_pred\u001b[1;34m(self, X_val, y_val)\u001b[0m\n\u001b[0;32m     78\u001b[0m losses \u001b[38;5;241m=\u001b[39m []\n\u001b[0;32m     80\u001b[0m \u001b[38;5;28;01mfor\u001b[39;00m i, X \u001b[38;5;129;01min\u001b[39;00m \u001b[38;5;28menumerate\u001b[39m(X_val):\n\u001b[1;32m---> 81\u001b[0m     current_output \u001b[38;5;241m=\u001b[39m \u001b[38;5;28;43mself\u001b[39;49m\u001b[38;5;241;43m.\u001b[39;49m\u001b[43mforward\u001b[49m\u001b[43m(\u001b[49m\u001b[43mX\u001b[49m\u001b[43m)\u001b[49m\n\u001b[0;32m     83\u001b[0m     accuracy \u001b[38;5;241m=\u001b[39m current_output[np\u001b[38;5;241m.\u001b[39margmax(y_val[i])]\n\u001b[0;32m     84\u001b[0m     loss \u001b[38;5;241m=\u001b[39m \u001b[38;5;241m-\u001b[39mnp\u001b[38;5;241m.\u001b[39msum(y_val[i] \u001b[38;5;241m*\u001b[39m np\u001b[38;5;241m.\u001b[39mlog(current_output))\n",
      "Cell \u001b[1;32mIn[7], line 19\u001b[0m, in \u001b[0;36mCNN.forward\u001b[1;34m(self, image)\u001b[0m\n\u001b[0;32m     17\u001b[0m \u001b[38;5;28;01mdef\u001b[39;00m \u001b[38;5;21mforward\u001b[39m(\u001b[38;5;28mself\u001b[39m, image):\n\u001b[0;32m     18\u001b[0m     \u001b[38;5;28;01mfor\u001b[39;00m layer \u001b[38;5;129;01min\u001b[39;00m \u001b[38;5;28mself\u001b[39m\u001b[38;5;241m.\u001b[39mlayers:\n\u001b[1;32m---> 19\u001b[0m         image \u001b[38;5;241m=\u001b[39m \u001b[43mlayer\u001b[49m\u001b[38;5;241;43m.\u001b[39;49m\u001b[43mforward\u001b[49m\u001b[43m(\u001b[49m\u001b[43mimage\u001b[49m\u001b[43m)\u001b[49m\n\u001b[0;32m     20\u001b[0m     \u001b[38;5;28;01mreturn\u001b[39;00m image\n",
      "Cell \u001b[1;32mIn[4], line 38\u001b[0m, in \u001b[0;36mConv.forward\u001b[1;34m(self, image)\u001b[0m\n\u001b[0;32m     35\u001b[0m         current_y \u001b[38;5;241m+\u001b[39m\u001b[38;5;241m=\u001b[39m \u001b[38;5;28mself\u001b[39m\u001b[38;5;241m.\u001b[39mstride\n\u001b[0;32m     36\u001b[0m         output_y \u001b[38;5;241m+\u001b[39m\u001b[38;5;241m=\u001b[39m \u001b[38;5;241m1\u001b[39m\n\u001b[1;32m---> 38\u001b[0m output \u001b[38;5;241m=\u001b[39m \u001b[38;5;28mself\u001b[39m\u001b[38;5;241m.\u001b[39mlast_output \u001b[38;5;241m=\u001b[39m \u001b[38;5;28;43mself\u001b[39;49m\u001b[38;5;241;43m.\u001b[39;49m\u001b[43mactivation\u001b[49m\u001b[38;5;241;43m.\u001b[39;49m\u001b[43mfunction\u001b[49m\u001b[43m(\u001b[49m\u001b[43moutput\u001b[49m\u001b[43m)\u001b[49m\n\u001b[0;32m     39\u001b[0m \u001b[38;5;28;01mreturn\u001b[39;00m output\n",
      "Cell \u001b[1;32mIn[3], line 14\u001b[0m, in \u001b[0;36mActivation.__init__.<locals>.<lambda>\u001b[1;34m(x)\u001b[0m\n\u001b[0;32m     12\u001b[0m     \u001b[38;5;28mself\u001b[39m\u001b[38;5;241m.\u001b[39mderivative \u001b[38;5;241m=\u001b[39m \u001b[38;5;28mself\u001b[39m\u001b[38;5;241m.\u001b[39msoftmax_der\n\u001b[0;32m     13\u001b[0m \u001b[38;5;28;01melif\u001b[39;00m name \u001b[38;5;241m==\u001b[39m \u001b[38;5;124m'\u001b[39m\u001b[38;5;124mrelu\u001b[39m\u001b[38;5;124m'\u001b[39m:\n\u001b[1;32m---> 14\u001b[0m     \u001b[38;5;28mself\u001b[39m\u001b[38;5;241m.\u001b[39mfunction \u001b[38;5;241m=\u001b[39m \u001b[38;5;28;01mlambda\u001b[39;00m x: \u001b[43mnp\u001b[49m\u001b[38;5;241;43m.\u001b[39;49m\u001b[43mmaximum\u001b[49m\u001b[43m(\u001b[49m\u001b[38;5;241;43m0\u001b[39;49m\u001b[43m,\u001b[49m\u001b[43m \u001b[49m\u001b[43mx\u001b[49m\u001b[43m)\u001b[49m\n\u001b[0;32m     15\u001b[0m     \u001b[38;5;28mself\u001b[39m\u001b[38;5;241m.\u001b[39mderivative \u001b[38;5;241m=\u001b[39m \u001b[38;5;28;01mlambda\u001b[39;00m x: x \u001b[38;5;241m>\u001b[39m\u001b[38;5;241m=\u001b[39m \u001b[38;5;241m0\u001b[39m\n\u001b[0;32m     16\u001b[0m \u001b[38;5;28;01melif\u001b[39;00m name \u001b[38;5;241m==\u001b[39m \u001b[38;5;124m'\u001b[39m\u001b[38;5;124mlrelu\u001b[39m\u001b[38;5;124m'\u001b[39m:\n",
      "\u001b[1;31mKeyboardInterrupt\u001b[0m: "
     ]
    }
   ],
   "source": [
    "layers = [\n",
    "    Conv(num_filters=5, size=5, stride=1, activation='relu'),\n",
    "    Conv(num_filters=10, size=5, stride=1, activation='relu'), \n",
    "    MaxPool(size=2, stride=2, activation='relu'),\n",
    "    Dense(n_inputs=1000, n_neurons=300, activation='elu'),\n",
    "    Dense(n_inputs=300, n_neurons=10, activation='softmax'),\n",
    "]\n",
    "\n",
    "CNN_model = CNN(layers)\n",
    "\n",
    "CNN_model.EarlyStop(monitor = \"val_accuracy\", min_delta = 5e-3, min_monitor=0.7, patience = 3, restore_best_layers=True)\n",
    "\n",
    "val_step = 10_000\n",
    "step = 5\n",
    "CNN_model.train(X_train, y_train_OH, X_val, y_val, epochs=1, learning_rate=0.01, lr_decay=0.005, step=step, val_step=val_step)"
   ]
  },
  {
   "cell_type": "code",
   "execution_count": 12,
   "metadata": {},
   "outputs": [],
   "source": [
    "CNN_model.restore_best_layers()"
   ]
  },
  {
   "cell_type": "code",
   "execution_count": 20,
   "metadata": {},
   "outputs": [
    {
     "data": {
      "application/vnd.plotly.v1+json": {
       "config": {
        "plotlyServerURL": "https://plot.ly"
       },
       "data": [
        {
         "name": "accuracy",
         "type": "scatter",
         "x": [
          10000,
          10005,
          10010,
          10015,
          10020,
          10025,
          10030,
          10035,
          10040,
          10045,
          10050,
          10055,
          10060,
          10065,
          10070,
          10075,
          10080,
          10085,
          10090,
          10095,
          10100,
          10105,
          10110,
          10115,
          10120,
          10125,
          10130,
          10135,
          10140,
          10145
         ],
         "y": [
          0.7465351215361012,
          0.7190149459049732,
          0.6958708550901065,
          0.6767744478131198,
          0.6613973227956326,
          0.6494110787592634,
          0.6404873144256314,
          0.6342976285163558,
          0.6305136197530558,
          0.6288068868573498,
          0.6288490285508571,
          0.6303116435551966,
          0.6328663305919876,
          0.6361846883828493,
          0.6399383156493998,
          0.6437988111132591,
          0.6474377734960456,
          0.6505268015193785,
          0.6527374939048769,
          0.6537414493741598,
          0.6532102666488462,
          0.6508155444505548,
          0.6462288815009051,
          0.6391218765215159,
          0.6291661282340062,
          0.6160332353599949,
          0.5993947966211013,
          0.5789224107389442,
          0.5542876764351427,
          0.5251621924313158
         ]
        },
        {
         "name": "val_accuracy",
         "type": "scatter",
         "x": [
          10000,
          10005,
          10010,
          10015,
          10020,
          10025,
          10030,
          10035,
          10040,
          10045,
          10050,
          10055,
          10060,
          10065,
          10070,
          10075,
          10080,
          10085,
          10090,
          10095,
          10100,
          10105,
          10110,
          10115,
          10120,
          10125,
          10130,
          10135,
          10140
         ],
         "y": [
          0.641485998341802,
          0.6432422119458645,
          0.6445889434564024,
          0.6455525587726466,
          0.6461594237938281,
          0.6464359044191778,
          0.6464083665479262,
          0.6461031760793046,
          0.645546698912544,
          0.644765300946875,
          0.6437853480815288,
          0.6426332062157363,
          0.6413352412487281,
          0.6399178190797352,
          0.6384073056079889,
          0.6368300667327197,
          0.6352124683531588,
          0.6335808763685369,
          0.631961656678085,
          0.630381175181034,
          0.6288657977766149,
          0.6274418903640585,
          0.6261358188425957,
          0.6249739491114576,
          0.6239826470698748,
          0.6231882786170786,
          0.6226172096522996,
          0.622295806074769,
          0.6222504337837174
         ]
        }
       ],
       "layout": {
        "height": 1000,
        "legend": {
         "bgcolor": "rgba(0,0,0,0)",
         "font": {
          "size": 20
         },
         "x": 0.02,
         "y": 0.98
        },
        "margin": {
         "r": 40
        },
        "template": {
         "data": {
          "bar": [
           {
            "error_x": {
             "color": "#2a3f5f"
            },
            "error_y": {
             "color": "#2a3f5f"
            },
            "marker": {
             "line": {
              "color": "#E5ECF6",
              "width": 0.5
             },
             "pattern": {
              "fillmode": "overlay",
              "size": 10,
              "solidity": 0.2
             }
            },
            "type": "bar"
           }
          ],
          "barpolar": [
           {
            "marker": {
             "line": {
              "color": "#E5ECF6",
              "width": 0.5
             },
             "pattern": {
              "fillmode": "overlay",
              "size": 10,
              "solidity": 0.2
             }
            },
            "type": "barpolar"
           }
          ],
          "carpet": [
           {
            "aaxis": {
             "endlinecolor": "#2a3f5f",
             "gridcolor": "white",
             "linecolor": "white",
             "minorgridcolor": "white",
             "startlinecolor": "#2a3f5f"
            },
            "baxis": {
             "endlinecolor": "#2a3f5f",
             "gridcolor": "white",
             "linecolor": "white",
             "minorgridcolor": "white",
             "startlinecolor": "#2a3f5f"
            },
            "type": "carpet"
           }
          ],
          "choropleth": [
           {
            "colorbar": {
             "outlinewidth": 0,
             "ticks": ""
            },
            "type": "choropleth"
           }
          ],
          "contour": [
           {
            "colorbar": {
             "outlinewidth": 0,
             "ticks": ""
            },
            "colorscale": [
             [
              0,
              "#0d0887"
             ],
             [
              0.1111111111111111,
              "#46039f"
             ],
             [
              0.2222222222222222,
              "#7201a8"
             ],
             [
              0.3333333333333333,
              "#9c179e"
             ],
             [
              0.4444444444444444,
              "#bd3786"
             ],
             [
              0.5555555555555556,
              "#d8576b"
             ],
             [
              0.6666666666666666,
              "#ed7953"
             ],
             [
              0.7777777777777778,
              "#fb9f3a"
             ],
             [
              0.8888888888888888,
              "#fdca26"
             ],
             [
              1,
              "#f0f921"
             ]
            ],
            "type": "contour"
           }
          ],
          "contourcarpet": [
           {
            "colorbar": {
             "outlinewidth": 0,
             "ticks": ""
            },
            "type": "contourcarpet"
           }
          ],
          "heatmap": [
           {
            "colorbar": {
             "outlinewidth": 0,
             "ticks": ""
            },
            "colorscale": [
             [
              0,
              "#0d0887"
             ],
             [
              0.1111111111111111,
              "#46039f"
             ],
             [
              0.2222222222222222,
              "#7201a8"
             ],
             [
              0.3333333333333333,
              "#9c179e"
             ],
             [
              0.4444444444444444,
              "#bd3786"
             ],
             [
              0.5555555555555556,
              "#d8576b"
             ],
             [
              0.6666666666666666,
              "#ed7953"
             ],
             [
              0.7777777777777778,
              "#fb9f3a"
             ],
             [
              0.8888888888888888,
              "#fdca26"
             ],
             [
              1,
              "#f0f921"
             ]
            ],
            "type": "heatmap"
           }
          ],
          "heatmapgl": [
           {
            "colorbar": {
             "outlinewidth": 0,
             "ticks": ""
            },
            "colorscale": [
             [
              0,
              "#0d0887"
             ],
             [
              0.1111111111111111,
              "#46039f"
             ],
             [
              0.2222222222222222,
              "#7201a8"
             ],
             [
              0.3333333333333333,
              "#9c179e"
             ],
             [
              0.4444444444444444,
              "#bd3786"
             ],
             [
              0.5555555555555556,
              "#d8576b"
             ],
             [
              0.6666666666666666,
              "#ed7953"
             ],
             [
              0.7777777777777778,
              "#fb9f3a"
             ],
             [
              0.8888888888888888,
              "#fdca26"
             ],
             [
              1,
              "#f0f921"
             ]
            ],
            "type": "heatmapgl"
           }
          ],
          "histogram": [
           {
            "marker": {
             "pattern": {
              "fillmode": "overlay",
              "size": 10,
              "solidity": 0.2
             }
            },
            "type": "histogram"
           }
          ],
          "histogram2d": [
           {
            "colorbar": {
             "outlinewidth": 0,
             "ticks": ""
            },
            "colorscale": [
             [
              0,
              "#0d0887"
             ],
             [
              0.1111111111111111,
              "#46039f"
             ],
             [
              0.2222222222222222,
              "#7201a8"
             ],
             [
              0.3333333333333333,
              "#9c179e"
             ],
             [
              0.4444444444444444,
              "#bd3786"
             ],
             [
              0.5555555555555556,
              "#d8576b"
             ],
             [
              0.6666666666666666,
              "#ed7953"
             ],
             [
              0.7777777777777778,
              "#fb9f3a"
             ],
             [
              0.8888888888888888,
              "#fdca26"
             ],
             [
              1,
              "#f0f921"
             ]
            ],
            "type": "histogram2d"
           }
          ],
          "histogram2dcontour": [
           {
            "colorbar": {
             "outlinewidth": 0,
             "ticks": ""
            },
            "colorscale": [
             [
              0,
              "#0d0887"
             ],
             [
              0.1111111111111111,
              "#46039f"
             ],
             [
              0.2222222222222222,
              "#7201a8"
             ],
             [
              0.3333333333333333,
              "#9c179e"
             ],
             [
              0.4444444444444444,
              "#bd3786"
             ],
             [
              0.5555555555555556,
              "#d8576b"
             ],
             [
              0.6666666666666666,
              "#ed7953"
             ],
             [
              0.7777777777777778,
              "#fb9f3a"
             ],
             [
              0.8888888888888888,
              "#fdca26"
             ],
             [
              1,
              "#f0f921"
             ]
            ],
            "type": "histogram2dcontour"
           }
          ],
          "mesh3d": [
           {
            "colorbar": {
             "outlinewidth": 0,
             "ticks": ""
            },
            "type": "mesh3d"
           }
          ],
          "parcoords": [
           {
            "line": {
             "colorbar": {
              "outlinewidth": 0,
              "ticks": ""
             }
            },
            "type": "parcoords"
           }
          ],
          "pie": [
           {
            "automargin": true,
            "type": "pie"
           }
          ],
          "scatter": [
           {
            "fillpattern": {
             "fillmode": "overlay",
             "size": 10,
             "solidity": 0.2
            },
            "type": "scatter"
           }
          ],
          "scatter3d": [
           {
            "line": {
             "colorbar": {
              "outlinewidth": 0,
              "ticks": ""
             }
            },
            "marker": {
             "colorbar": {
              "outlinewidth": 0,
              "ticks": ""
             }
            },
            "type": "scatter3d"
           }
          ],
          "scattercarpet": [
           {
            "marker": {
             "colorbar": {
              "outlinewidth": 0,
              "ticks": ""
             }
            },
            "type": "scattercarpet"
           }
          ],
          "scattergeo": [
           {
            "marker": {
             "colorbar": {
              "outlinewidth": 0,
              "ticks": ""
             }
            },
            "type": "scattergeo"
           }
          ],
          "scattergl": [
           {
            "marker": {
             "colorbar": {
              "outlinewidth": 0,
              "ticks": ""
             }
            },
            "type": "scattergl"
           }
          ],
          "scattermapbox": [
           {
            "marker": {
             "colorbar": {
              "outlinewidth": 0,
              "ticks": ""
             }
            },
            "type": "scattermapbox"
           }
          ],
          "scatterpolar": [
           {
            "marker": {
             "colorbar": {
              "outlinewidth": 0,
              "ticks": ""
             }
            },
            "type": "scatterpolar"
           }
          ],
          "scatterpolargl": [
           {
            "marker": {
             "colorbar": {
              "outlinewidth": 0,
              "ticks": ""
             }
            },
            "type": "scatterpolargl"
           }
          ],
          "scatterternary": [
           {
            "marker": {
             "colorbar": {
              "outlinewidth": 0,
              "ticks": ""
             }
            },
            "type": "scatterternary"
           }
          ],
          "surface": [
           {
            "colorbar": {
             "outlinewidth": 0,
             "ticks": ""
            },
            "colorscale": [
             [
              0,
              "#0d0887"
             ],
             [
              0.1111111111111111,
              "#46039f"
             ],
             [
              0.2222222222222222,
              "#7201a8"
             ],
             [
              0.3333333333333333,
              "#9c179e"
             ],
             [
              0.4444444444444444,
              "#bd3786"
             ],
             [
              0.5555555555555556,
              "#d8576b"
             ],
             [
              0.6666666666666666,
              "#ed7953"
             ],
             [
              0.7777777777777778,
              "#fb9f3a"
             ],
             [
              0.8888888888888888,
              "#fdca26"
             ],
             [
              1,
              "#f0f921"
             ]
            ],
            "type": "surface"
           }
          ],
          "table": [
           {
            "cells": {
             "fill": {
              "color": "#EBF0F8"
             },
             "line": {
              "color": "white"
             }
            },
            "header": {
             "fill": {
              "color": "#C8D4E3"
             },
             "line": {
              "color": "white"
             }
            },
            "type": "table"
           }
          ]
         },
         "layout": {
          "annotationdefaults": {
           "arrowcolor": "#2a3f5f",
           "arrowhead": 0,
           "arrowwidth": 1
          },
          "autotypenumbers": "strict",
          "coloraxis": {
           "colorbar": {
            "outlinewidth": 0,
            "ticks": ""
           }
          },
          "colorscale": {
           "diverging": [
            [
             0,
             "#8e0152"
            ],
            [
             0.1,
             "#c51b7d"
            ],
            [
             0.2,
             "#de77ae"
            ],
            [
             0.3,
             "#f1b6da"
            ],
            [
             0.4,
             "#fde0ef"
            ],
            [
             0.5,
             "#f7f7f7"
            ],
            [
             0.6,
             "#e6f5d0"
            ],
            [
             0.7,
             "#b8e186"
            ],
            [
             0.8,
             "#7fbc41"
            ],
            [
             0.9,
             "#4d9221"
            ],
            [
             1,
             "#276419"
            ]
           ],
           "sequential": [
            [
             0,
             "#0d0887"
            ],
            [
             0.1111111111111111,
             "#46039f"
            ],
            [
             0.2222222222222222,
             "#7201a8"
            ],
            [
             0.3333333333333333,
             "#9c179e"
            ],
            [
             0.4444444444444444,
             "#bd3786"
            ],
            [
             0.5555555555555556,
             "#d8576b"
            ],
            [
             0.6666666666666666,
             "#ed7953"
            ],
            [
             0.7777777777777778,
             "#fb9f3a"
            ],
            [
             0.8888888888888888,
             "#fdca26"
            ],
            [
             1,
             "#f0f921"
            ]
           ],
           "sequentialminus": [
            [
             0,
             "#0d0887"
            ],
            [
             0.1111111111111111,
             "#46039f"
            ],
            [
             0.2222222222222222,
             "#7201a8"
            ],
            [
             0.3333333333333333,
             "#9c179e"
            ],
            [
             0.4444444444444444,
             "#bd3786"
            ],
            [
             0.5555555555555556,
             "#d8576b"
            ],
            [
             0.6666666666666666,
             "#ed7953"
            ],
            [
             0.7777777777777778,
             "#fb9f3a"
            ],
            [
             0.8888888888888888,
             "#fdca26"
            ],
            [
             1,
             "#f0f921"
            ]
           ]
          },
          "colorway": [
           "#636efa",
           "#EF553B",
           "#00cc96",
           "#ab63fa",
           "#FFA15A",
           "#19d3f3",
           "#FF6692",
           "#B6E880",
           "#FF97FF",
           "#FECB52"
          ],
          "font": {
           "color": "#2a3f5f"
          },
          "geo": {
           "bgcolor": "white",
           "lakecolor": "white",
           "landcolor": "#E5ECF6",
           "showlakes": true,
           "showland": true,
           "subunitcolor": "white"
          },
          "hoverlabel": {
           "align": "left"
          },
          "hovermode": "closest",
          "mapbox": {
           "style": "light"
          },
          "paper_bgcolor": "white",
          "plot_bgcolor": "#E5ECF6",
          "polar": {
           "angularaxis": {
            "gridcolor": "white",
            "linecolor": "white",
            "ticks": ""
           },
           "bgcolor": "#E5ECF6",
           "radialaxis": {
            "gridcolor": "white",
            "linecolor": "white",
            "ticks": ""
           }
          },
          "scene": {
           "xaxis": {
            "backgroundcolor": "#E5ECF6",
            "gridcolor": "white",
            "gridwidth": 2,
            "linecolor": "white",
            "showbackground": true,
            "ticks": "",
            "zerolinecolor": "white"
           },
           "yaxis": {
            "backgroundcolor": "#E5ECF6",
            "gridcolor": "white",
            "gridwidth": 2,
            "linecolor": "white",
            "showbackground": true,
            "ticks": "",
            "zerolinecolor": "white"
           },
           "zaxis": {
            "backgroundcolor": "#E5ECF6",
            "gridcolor": "white",
            "gridwidth": 2,
            "linecolor": "white",
            "showbackground": true,
            "ticks": "",
            "zerolinecolor": "white"
           }
          },
          "shapedefaults": {
           "line": {
            "color": "#2a3f5f"
           }
          },
          "ternary": {
           "aaxis": {
            "gridcolor": "white",
            "linecolor": "white",
            "ticks": ""
           },
           "baxis": {
            "gridcolor": "white",
            "linecolor": "white",
            "ticks": ""
           },
           "bgcolor": "#E5ECF6",
           "caxis": {
            "gridcolor": "white",
            "linecolor": "white",
            "ticks": ""
           }
          },
          "title": {
           "x": 0.05
          },
          "xaxis": {
           "automargin": true,
           "gridcolor": "white",
           "linecolor": "white",
           "ticks": "",
           "title": {
            "standoff": 15
           },
           "zerolinecolor": "white",
           "zerolinewidth": 2
          },
          "yaxis": {
           "automargin": true,
           "gridcolor": "white",
           "linecolor": "white",
           "ticks": "",
           "title": {
            "standoff": 15
           },
           "zerolinecolor": "white",
           "zerolinewidth": 2
          }
         }
        },
        "title": {
         "font": {
          "size": 30
         },
         "text": "accuracy per epoch",
         "x": 0.5
        },
        "xaxis": {
         "title": {
          "font": {
           "size": 20
          },
          "text": "epoch"
         }
        },
        "yaxis": {
         "title": {
          "font": {
           "size": 20
          },
          "text": "accuracy"
         }
        }
       }
      }
     },
     "metadata": {},
     "output_type": "display_data"
    }
   ],
   "source": [
    "X_axis = list( range(val_step, val_step + len(CNN_model.history['accuracy'][0])*step, step ) )\n",
    "\n",
    "tck = interpolate.splrep(X_axis, CNN_model.history['accuracy'][0], k = 3, s = 1)\n",
    "accuracy_smoothed = interpolate.splev(X_axis, tck, der = 0)\n",
    "\n",
    "tck = interpolate.splrep(X_axis[:-1], CNN_model.history['val_accuracy'][0], k = 3, s = 0.01)\n",
    "val_accuracy_smoothed = interpolate.splev(X_axis[:-1], tck, der = 0)\n",
    "\n",
    "data = [go.Scatter(x=X_axis, y = accuracy_smoothed, name = 'accuracy'),\n",
    "        go.Scatter(x=X_axis[:-1], y = val_accuracy_smoothed, name = 'val_accuracy')]\n",
    "\n",
    "layout = go.Layout(\n",
    "    height = 1000,\n",
    "    title = dict(\n",
    "        text = 'accuracy per epoch',\n",
    "        font_size = 30,\n",
    "        x = .5\n",
    "    ),\n",
    "    xaxis_title = dict(\n",
    "        text = 'epoch',\n",
    "        font_size = 20\n",
    "    ),\n",
    "    yaxis_title = dict(\n",
    "        text = 'accuracy',\n",
    "        font_size = 20\n",
    "    ),\n",
    "    legend = dict(\n",
    "        x = 0.02, y = .98,\n",
    "        bgcolor = 'rgba(0,0,0,0)',\n",
    "        font_size = 20\n",
    "    ),\n",
    "    margin={'r':40}\n",
    ")\n",
    "go.Figure(data, layout)"
   ]
  },
  {
   "cell_type": "code",
   "execution_count": 14,
   "metadata": {},
   "outputs": [
    {
     "data": {
      "application/vnd.plotly.v1+json": {
       "config": {
        "plotlyServerURL": "https://plot.ly"
       },
       "data": [
        {
         "name": "loss",
         "type": "scatter",
         "x": [
          10000,
          10005,
          10010,
          10015,
          10020,
          10025,
          10030,
          10035,
          10040,
          10045,
          10050,
          10055,
          10060,
          10065,
          10070,
          10075,
          10080,
          10085,
          10090,
          10095,
          10100,
          10105,
          10110,
          10115,
          10120,
          10125,
          10130,
          10135,
          10140,
          10145
         ],
         "y": [
          0.47718301278687325,
          0.5264824123566554,
          0.5683160706759065,
          0.6032470185604624,
          0.6318382868261583,
          0.6546529062888302,
          0.6722539077643137,
          0.6852043220684445,
          0.6940671800170582,
          0.699405512425991,
          0.7017823501110779,
          0.7017607238881547,
          0.6999036645730573,
          0.6967742029816215,
          0.6929353699296824,
          0.6889501962330764,
          0.6853817127076386,
          0.6827929501692049,
          0.6817469394336113,
          0.6828067113166931,
          0.686535296634286,
          0.6934957262022257,
          0.7042510308363479,
          0.7193642413524883,
          0.7393983885664828,
          0.7649165032941667,
          0.7964816163513758,
          0.8346567585539459,
          0.8800049607177125,
          0.9330892536585116
         ]
        },
        {
         "name": "val_loss",
         "type": "scatter",
         "x": [
          10000,
          10005,
          10010,
          10015,
          10020,
          10025,
          10030,
          10035,
          10040,
          10045,
          10050,
          10055,
          10060,
          10065,
          10070,
          10075,
          10080,
          10085,
          10090,
          10095,
          10100,
          10105,
          10110,
          10115,
          10120,
          10125,
          10130,
          10135,
          10140
         ],
         "y": [
          0.6442386800491199,
          0.6482360917940599,
          0.6515071457076056,
          0.6541144843968968,
          0.6561207504690733,
          0.6575885865312748,
          0.6585806351906408,
          0.6591595390543112,
          0.6593879407294261,
          0.6593284828231245,
          0.6590438079425469,
          0.6585965586948324,
          0.6580493776871214,
          0.657464907526553,
          0.6569057908202672,
          0.6564346701754039,
          0.6561141881991026,
          0.6560069874985032,
          0.6561757106807453,
          0.6566830003529688,
          0.6575914991223134,
          0.6589638495959187,
          0.6608626943809245,
          0.6633506760844708,
          0.6664904373136968,
          0.6703446206757427,
          0.6749758687777483,
          0.680446824226853,
          0.6868201296301967
         ]
        }
       ],
       "layout": {
        "height": 1000,
        "legend": {
         "bgcolor": "rgba(0,0,0,0)",
         "font": {
          "size": 20
         },
         "x": 0.02,
         "y": 0.98
        },
        "margin": {
         "r": 0
        },
        "template": {
         "data": {
          "bar": [
           {
            "error_x": {
             "color": "#2a3f5f"
            },
            "error_y": {
             "color": "#2a3f5f"
            },
            "marker": {
             "line": {
              "color": "#E5ECF6",
              "width": 0.5
             },
             "pattern": {
              "fillmode": "overlay",
              "size": 10,
              "solidity": 0.2
             }
            },
            "type": "bar"
           }
          ],
          "barpolar": [
           {
            "marker": {
             "line": {
              "color": "#E5ECF6",
              "width": 0.5
             },
             "pattern": {
              "fillmode": "overlay",
              "size": 10,
              "solidity": 0.2
             }
            },
            "type": "barpolar"
           }
          ],
          "carpet": [
           {
            "aaxis": {
             "endlinecolor": "#2a3f5f",
             "gridcolor": "white",
             "linecolor": "white",
             "minorgridcolor": "white",
             "startlinecolor": "#2a3f5f"
            },
            "baxis": {
             "endlinecolor": "#2a3f5f",
             "gridcolor": "white",
             "linecolor": "white",
             "minorgridcolor": "white",
             "startlinecolor": "#2a3f5f"
            },
            "type": "carpet"
           }
          ],
          "choropleth": [
           {
            "colorbar": {
             "outlinewidth": 0,
             "ticks": ""
            },
            "type": "choropleth"
           }
          ],
          "contour": [
           {
            "colorbar": {
             "outlinewidth": 0,
             "ticks": ""
            },
            "colorscale": [
             [
              0,
              "#0d0887"
             ],
             [
              0.1111111111111111,
              "#46039f"
             ],
             [
              0.2222222222222222,
              "#7201a8"
             ],
             [
              0.3333333333333333,
              "#9c179e"
             ],
             [
              0.4444444444444444,
              "#bd3786"
             ],
             [
              0.5555555555555556,
              "#d8576b"
             ],
             [
              0.6666666666666666,
              "#ed7953"
             ],
             [
              0.7777777777777778,
              "#fb9f3a"
             ],
             [
              0.8888888888888888,
              "#fdca26"
             ],
             [
              1,
              "#f0f921"
             ]
            ],
            "type": "contour"
           }
          ],
          "contourcarpet": [
           {
            "colorbar": {
             "outlinewidth": 0,
             "ticks": ""
            },
            "type": "contourcarpet"
           }
          ],
          "heatmap": [
           {
            "colorbar": {
             "outlinewidth": 0,
             "ticks": ""
            },
            "colorscale": [
             [
              0,
              "#0d0887"
             ],
             [
              0.1111111111111111,
              "#46039f"
             ],
             [
              0.2222222222222222,
              "#7201a8"
             ],
             [
              0.3333333333333333,
              "#9c179e"
             ],
             [
              0.4444444444444444,
              "#bd3786"
             ],
             [
              0.5555555555555556,
              "#d8576b"
             ],
             [
              0.6666666666666666,
              "#ed7953"
             ],
             [
              0.7777777777777778,
              "#fb9f3a"
             ],
             [
              0.8888888888888888,
              "#fdca26"
             ],
             [
              1,
              "#f0f921"
             ]
            ],
            "type": "heatmap"
           }
          ],
          "heatmapgl": [
           {
            "colorbar": {
             "outlinewidth": 0,
             "ticks": ""
            },
            "colorscale": [
             [
              0,
              "#0d0887"
             ],
             [
              0.1111111111111111,
              "#46039f"
             ],
             [
              0.2222222222222222,
              "#7201a8"
             ],
             [
              0.3333333333333333,
              "#9c179e"
             ],
             [
              0.4444444444444444,
              "#bd3786"
             ],
             [
              0.5555555555555556,
              "#d8576b"
             ],
             [
              0.6666666666666666,
              "#ed7953"
             ],
             [
              0.7777777777777778,
              "#fb9f3a"
             ],
             [
              0.8888888888888888,
              "#fdca26"
             ],
             [
              1,
              "#f0f921"
             ]
            ],
            "type": "heatmapgl"
           }
          ],
          "histogram": [
           {
            "marker": {
             "pattern": {
              "fillmode": "overlay",
              "size": 10,
              "solidity": 0.2
             }
            },
            "type": "histogram"
           }
          ],
          "histogram2d": [
           {
            "colorbar": {
             "outlinewidth": 0,
             "ticks": ""
            },
            "colorscale": [
             [
              0,
              "#0d0887"
             ],
             [
              0.1111111111111111,
              "#46039f"
             ],
             [
              0.2222222222222222,
              "#7201a8"
             ],
             [
              0.3333333333333333,
              "#9c179e"
             ],
             [
              0.4444444444444444,
              "#bd3786"
             ],
             [
              0.5555555555555556,
              "#d8576b"
             ],
             [
              0.6666666666666666,
              "#ed7953"
             ],
             [
              0.7777777777777778,
              "#fb9f3a"
             ],
             [
              0.8888888888888888,
              "#fdca26"
             ],
             [
              1,
              "#f0f921"
             ]
            ],
            "type": "histogram2d"
           }
          ],
          "histogram2dcontour": [
           {
            "colorbar": {
             "outlinewidth": 0,
             "ticks": ""
            },
            "colorscale": [
             [
              0,
              "#0d0887"
             ],
             [
              0.1111111111111111,
              "#46039f"
             ],
             [
              0.2222222222222222,
              "#7201a8"
             ],
             [
              0.3333333333333333,
              "#9c179e"
             ],
             [
              0.4444444444444444,
              "#bd3786"
             ],
             [
              0.5555555555555556,
              "#d8576b"
             ],
             [
              0.6666666666666666,
              "#ed7953"
             ],
             [
              0.7777777777777778,
              "#fb9f3a"
             ],
             [
              0.8888888888888888,
              "#fdca26"
             ],
             [
              1,
              "#f0f921"
             ]
            ],
            "type": "histogram2dcontour"
           }
          ],
          "mesh3d": [
           {
            "colorbar": {
             "outlinewidth": 0,
             "ticks": ""
            },
            "type": "mesh3d"
           }
          ],
          "parcoords": [
           {
            "line": {
             "colorbar": {
              "outlinewidth": 0,
              "ticks": ""
             }
            },
            "type": "parcoords"
           }
          ],
          "pie": [
           {
            "automargin": true,
            "type": "pie"
           }
          ],
          "scatter": [
           {
            "fillpattern": {
             "fillmode": "overlay",
             "size": 10,
             "solidity": 0.2
            },
            "type": "scatter"
           }
          ],
          "scatter3d": [
           {
            "line": {
             "colorbar": {
              "outlinewidth": 0,
              "ticks": ""
             }
            },
            "marker": {
             "colorbar": {
              "outlinewidth": 0,
              "ticks": ""
             }
            },
            "type": "scatter3d"
           }
          ],
          "scattercarpet": [
           {
            "marker": {
             "colorbar": {
              "outlinewidth": 0,
              "ticks": ""
             }
            },
            "type": "scattercarpet"
           }
          ],
          "scattergeo": [
           {
            "marker": {
             "colorbar": {
              "outlinewidth": 0,
              "ticks": ""
             }
            },
            "type": "scattergeo"
           }
          ],
          "scattergl": [
           {
            "marker": {
             "colorbar": {
              "outlinewidth": 0,
              "ticks": ""
             }
            },
            "type": "scattergl"
           }
          ],
          "scattermapbox": [
           {
            "marker": {
             "colorbar": {
              "outlinewidth": 0,
              "ticks": ""
             }
            },
            "type": "scattermapbox"
           }
          ],
          "scatterpolar": [
           {
            "marker": {
             "colorbar": {
              "outlinewidth": 0,
              "ticks": ""
             }
            },
            "type": "scatterpolar"
           }
          ],
          "scatterpolargl": [
           {
            "marker": {
             "colorbar": {
              "outlinewidth": 0,
              "ticks": ""
             }
            },
            "type": "scatterpolargl"
           }
          ],
          "scatterternary": [
           {
            "marker": {
             "colorbar": {
              "outlinewidth": 0,
              "ticks": ""
             }
            },
            "type": "scatterternary"
           }
          ],
          "surface": [
           {
            "colorbar": {
             "outlinewidth": 0,
             "ticks": ""
            },
            "colorscale": [
             [
              0,
              "#0d0887"
             ],
             [
              0.1111111111111111,
              "#46039f"
             ],
             [
              0.2222222222222222,
              "#7201a8"
             ],
             [
              0.3333333333333333,
              "#9c179e"
             ],
             [
              0.4444444444444444,
              "#bd3786"
             ],
             [
              0.5555555555555556,
              "#d8576b"
             ],
             [
              0.6666666666666666,
              "#ed7953"
             ],
             [
              0.7777777777777778,
              "#fb9f3a"
             ],
             [
              0.8888888888888888,
              "#fdca26"
             ],
             [
              1,
              "#f0f921"
             ]
            ],
            "type": "surface"
           }
          ],
          "table": [
           {
            "cells": {
             "fill": {
              "color": "#EBF0F8"
             },
             "line": {
              "color": "white"
             }
            },
            "header": {
             "fill": {
              "color": "#C8D4E3"
             },
             "line": {
              "color": "white"
             }
            },
            "type": "table"
           }
          ]
         },
         "layout": {
          "annotationdefaults": {
           "arrowcolor": "#2a3f5f",
           "arrowhead": 0,
           "arrowwidth": 1
          },
          "autotypenumbers": "strict",
          "coloraxis": {
           "colorbar": {
            "outlinewidth": 0,
            "ticks": ""
           }
          },
          "colorscale": {
           "diverging": [
            [
             0,
             "#8e0152"
            ],
            [
             0.1,
             "#c51b7d"
            ],
            [
             0.2,
             "#de77ae"
            ],
            [
             0.3,
             "#f1b6da"
            ],
            [
             0.4,
             "#fde0ef"
            ],
            [
             0.5,
             "#f7f7f7"
            ],
            [
             0.6,
             "#e6f5d0"
            ],
            [
             0.7,
             "#b8e186"
            ],
            [
             0.8,
             "#7fbc41"
            ],
            [
             0.9,
             "#4d9221"
            ],
            [
             1,
             "#276419"
            ]
           ],
           "sequential": [
            [
             0,
             "#0d0887"
            ],
            [
             0.1111111111111111,
             "#46039f"
            ],
            [
             0.2222222222222222,
             "#7201a8"
            ],
            [
             0.3333333333333333,
             "#9c179e"
            ],
            [
             0.4444444444444444,
             "#bd3786"
            ],
            [
             0.5555555555555556,
             "#d8576b"
            ],
            [
             0.6666666666666666,
             "#ed7953"
            ],
            [
             0.7777777777777778,
             "#fb9f3a"
            ],
            [
             0.8888888888888888,
             "#fdca26"
            ],
            [
             1,
             "#f0f921"
            ]
           ],
           "sequentialminus": [
            [
             0,
             "#0d0887"
            ],
            [
             0.1111111111111111,
             "#46039f"
            ],
            [
             0.2222222222222222,
             "#7201a8"
            ],
            [
             0.3333333333333333,
             "#9c179e"
            ],
            [
             0.4444444444444444,
             "#bd3786"
            ],
            [
             0.5555555555555556,
             "#d8576b"
            ],
            [
             0.6666666666666666,
             "#ed7953"
            ],
            [
             0.7777777777777778,
             "#fb9f3a"
            ],
            [
             0.8888888888888888,
             "#fdca26"
            ],
            [
             1,
             "#f0f921"
            ]
           ]
          },
          "colorway": [
           "#636efa",
           "#EF553B",
           "#00cc96",
           "#ab63fa",
           "#FFA15A",
           "#19d3f3",
           "#FF6692",
           "#B6E880",
           "#FF97FF",
           "#FECB52"
          ],
          "font": {
           "color": "#2a3f5f"
          },
          "geo": {
           "bgcolor": "white",
           "lakecolor": "white",
           "landcolor": "#E5ECF6",
           "showlakes": true,
           "showland": true,
           "subunitcolor": "white"
          },
          "hoverlabel": {
           "align": "left"
          },
          "hovermode": "closest",
          "mapbox": {
           "style": "light"
          },
          "paper_bgcolor": "white",
          "plot_bgcolor": "#E5ECF6",
          "polar": {
           "angularaxis": {
            "gridcolor": "white",
            "linecolor": "white",
            "ticks": ""
           },
           "bgcolor": "#E5ECF6",
           "radialaxis": {
            "gridcolor": "white",
            "linecolor": "white",
            "ticks": ""
           }
          },
          "scene": {
           "xaxis": {
            "backgroundcolor": "#E5ECF6",
            "gridcolor": "white",
            "gridwidth": 2,
            "linecolor": "white",
            "showbackground": true,
            "ticks": "",
            "zerolinecolor": "white"
           },
           "yaxis": {
            "backgroundcolor": "#E5ECF6",
            "gridcolor": "white",
            "gridwidth": 2,
            "linecolor": "white",
            "showbackground": true,
            "ticks": "",
            "zerolinecolor": "white"
           },
           "zaxis": {
            "backgroundcolor": "#E5ECF6",
            "gridcolor": "white",
            "gridwidth": 2,
            "linecolor": "white",
            "showbackground": true,
            "ticks": "",
            "zerolinecolor": "white"
           }
          },
          "shapedefaults": {
           "line": {
            "color": "#2a3f5f"
           }
          },
          "ternary": {
           "aaxis": {
            "gridcolor": "white",
            "linecolor": "white",
            "ticks": ""
           },
           "baxis": {
            "gridcolor": "white",
            "linecolor": "white",
            "ticks": ""
           },
           "bgcolor": "#E5ECF6",
           "caxis": {
            "gridcolor": "white",
            "linecolor": "white",
            "ticks": ""
           }
          },
          "title": {
           "x": 0.05
          },
          "xaxis": {
           "automargin": true,
           "gridcolor": "white",
           "linecolor": "white",
           "ticks": "",
           "title": {
            "standoff": 15
           },
           "zerolinecolor": "white",
           "zerolinewidth": 2
          },
          "yaxis": {
           "automargin": true,
           "gridcolor": "white",
           "linecolor": "white",
           "ticks": "",
           "title": {
            "standoff": 15
           },
           "zerolinecolor": "white",
           "zerolinewidth": 2
          }
         }
        },
        "title": {
         "font": {
          "size": 30
         },
         "text": "loss per epoch",
         "x": 0.5
        },
        "xaxis": {
         "title": {
          "font": {
           "size": 20
          },
          "text": "epoch"
         }
        },
        "yaxis": {
         "title": {
          "font": {
           "size": 20
          },
          "text": "loss"
         }
        }
       }
      }
     },
     "metadata": {},
     "output_type": "display_data"
    }
   ],
   "source": [
    "tck = interpolate.splrep(X_axis, CNN_model.history['loss'][0], k = 3, s = 25)\n",
    "loss_smoothed = interpolate.splev(X_axis, tck, der = 0)\n",
    "\n",
    "tck = interpolate.splrep(X_axis[:-1], CNN_model.history['val_loss'][0], k = 3, s = 0.02)\n",
    "val_loss_smoothed = interpolate.splev(X_axis[:-1], tck, der = 0)\n",
    "\n",
    "data = [go.Scatter(x=X_axis, y = loss_smoothed, name = 'loss'),\n",
    "        go.Scatter(x=X_axis[:-1], y = val_loss_smoothed, name = 'val_loss')]\n",
    "\n",
    "layout = go.Layout(\n",
    "    height = 1000,\n",
    "    title = dict(\n",
    "        text = 'loss per epoch',\n",
    "        font_size = 30,\n",
    "        x = .5\n",
    "    ),\n",
    "    xaxis_title = dict(\n",
    "        text = 'epoch',\n",
    "        font_size = 20\n",
    "    ),\n",
    "    yaxis_title = dict(\n",
    "        text = 'loss',\n",
    "        font_size = 20\n",
    "    ),\n",
    "    legend = dict(\n",
    "        x = 0.02, y = .98,\n",
    "        bgcolor = 'rgba(0,0,0,0)',\n",
    "        font_size = 20\n",
    "    ),\n",
    "    margin={'r':0}\n",
    ")\n",
    "go.Figure(data, layout)"
   ]
  },
  {
   "cell_type": "code",
   "execution_count": 15,
   "metadata": {},
   "outputs": [],
   "source": [
    "# predictions = CNN_model.predict(X_test[:1000])\n",
    "# accuracy_score(np.argmax(y_test[:1000], 1), predictions)"
   ]
  },
  {
   "cell_type": "code",
   "execution_count": 16,
   "metadata": {},
   "outputs": [
    {
     "data": {
      "text/plain": [
       "<Axes: ylabel='count'>"
      ]
     },
     "execution_count": 16,
     "metadata": {},
     "output_type": "execute_result"
    },
    {
     "data": {
      "image/png": "[encoded data removed]",
      "text/plain": [
       "<Figure size 640x480 with 1 Axes>"
      ]
     },
     "metadata": {},
     "output_type": "display_data"
    }
   ],
   "source": [
    "sns.countplot(x=y_test.flatten())"
   ]
  },
  {
   "cell_type": "code",
   "execution_count": 17,
   "metadata": {},
   "outputs": [],
   "source": [
    "correctly_predicted = []\n",
    "accuracies = []\n",
    "\n",
    "for i in range(10):\n",
    "    X_test_class = X_test[y_test.flatten() == i]\n",
    "    predictions = CNN_model.predict(X_test_class)\n",
    "    correctly_predicted.append(np.sum(predictions == i))\n",
    "    accuracies.append(correctly_predicted[-1] / len(predictions))\n",
    "    \n",
    "correctly_predicted, accuracies = np.array(correctly_predicted), np.array(accuracies)"
   ]
  },
  {
   "cell_type": "code",
   "execution_count": 18,
   "metadata": {},
   "outputs": [
    {
     "data": {
      "application/vnd.plotly.v1+json": {
       "config": {
        "plotlyServerURL": "https://plot.ly"
       },
       "data": [
        {
         "type": "bar",
         "x": [
          "T-shirt/top",
          "Trouser",
          "Pullover",
          "Dress",
          "Coat",
          "Sandal",
          "Shirt",
          "Sneaker",
          "Bag",
          "Ankle boot"
         ],
         "y": [
          728,
          918,
          471,
          776,
          606,
          801,
          585,
          908,
          865,
          907
         ]
        }
       ],
       "layout": {
        "height": 500,
        "template": {
         "data": {
          "bar": [
           {
            "error_x": {
             "color": "#2a3f5f"
            },
            "error_y": {
             "color": "#2a3f5f"
            },
            "marker": {
             "line": {
              "color": "#E5ECF6",
              "width": 0.5
             },
             "pattern": {
              "fillmode": "overlay",
              "size": 10,
              "solidity": 0.2
             }
            },
            "type": "bar"
           }
          ],
          "barpolar": [
           {
            "marker": {
             "line": {
              "color": "#E5ECF6",
              "width": 0.5
             },
             "pattern": {
              "fillmode": "overlay",
              "size": 10,
              "solidity": 0.2
             }
            },
            "type": "barpolar"
           }
          ],
          "carpet": [
           {
            "aaxis": {
             "endlinecolor": "#2a3f5f",
             "gridcolor": "white",
             "linecolor": "white",
             "minorgridcolor": "white",
             "startlinecolor": "#2a3f5f"
            },
            "baxis": {
             "endlinecolor": "#2a3f5f",
             "gridcolor": "white",
             "linecolor": "white",
             "minorgridcolor": "white",
             "startlinecolor": "#2a3f5f"
            },
            "type": "carpet"
           }
          ],
          "choropleth": [
           {
            "colorbar": {
             "outlinewidth": 0,
             "ticks": ""
            },
            "type": "choropleth"
           }
          ],
          "contour": [
           {
            "colorbar": {
             "outlinewidth": 0,
             "ticks": ""
            },
            "colorscale": [
             [
              0,
              "#0d0887"
             ],
             [
              0.1111111111111111,
              "#46039f"
             ],
             [
              0.2222222222222222,
              "#7201a8"
             ],
             [
              0.3333333333333333,
              "#9c179e"
             ],
             [
              0.4444444444444444,
              "#bd3786"
             ],
             [
              0.5555555555555556,
              "#d8576b"
             ],
             [
              0.6666666666666666,
              "#ed7953"
             ],
             [
              0.7777777777777778,
              "#fb9f3a"
             ],
             [
              0.8888888888888888,
              "#fdca26"
             ],
             [
              1,
              "#f0f921"
             ]
            ],
            "type": "contour"
           }
          ],
          "contourcarpet": [
           {
            "colorbar": {
             "outlinewidth": 0,
             "ticks": ""
            },
            "type": "contourcarpet"
           }
          ],
          "heatmap": [
           {
            "colorbar": {
             "outlinewidth": 0,
             "ticks": ""
            },
            "colorscale": [
             [
              0,
              "#0d0887"
             ],
             [
              0.1111111111111111,
              "#46039f"
             ],
             [
              0.2222222222222222,
              "#7201a8"
             ],
             [
              0.3333333333333333,
              "#9c179e"
             ],
             [
              0.4444444444444444,
              "#bd3786"
             ],
             [
              0.5555555555555556,
              "#d8576b"
             ],
             [
              0.6666666666666666,
              "#ed7953"
             ],
             [
              0.7777777777777778,
              "#fb9f3a"
             ],
             [
              0.8888888888888888,
              "#fdca26"
             ],
             [
              1,
              "#f0f921"
             ]
            ],
            "type": "heatmap"
           }
          ],
          "heatmapgl": [
           {
            "colorbar": {
             "outlinewidth": 0,
             "ticks": ""
            },
            "colorscale": [
             [
              0,
              "#0d0887"
             ],
             [
              0.1111111111111111,
              "#46039f"
             ],
             [
              0.2222222222222222,
              "#7201a8"
             ],
             [
              0.3333333333333333,
              "#9c179e"
             ],
             [
              0.4444444444444444,
              "#bd3786"
             ],
             [
              0.5555555555555556,
              "#d8576b"
             ],
             [
              0.6666666666666666,
              "#ed7953"
             ],
             [
              0.7777777777777778,
              "#fb9f3a"
             ],
             [
              0.8888888888888888,
              "#fdca26"
             ],
             [
              1,
              "#f0f921"
             ]
            ],
            "type": "heatmapgl"
           }
          ],
          "histogram": [
           {
            "marker": {
             "pattern": {
              "fillmode": "overlay",
              "size": 10,
              "solidity": 0.2
             }
            },
            "type": "histogram"
           }
          ],
          "histogram2d": [
           {
            "colorbar": {
             "outlinewidth": 0,
             "ticks": ""
            },
            "colorscale": [
             [
              0,
              "#0d0887"
             ],
             [
              0.1111111111111111,
              "#46039f"
             ],
             [
              0.2222222222222222,
              "#7201a8"
             ],
             [
              0.3333333333333333,
              "#9c179e"
             ],
             [
              0.4444444444444444,
              "#bd3786"
             ],
             [
              0.5555555555555556,
              "#d8576b"
             ],
             [
              0.6666666666666666,
              "#ed7953"
             ],
             [
              0.7777777777777778,
              "#fb9f3a"
             ],
             [
              0.8888888888888888,
              "#fdca26"
             ],
             [
              1,
              "#f0f921"
             ]
            ],
            "type": "histogram2d"
           }
          ],
          "histogram2dcontour": [
           {
            "colorbar": {
             "outlinewidth": 0,
             "ticks": ""
            },
            "colorscale": [
             [
              0,
              "#0d0887"
             ],
             [
              0.1111111111111111,
              "#46039f"
             ],
             [
              0.2222222222222222,
              "#7201a8"
             ],
             [
              0.3333333333333333,
              "#9c179e"
             ],
             [
              0.4444444444444444,
              "#bd3786"
             ],
             [
              0.5555555555555556,
              "#d8576b"
             ],
             [
              0.6666666666666666,
              "#ed7953"
             ],
             [
              0.7777777777777778,
              "#fb9f3a"
             ],
             [
              0.8888888888888888,
              "#fdca26"
             ],
             [
              1,
              "#f0f921"
             ]
            ],
            "type": "histogram2dcontour"
           }
          ],
          "mesh3d": [
           {
            "colorbar": {
             "outlinewidth": 0,
             "ticks": ""
            },
            "type": "mesh3d"
           }
          ],
          "parcoords": [
           {
            "line": {
             "colorbar": {
              "outlinewidth": 0,
              "ticks": ""
             }
            },
            "type": "parcoords"
           }
          ],
          "pie": [
           {
            "automargin": true,
            "type": "pie"
           }
          ],
          "scatter": [
           {
            "fillpattern": {
             "fillmode": "overlay",
             "size": 10,
             "solidity": 0.2
            },
            "type": "scatter"
           }
          ],
          "scatter3d": [
           {
            "line": {
             "colorbar": {
              "outlinewidth": 0,
              "ticks": ""
             }
            },
            "marker": {
             "colorbar": {
              "outlinewidth": 0,
              "ticks": ""
             }
            },
            "type": "scatter3d"
           }
          ],
          "scattercarpet": [
           {
            "marker": {
             "colorbar": {
              "outlinewidth": 0,
              "ticks": ""
             }
            },
            "type": "scattercarpet"
           }
          ],
          "scattergeo": [
           {
            "marker": {
             "colorbar": {
              "outlinewidth": 0,
              "ticks": ""
             }
            },
            "type": "scattergeo"
           }
          ],
          "scattergl": [
           {
            "marker": {
             "colorbar": {
              "outlinewidth": 0,
              "ticks": ""
             }
            },
            "type": "scattergl"
           }
          ],
          "scattermapbox": [
           {
            "marker": {
             "colorbar": {
              "outlinewidth": 0,
              "ticks": ""
             }
            },
            "type": "scattermapbox"
           }
          ],
          "scatterpolar": [
           {
            "marker": {
             "colorbar": {
              "outlinewidth": 0,
              "ticks": ""
             }
            },
            "type": "scatterpolar"
           }
          ],
          "scatterpolargl": [
           {
            "marker": {
             "colorbar": {
              "outlinewidth": 0,
              "ticks": ""
             }
            },
            "type": "scatterpolargl"
           }
          ],
          "scatterternary": [
           {
            "marker": {
             "colorbar": {
              "outlinewidth": 0,
              "ticks": ""
             }
            },
            "type": "scatterternary"
           }
          ],
          "surface": [
           {
            "colorbar": {
             "outlinewidth": 0,
             "ticks": ""
            },
            "colorscale": [
             [
              0,
              "#0d0887"
             ],
             [
              0.1111111111111111,
              "#46039f"
             ],
             [
              0.2222222222222222,
              "#7201a8"
             ],
             [
              0.3333333333333333,
              "#9c179e"
             ],
             [
              0.4444444444444444,
              "#bd3786"
             ],
             [
              0.5555555555555556,
              "#d8576b"
             ],
             [
              0.6666666666666666,
              "#ed7953"
             ],
             [
              0.7777777777777778,
              "#fb9f3a"
             ],
             [
              0.8888888888888888,
              "#fdca26"
             ],
             [
              1,
              "#f0f921"
             ]
            ],
            "type": "surface"
           }
          ],
          "table": [
           {
            "cells": {
             "fill": {
              "color": "#EBF0F8"
             },
             "line": {
              "color": "white"
             }
            },
            "header": {
             "fill": {
              "color": "#C8D4E3"
             },
             "line": {
              "color": "white"
             }
            },
            "type": "table"
           }
          ]
         },
         "layout": {
          "annotationdefaults": {
           "arrowcolor": "#2a3f5f",
           "arrowhead": 0,
           "arrowwidth": 1
          },
          "autotypenumbers": "strict",
          "coloraxis": {
           "colorbar": {
            "outlinewidth": 0,
            "ticks": ""
           }
          },
          "colorscale": {
           "diverging": [
            [
             0,
             "#8e0152"
            ],
            [
             0.1,
             "#c51b7d"
            ],
            [
             0.2,
             "#de77ae"
            ],
            [
             0.3,
             "#f1b6da"
            ],
            [
             0.4,
             "#fde0ef"
            ],
            [
             0.5,
             "#f7f7f7"
            ],
            [
             0.6,
             "#e6f5d0"
            ],
            [
             0.7,
             "#b8e186"
            ],
            [
             0.8,
             "#7fbc41"
            ],
            [
             0.9,
             "#4d9221"
            ],
            [
             1,
             "#276419"
            ]
           ],
           "sequential": [
            [
             0,
             "#0d0887"
            ],
            [
             0.1111111111111111,
             "#46039f"
            ],
            [
             0.2222222222222222,
             "#7201a8"
            ],
            [
             0.3333333333333333,
             "#9c179e"
            ],
            [
             0.4444444444444444,
             "#bd3786"
            ],
            [
             0.5555555555555556,
             "#d8576b"
            ],
            [
             0.6666666666666666,
             "#ed7953"
            ],
            [
             0.7777777777777778,
             "#fb9f3a"
            ],
            [
             0.8888888888888888,
             "#fdca26"
            ],
            [
             1,
             "#f0f921"
            ]
           ],
           "sequentialminus": [
            [
             0,
             "#0d0887"
            ],
            [
             0.1111111111111111,
             "#46039f"
            ],
            [
             0.2222222222222222,
             "#7201a8"
            ],
            [
             0.3333333333333333,
             "#9c179e"
            ],
            [
             0.4444444444444444,
             "#bd3786"
            ],
            [
             0.5555555555555556,
             "#d8576b"
            ],
            [
             0.6666666666666666,
             "#ed7953"
            ],
            [
             0.7777777777777778,
             "#fb9f3a"
            ],
            [
             0.8888888888888888,
             "#fdca26"
            ],
            [
             1,
             "#f0f921"
            ]
           ]
          },
          "colorway": [
           "#636efa",
           "#EF553B",
           "#00cc96",
           "#ab63fa",
           "#FFA15A",
           "#19d3f3",
           "#FF6692",
           "#B6E880",
           "#FF97FF",
           "#FECB52"
          ],
          "font": {
           "color": "#2a3f5f"
          },
          "geo": {
           "bgcolor": "white",
           "lakecolor": "white",
           "landcolor": "#E5ECF6",
           "showlakes": true,
           "showland": true,
           "subunitcolor": "white"
          },
          "hoverlabel": {
           "align": "left"
          },
          "hovermode": "closest",
          "mapbox": {
           "style": "light"
          },
          "paper_bgcolor": "white",
          "plot_bgcolor": "#E5ECF6",
          "polar": {
           "angularaxis": {
            "gridcolor": "white",
            "linecolor": "white",
            "ticks": ""
           },
           "bgcolor": "#E5ECF6",
           "radialaxis": {
            "gridcolor": "white",
            "linecolor": "white",
            "ticks": ""
           }
          },
          "scene": {
           "xaxis": {
            "backgroundcolor": "#E5ECF6",
            "gridcolor": "white",
            "gridwidth": 2,
            "linecolor": "white",
            "showbackground": true,
            "ticks": "",
            "zerolinecolor": "white"
           },
           "yaxis": {
            "backgroundcolor": "#E5ECF6",
            "gridcolor": "white",
            "gridwidth": 2,
            "linecolor": "white",
            "showbackground": true,
            "ticks": "",
            "zerolinecolor": "white"
           },
           "zaxis": {
            "backgroundcolor": "#E5ECF6",
            "gridcolor": "white",
            "gridwidth": 2,
            "linecolor": "white",
            "showbackground": true,
            "ticks": "",
            "zerolinecolor": "white"
           }
          },
          "shapedefaults": {
           "line": {
            "color": "#2a3f5f"
           }
          },
          "ternary": {
           "aaxis": {
            "gridcolor": "white",
            "linecolor": "white",
            "ticks": ""
           },
           "baxis": {
            "gridcolor": "white",
            "linecolor": "white",
            "ticks": ""
           },
           "bgcolor": "#E5ECF6",
           "caxis": {
            "gridcolor": "white",
            "linecolor": "white",
            "ticks": ""
           }
          },
          "title": {
           "x": 0.05
          },
          "xaxis": {
           "automargin": true,
           "gridcolor": "white",
           "linecolor": "white",
           "ticks": "",
           "title": {
            "standoff": 15
           },
           "zerolinecolor": "white",
           "zerolinewidth": 2
          },
          "yaxis": {
           "automargin": true,
           "gridcolor": "white",
           "linecolor": "white",
           "ticks": "",
           "title": {
            "standoff": 15
           },
           "zerolinecolor": "white",
           "zerolinewidth": 2
          }
         }
        },
        "title": {
         "font": {
          "size": 30
         },
         "text": "Correctly predicted clothes in nums",
         "x": 0.5
        },
        "xaxis": {
         "title": {
          "font": {
           "size": 20
          },
          "text": "Clothe"
         }
        },
        "yaxis": {
         "range": [
          0,
          1000
         ],
         "title": {
          "font": {
           "size": 20
          },
          "text": "Num of predicted"
         }
        }
       }
      }
     },
     "metadata": {},
     "output_type": "display_data"
    }
   ],
   "source": [
    "data = [\n",
    "    go.Bar(x = list(labels.values()), y = correctly_predicted),\n",
    "]\n",
    "\n",
    "layout = go.Layout(\n",
    "    height = 500,\n",
    "    title = dict(\n",
    "        text = 'Correctly predicted clothes in nums',\n",
    "        font_size = 30,\n",
    "        x = .5\n",
    "    ),\n",
    "    xaxis_title = dict(\n",
    "        text = 'Clothe',\n",
    "        font_size = 20\n",
    "    ),\n",
    "    yaxis_range = [0,1000],\n",
    "    yaxis_title = dict(\n",
    "        text = 'Num of predicted',\n",
    "        font_size = 20\n",
    "    ),\n",
    ")\n",
    "go.Figure(data, layout)"
   ]
  },
  {
   "cell_type": "code",
   "execution_count": 19,
   "metadata": {},
   "outputs": [
    {
     "data": {
      "application/vnd.plotly.v1+json": {
       "config": {
        "plotlyServerURL": "https://plot.ly"
       },
       "data": [
        {
         "type": "bar",
         "x": [
          "T-shirt/top",
          "Trouser",
          "Pullover",
          "Dress",
          "Coat",
          "Sandal",
          "Shirt",
          "Sneaker",
          "Bag",
          "Ankle boot"
         ],
         "y": [
          72.8,
          91.8,
          47.099999999999994,
          77.60000000000001,
          60.6,
          80.10000000000001,
          58.5,
          90.8,
          86.5,
          90.7
         ]
        }
       ],
       "layout": {
        "height": 500,
        "template": {
         "data": {
          "bar": [
           {
            "error_x": {
             "color": "#2a3f5f"
            },
            "error_y": {
             "color": "#2a3f5f"
            },
            "marker": {
             "line": {
              "color": "#E5ECF6",
              "width": 0.5
             },
             "pattern": {
              "fillmode": "overlay",
              "size": 10,
              "solidity": 0.2
             }
            },
            "type": "bar"
           }
          ],
          "barpolar": [
           {
            "marker": {
             "line": {
              "color": "#E5ECF6",
              "width": 0.5
             },
             "pattern": {
              "fillmode": "overlay",
              "size": 10,
              "solidity": 0.2
             }
            },
            "type": "barpolar"
           }
          ],
          "carpet": [
           {
            "aaxis": {
             "endlinecolor": "#2a3f5f",
             "gridcolor": "white",
             "linecolor": "white",
             "minorgridcolor": "white",
             "startlinecolor": "#2a3f5f"
            },
            "baxis": {
             "endlinecolor": "#2a3f5f",
             "gridcolor": "white",
             "linecolor": "white",
             "minorgridcolor": "white",
             "startlinecolor": "#2a3f5f"
            },
            "type": "carpet"
           }
          ],
          "choropleth": [
           {
            "colorbar": {
             "outlinewidth": 0,
             "ticks": ""
            },
            "type": "choropleth"
           }
          ],
          "contour": [
           {
            "colorbar": {
             "outlinewidth": 0,
             "ticks": ""
            },
            "colorscale": [
             [
              0,
              "#0d0887"
             ],
             [
              0.1111111111111111,
              "#46039f"
             ],
             [
              0.2222222222222222,
              "#7201a8"
             ],
             [
              0.3333333333333333,
              "#9c179e"
             ],
             [
              0.4444444444444444,
              "#bd3786"
             ],
             [
              0.5555555555555556,
              "#d8576b"
             ],
             [
              0.6666666666666666,
              "#ed7953"
             ],
             [
              0.7777777777777778,
              "#fb9f3a"
             ],
             [
              0.8888888888888888,
              "#fdca26"
             ],
             [
              1,
              "#f0f921"
             ]
            ],
            "type": "contour"
           }
          ],
          "contourcarpet": [
           {
            "colorbar": {
             "outlinewidth": 0,
             "ticks": ""
            },
            "type": "contourcarpet"
           }
          ],
          "heatmap": [
           {
            "colorbar": {
             "outlinewidth": 0,
             "ticks": ""
            },
            "colorscale": [
             [
              0,
              "#0d0887"
             ],
             [
              0.1111111111111111,
              "#46039f"
             ],
             [
              0.2222222222222222,
              "#7201a8"
             ],
             [
              0.3333333333333333,
              "#9c179e"
             ],
             [
              0.4444444444444444,
              "#bd3786"
             ],
             [
              0.5555555555555556,
              "#d8576b"
             ],
             [
              0.6666666666666666,
              "#ed7953"
             ],
             [
              0.7777777777777778,
              "#fb9f3a"
             ],
             [
              0.8888888888888888,
              "#fdca26"
             ],
             [
              1,
              "#f0f921"
             ]
            ],
            "type": "heatmap"
           }
          ],
          "heatmapgl": [
           {
            "colorbar": {
             "outlinewidth": 0,
             "ticks": ""
            },
            "colorscale": [
             [
              0,
              "#0d0887"
             ],
             [
              0.1111111111111111,
              "#46039f"
             ],
             [
              0.2222222222222222,
              "#7201a8"
             ],
             [
              0.3333333333333333,
              "#9c179e"
             ],
             [
              0.4444444444444444,
              "#bd3786"
             ],
             [
              0.5555555555555556,
              "#d8576b"
             ],
             [
              0.6666666666666666,
              "#ed7953"
             ],
             [
              0.7777777777777778,
              "#fb9f3a"
             ],
             [
              0.8888888888888888,
              "#fdca26"
             ],
             [
              1,
              "#f0f921"
             ]
            ],
            "type": "heatmapgl"
           }
          ],
          "histogram": [
           {
            "marker": {
             "pattern": {
              "fillmode": "overlay",
              "size": 10,
              "solidity": 0.2
             }
            },
            "type": "histogram"
           }
          ],
          "histogram2d": [
           {
            "colorbar": {
             "outlinewidth": 0,
             "ticks": ""
            },
            "colorscale": [
             [
              0,
              "#0d0887"
             ],
             [
              0.1111111111111111,
              "#46039f"
             ],
             [
              0.2222222222222222,
              "#7201a8"
             ],
             [
              0.3333333333333333,
              "#9c179e"
             ],
             [
              0.4444444444444444,
              "#bd3786"
             ],
             [
              0.5555555555555556,
              "#d8576b"
             ],
             [
              0.6666666666666666,
              "#ed7953"
             ],
             [
              0.7777777777777778,
              "#fb9f3a"
             ],
             [
              0.8888888888888888,
              "#fdca26"
             ],
             [
              1,
              "#f0f921"
             ]
            ],
            "type": "histogram2d"
           }
          ],
          "histogram2dcontour": [
           {
            "colorbar": {
             "outlinewidth": 0,
             "ticks": ""
            },
            "colorscale": [
             [
              0,
              "#0d0887"
             ],
             [
              0.1111111111111111,
              "#46039f"
             ],
             [
              0.2222222222222222,
              "#7201a8"
             ],
             [
              0.3333333333333333,
              "#9c179e"
             ],
             [
              0.4444444444444444,
              "#bd3786"
             ],
             [
              0.5555555555555556,
              "#d8576b"
             ],
             [
              0.6666666666666666,
              "#ed7953"
             ],
             [
              0.7777777777777778,
              "#fb9f3a"
             ],
             [
              0.8888888888888888,
              "#fdca26"
             ],
             [
              1,
              "#f0f921"
             ]
            ],
            "type": "histogram2dcontour"
           }
          ],
          "mesh3d": [
           {
            "colorbar": {
             "outlinewidth": 0,
             "ticks": ""
            },
            "type": "mesh3d"
           }
          ],
          "parcoords": [
           {
            "line": {
             "colorbar": {
              "outlinewidth": 0,
              "ticks": ""
             }
            },
            "type": "parcoords"
           }
          ],
          "pie": [
           {
            "automargin": true,
            "type": "pie"
           }
          ],
          "scatter": [
           {
            "fillpattern": {
             "fillmode": "overlay",
             "size": 10,
             "solidity": 0.2
            },
            "type": "scatter"
           }
          ],
          "scatter3d": [
           {
            "line": {
             "colorbar": {
              "outlinewidth": 0,
              "ticks": ""
             }
            },
            "marker": {
             "colorbar": {
              "outlinewidth": 0,
              "ticks": ""
             }
            },
            "type": "scatter3d"
           }
          ],
          "scattercarpet": [
           {
            "marker": {
             "colorbar": {
              "outlinewidth": 0,
              "ticks": ""
             }
            },
            "type": "scattercarpet"
           }
          ],
          "scattergeo": [
           {
            "marker": {
             "colorbar": {
              "outlinewidth": 0,
              "ticks": ""
             }
            },
            "type": "scattergeo"
           }
          ],
          "scattergl": [
           {
            "marker": {
             "colorbar": {
              "outlinewidth": 0,
              "ticks": ""
             }
            },
            "type": "scattergl"
           }
          ],
          "scattermapbox": [
           {
            "marker": {
             "colorbar": {
              "outlinewidth": 0,
              "ticks": ""
             }
            },
            "type": "scattermapbox"
           }
          ],
          "scatterpolar": [
           {
            "marker": {
             "colorbar": {
              "outlinewidth": 0,
              "ticks": ""
             }
            },
            "type": "scatterpolar"
           }
          ],
          "scatterpolargl": [
           {
            "marker": {
             "colorbar": {
              "outlinewidth": 0,
              "ticks": ""
             }
            },
            "type": "scatterpolargl"
           }
          ],
          "scatterternary": [
           {
            "marker": {
             "colorbar": {
              "outlinewidth": 0,
              "ticks": ""
             }
            },
            "type": "scatterternary"
           }
          ],
          "surface": [
           {
            "colorbar": {
             "outlinewidth": 0,
             "ticks": ""
            },
            "colorscale": [
             [
              0,
              "#0d0887"
             ],
             [
              0.1111111111111111,
              "#46039f"
             ],
             [
              0.2222222222222222,
              "#7201a8"
             ],
             [
              0.3333333333333333,
              "#9c179e"
             ],
             [
              0.4444444444444444,
              "#bd3786"
             ],
             [
              0.5555555555555556,
              "#d8576b"
             ],
             [
              0.6666666666666666,
              "#ed7953"
             ],
             [
              0.7777777777777778,
              "#fb9f3a"
             ],
             [
              0.8888888888888888,
              "#fdca26"
             ],
             [
              1,
              "#f0f921"
             ]
            ],
            "type": "surface"
           }
          ],
          "table": [
           {
            "cells": {
             "fill": {
              "color": "#EBF0F8"
             },
             "line": {
              "color": "white"
             }
            },
            "header": {
             "fill": {
              "color": "#C8D4E3"
             },
             "line": {
              "color": "white"
             }
            },
            "type": "table"
           }
          ]
         },
         "layout": {
          "annotationdefaults": {
           "arrowcolor": "#2a3f5f",
           "arrowhead": 0,
           "arrowwidth": 1
          },
          "autotypenumbers": "strict",
          "coloraxis": {
           "colorbar": {
            "outlinewidth": 0,
            "ticks": ""
           }
          },
          "colorscale": {
           "diverging": [
            [
             0,
             "#8e0152"
            ],
            [
             0.1,
             "#c51b7d"
            ],
            [
             0.2,
             "#de77ae"
            ],
            [
             0.3,
             "#f1b6da"
            ],
            [
             0.4,
             "#fde0ef"
            ],
            [
             0.5,
             "#f7f7f7"
            ],
            [
             0.6,
             "#e6f5d0"
            ],
            [
             0.7,
             "#b8e186"
            ],
            [
             0.8,
             "#7fbc41"
            ],
            [
             0.9,
             "#4d9221"
            ],
            [
             1,
             "#276419"
            ]
           ],
           "sequential": [
            [
             0,
             "#0d0887"
            ],
            [
             0.1111111111111111,
             "#46039f"
            ],
            [
             0.2222222222222222,
             "#7201a8"
            ],
            [
             0.3333333333333333,
             "#9c179e"
            ],
            [
             0.4444444444444444,
             "#bd3786"
            ],
            [
             0.5555555555555556,
             "#d8576b"
            ],
            [
             0.6666666666666666,
             "#ed7953"
            ],
            [
             0.7777777777777778,
             "#fb9f3a"
            ],
            [
             0.8888888888888888,
             "#fdca26"
            ],
            [
             1,
             "#f0f921"
            ]
           ],
           "sequentialminus": [
            [
             0,
             "#0d0887"
            ],
            [
             0.1111111111111111,
             "#46039f"
            ],
            [
             0.2222222222222222,
             "#7201a8"
            ],
            [
             0.3333333333333333,
             "#9c179e"
            ],
            [
             0.4444444444444444,
             "#bd3786"
            ],
            [
             0.5555555555555556,
             "#d8576b"
            ],
            [
             0.6666666666666666,
             "#ed7953"
            ],
            [
             0.7777777777777778,
             "#fb9f3a"
            ],
            [
             0.8888888888888888,
             "#fdca26"
            ],
            [
             1,
             "#f0f921"
            ]
           ]
          },
          "colorway": [
           "#636efa",
           "#EF553B",
           "#00cc96",
           "#ab63fa",
           "#FFA15A",
           "#19d3f3",
           "#FF6692",
           "#B6E880",
           "#FF97FF",
           "#FECB52"
          ],
          "font": {
           "color": "#2a3f5f"
          },
          "geo": {
           "bgcolor": "white",
           "lakecolor": "white",
           "landcolor": "#E5ECF6",
           "showlakes": true,
           "showland": true,
           "subunitcolor": "white"
          },
          "hoverlabel": {
           "align": "left"
          },
          "hovermode": "closest",
          "mapbox": {
           "style": "light"
          },
          "paper_bgcolor": "white",
          "plot_bgcolor": "#E5ECF6",
          "polar": {
           "angularaxis": {
            "gridcolor": "white",
            "linecolor": "white",
            "ticks": ""
           },
           "bgcolor": "#E5ECF6",
           "radialaxis": {
            "gridcolor": "white",
            "linecolor": "white",
            "ticks": ""
           }
          },
          "scene": {
           "xaxis": {
            "backgroundcolor": "#E5ECF6",
            "gridcolor": "white",
            "gridwidth": 2,
            "linecolor": "white",
            "showbackground": true,
            "ticks": "",
            "zerolinecolor": "white"
           },
           "yaxis": {
            "backgroundcolor": "#E5ECF6",
            "gridcolor": "white",
            "gridwidth": 2,
            "linecolor": "white",
            "showbackground": true,
            "ticks": "",
            "zerolinecolor": "white"
           },
           "zaxis": {
            "backgroundcolor": "#E5ECF6",
            "gridcolor": "white",
            "gridwidth": 2,
            "linecolor": "white",
            "showbackground": true,
            "ticks": "",
            "zerolinecolor": "white"
           }
          },
          "shapedefaults": {
           "line": {
            "color": "#2a3f5f"
           }
          },
          "ternary": {
           "aaxis": {
            "gridcolor": "white",
            "linecolor": "white",
            "ticks": ""
           },
           "baxis": {
            "gridcolor": "white",
            "linecolor": "white",
            "ticks": ""
           },
           "bgcolor": "#E5ECF6",
           "caxis": {
            "gridcolor": "white",
            "linecolor": "white",
            "ticks": ""
           }
          },
          "title": {
           "x": 0.05
          },
          "xaxis": {
           "automargin": true,
           "gridcolor": "white",
           "linecolor": "white",
           "ticks": "",
           "title": {
            "standoff": 15
           },
           "zerolinecolor": "white",
           "zerolinewidth": 2
          },
          "yaxis": {
           "automargin": true,
           "gridcolor": "white",
           "linecolor": "white",
           "ticks": "",
           "title": {
            "standoff": 15
           },
           "zerolinecolor": "white",
           "zerolinewidth": 2
          }
         }
        },
        "title": {
         "font": {
          "size": 30
         },
         "text": "Accuracy on each clothe type, %",
         "x": 0.5
        },
        "xaxis": {
         "nticks": 11,
         "title": {
          "font": {
           "size": 20
          },
          "text": "Clothe"
         }
        },
        "yaxis": {
         "range": [
          0,
          100
         ],
         "ticksuffix": "%",
         "title": {
          "font": {
           "size": 20
          },
          "text": "Accuracy, [%]"
         }
        }
       }
      }
     },
     "metadata": {},
     "output_type": "display_data"
    }
   ],
   "source": [
    "data = [\n",
    "    go.Bar(x = list(labels.values()), y = accuracies*100),\n",
    "]\n",
    "\n",
    "layout = go.Layout(\n",
    "    height = 500,\n",
    "    title = dict(\n",
    "        text = 'Accuracy on each clothe type, %',\n",
    "        font_size = 30,\n",
    "        x = .5\n",
    "    ),\n",
    "    xaxis = dict(nticks = 11),\n",
    "    xaxis_title = dict(\n",
    "        text = 'Clothe',\n",
    "        font_size = 20\n",
    "    ),\n",
    "    yaxis_range = [0,100],\n",
    "    yaxis=dict(ticksuffix=\"%\"),\n",
    "    yaxis_title = dict(\n",
    "        text = 'Accuracy, [%]',\n",
    "        font_size = 20\n",
    "    ),\n",
    ")\n",
    "go.Figure(data, layout)"
   ]
  },
  {
   "cell_type": "code",
   "execution_count": 27,
   "metadata": {},
   "outputs": [
    {
     "data": {
      "text/plain": [
       "0.7565"
      ]
     },
     "execution_count": 27,
     "metadata": {},
     "output_type": "execute_result"
    }
   ],
   "source": [
    "np.sum(accuracies)/10"
   ]
  }
 ],
 "metadata": {
  "kernelspec": {
   "display_name": "university",
   "language": "python",
   "name": "python3"
  },
  "language_info": {
   "codemirror_mode": {
    "name": "ipython",
    "version": 3
   },
   "file_extension": ".py",
   "mimetype": "text/x-python",
   "name": "python",
   "nbconvert_exporter": "python",
   "pygments_lexer": "ipython3",
   "version": "3.11.4"
  },
  "orig_nbformat": 4
 },
 "nbformat": 4,
 "nbformat_minor": 2
}

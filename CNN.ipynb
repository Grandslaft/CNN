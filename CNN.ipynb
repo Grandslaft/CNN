{
 "cells": [
  {
   "cell_type": "markdown",
   "metadata": {},
   "source": [
    "# Main"
   ]
  },
  {
   "cell_type": "markdown",
   "metadata": {},
   "source": [
    "## import packages"
   ]
  },
  {
   "cell_type": "code",
   "execution_count": 1,
   "metadata": {},
   "outputs": [],
   "source": [
    "import numpy as np\n",
    "import pandas as pd\n",
    "import idx2numpy\n",
    "\n",
    "import matplotlib.pyplot as plt\n",
    "import plotly.graph_objects as go\n",
    "\n",
    "from sklearn.metrics import accuracy_score\n",
    "from sklearn.preprocessing import OneHotEncoder\n",
    "from sklearn.model_selection import train_test_split\n",
    "\n",
    "import PIL\n",
    "\n",
    "import time"
   ]
  },
  {
   "cell_type": "code",
   "execution_count": 2,
   "metadata": {},
   "outputs": [],
   "source": [
    "def calculate_execution_time(func):\n",
    "    def wrapper(*args, **kwargs):\n",
    "        start_time = time.time()\n",
    "        result = func(*args, **kwargs)\n",
    "        end_time = time.time()\n",
    "        print(f\"Execution time of {func.__name__}: {end_time - start_time} seconds\")\n",
    "        return result\n",
    "    return wrapper"
   ]
  },
  {
   "cell_type": "markdown",
   "metadata": {},
   "source": [
    "## class for the Activation functions"
   ]
  },
  {
   "cell_type": "code",
   "execution_count": 3,
   "metadata": {},
   "outputs": [],
   "source": [
    "class Activation:\n",
    "    def __init__(self, name):\n",
    "        self.name = name\n",
    "        if name == 'sigmoid':\n",
    "            self.function = self.exponent\n",
    "            self.derivative = self.exponent_der\n",
    "        elif name == 'tanh':\n",
    "            self.function = lambda x: np.tanh(x)\n",
    "            self.derivative = lambda x: 1 - np.square(np.tanh(x))\n",
    "        elif name == 'softmax':\n",
    "            self.function = self.softmax\n",
    "            self.derivative = self.softmax_der\n",
    "        elif name == 'relu':\n",
    "            self.function = lambda x: np.maximum(0, x)\n",
    "            self.derivative = lambda x: x > 0\n",
    "        \n",
    "    def exponent(self, x):\n",
    "        shift_x = x - np.max(x)\n",
    "        return 1/(1 + np.exp(-shift_x))\n",
    "    \n",
    "    def exponent_der(self, x):\n",
    "        exps = self.exponent(x)\n",
    "        return exps * (1 - exps)\n",
    "    \n",
    "    def softmax(self, x):\n",
    "        shift_x = x - np.max(x)\n",
    "        exps = np.exp(shift_x)\n",
    "        return exps/np.sum(exps)\n",
    "    \n",
    "    def softmax_der(self, x):\n",
    "        array = self.softmax(x).reshape(-1,1)\n",
    "        return np.diagflat(array) - np.dot(array, array.T)"
   ]
  },
  {
   "cell_type": "markdown",
   "metadata": {},
   "source": [
    "## Convolution layer"
   ]
  },
  {
   "cell_type": "code",
   "execution_count": 4,
   "metadata": {},
   "outputs": [],
   "source": [
    "class Conv:\n",
    "\n",
    "    def __init__(self, num_filters = 3, size = 3, stride = 1, activation = 'relu'):\n",
    "        self.next_layer = None\n",
    "        self.num_filters = num_filters\n",
    "        self.size = size\n",
    "        self.stride = stride\n",
    "        self.activation = Activation(activation)\n",
    "\n",
    "        self.filters = np.random.randn(num_filters, size, size) / 10\n",
    "    \n",
    "    def add_layer(self, child):\n",
    "        self.next_layer = child\n",
    "        return self\n",
    "    \n",
    "    # @calculate_execution_time            \n",
    "    def forward(self, image):\n",
    "        self.last_input = image\n",
    "        input_dimension = image.shape[1]\n",
    "        output_dimension = int((input_dimension - self.size) / self.stride) + 1\n",
    "        out = np.zeros((self.filters.shape[0], output_dimension, output_dimension))\n",
    "        \n",
    "        for f in range(self.num_filters):\n",
    "            current_y = out_y = 0\n",
    "            \n",
    "            while current_y + self.size <= input_dimension:\n",
    "                current_x = out_x = 0\n",
    "                \n",
    "                while current_x + self.size <= input_dimension:\n",
    "                    patch = image[:, current_y:current_y + self.size, current_x:current_x + self.size]\n",
    "                    out[f, out_y, out_x] = np.sum(self.filters[f] * patch)\n",
    "                    current_x += self.stride\n",
    "                    out_x += 1\n",
    "                    \n",
    "                current_y += self.stride\n",
    "                out_y += 1\n",
    "                \n",
    "        self.last_output = out\n",
    "        if self.activation:\n",
    "            out = self.activation.function(out)\n",
    "        return out\n",
    "    # @calculate_execution_time\n",
    "    def backward(self, out_prev, lr):\n",
    "        out_prev = np.clip(out_prev, -1e+5, 1e+5)\n",
    "        input_dimension = self.last_input.shape[1]\n",
    "        \n",
    "        if self.activation:\n",
    "            out_prev = out_prev * self.activation.derivative(self.last_output)\n",
    "        \n",
    "        out_next = np.zeros(self.last_input.shape)\n",
    "        dfilt = np.zeros(self.filters.shape)\n",
    "        \n",
    "        for f in range(self.filters.shape[0]):\n",
    "            current_y = out_y = 0\n",
    "            \n",
    "            while current_y + self.size <= input_dimension:\n",
    "                current_x = out_x = 0\n",
    "                \n",
    "                while current_x + self.size <= input_dimension:\n",
    "                    patch = self.last_input[:, current_y:current_y + self.size, current_x:current_x + self.size]\n",
    "                    dfilt[f] += np.sum(out_prev[f, out_y, out_x] * patch, axis=0)\n",
    "                    out_next[:, current_y:current_y + self.size, current_x:current_x + self.size] += out_prev[f, out_y, out_x] * self.filters[f]\n",
    "                    current_x += self.stride\n",
    "                    out_x += 1\n",
    "                    \n",
    "                current_y += self.stride\n",
    "                out_y += 1\n",
    "                \n",
    "        self.filters -= lr * dfilt\n",
    "        return out_next"
   ]
  },
  {
   "cell_type": "markdown",
   "metadata": {},
   "source": [
    "## Pool method"
   ]
  },
  {
   "cell_type": "code",
   "execution_count": 5,
   "metadata": {},
   "outputs": [],
   "source": [
    "class MaxPool:\n",
    "    \n",
    "    def __init__(self, size = 2, stride = 2, activation = 'relu'):\n",
    "        self.next_layer = None\n",
    "        self.stride = stride\n",
    "        self.size = size\n",
    "        self.activation = Activation(activation)\n",
    "    \n",
    "    def add_layer(self, child):\n",
    "        self.next_layer = child\n",
    "        return self\n",
    "    \n",
    "    # @calculate_execution_time            \n",
    "    def forward(self, image):\n",
    "        self.last_input = image\n",
    "        \n",
    "        nfilt, h_prev, w_prev = image.shape\n",
    "        h = int((h_prev - self.size) / self.stride) + 1\n",
    "        w = int((w_prev - self.size) / self.stride) + 1\n",
    "        \n",
    "        downscaled = np.zeros((nfilt, h, w))\n",
    "        \n",
    "        for i in range(nfilt):\n",
    "            curr_y = out_y = 0\n",
    "            \n",
    "            while curr_y + self.size <= h_prev:\n",
    "                curr_x = out_x = 0\n",
    "                \n",
    "                while curr_x + self.size <= w_prev:\n",
    "                    patch = image[i, curr_y:curr_y + self.size, curr_x:curr_x + self.size]\n",
    "                    downscaled[i, out_y, out_x] = np.max(patch)\n",
    "                    curr_x += self.stride\n",
    "                    out_x += 1\n",
    "                    \n",
    "                curr_y += self.stride\n",
    "                out_y += 1\n",
    "                \n",
    "        return downscaled\n",
    "    # @calculate_execution_time\n",
    "    def backward(self, out_prev, learning_rate):\n",
    "        out_prev = np.clip(out_prev, -1e+5, 1e+5)\n",
    "        out_next = np.zeros(self.last_input.shape)\n",
    "\n",
    "        nfilt, shape, _ = self.last_input.shape\n",
    "        \n",
    "        for c in range(nfilt):\n",
    "            current_y = out_y = 0\n",
    "            while current_y + self.size <= shape:\n",
    "                current_x = out_x = 0\n",
    "                while current_x + self.size <= shape:\n",
    "                    patch = self.last_input[c, current_y:current_y + self.size, current_x:current_x + self.size]\n",
    "                    (x, y) = np.unravel_index(np.nanargmax(patch), patch.shape)\n",
    "                    out_next[c, current_y + x, current_x + y] += out_prev[c, out_y, out_x]\n",
    "                    current_x += self.stride\n",
    "                    out_x += 1\n",
    "                current_y += self.stride\n",
    "                out_y += 1\n",
    "        return out_next"
   ]
  },
  {
   "cell_type": "markdown",
   "metadata": {},
   "source": [
    "## Dense Layer"
   ]
  },
  {
   "cell_type": "code",
   "execution_count": 6,
   "metadata": {},
   "outputs": [],
   "source": [
    "class Dense():\n",
    "    def __init__(self, n_inputs, n_neurons, activation):\n",
    "        self.next_layer = None\n",
    "        # self.weights = np.random.uniform(size=(n_inputs, n_neurons)) - 0.5\n",
    "        # self.biases = np.random.uniform(size=(n_neurons,)) - 0.5\n",
    "        \n",
    "        # self.weights = np.random.normal(loc=0, scale=np.sqrt(2/n_inputs), size=(n_inputs, n_neurons))\n",
    "        # self.biases = np.random.normal(loc=0, scale=np.sqrt(2/n_inputs), size=(n_neurons))\n",
    "        \n",
    "        self.weights = np.random.randn(n_inputs, n_neurons) / 10\n",
    "        self.biases = np.random.randn(n_neurons) / 10\n",
    "        \n",
    "        self.activation = Activation(activation)\n",
    "\n",
    "    def add_layer(self, child):\n",
    "        self.next_layer = child\n",
    "        return self\n",
    "    \n",
    "    # @calculate_execution_time\n",
    "    def forward(self, image):\n",
    "        self.last_input_shape = image.shape\n",
    "        image = image.flatten()\n",
    "        output = np.dot(image, self.weights) + self.biases\n",
    "        self.last_input = image\n",
    "        self.last_output = output\n",
    "        return self.activation.function(output)\n",
    "    \n",
    "    # @calculate_execution_time\n",
    "    def backward(self, out_prev, learning_rate):\n",
    "        out_prev = np.clip(out_prev, -1e+5, 1e+5)\n",
    "        \n",
    "        if self.next_layer is None:\n",
    "            dW = out_prev[:, np.newaxis]\n",
    "        else:\n",
    "            dW = out_prev[:, np.newaxis] * self.activation.derivative(self.last_output)[:, np.newaxis]\n",
    "        dW = (dW * self.last_input[np.newaxis, :]).T\n",
    "        db = np.copy(out_prev)\n",
    "        out_next = self.weights @ out_prev\n",
    "        self.weights -= learning_rate * dW\n",
    "        self.biases -= learning_rate * db\n",
    "        return out_next.reshape(self.last_input_shape)"
   ]
  },
  {
   "cell_type": "markdown",
   "metadata": {},
   "source": [
    "## CNN"
   ]
  },
  {
   "cell_type": "code",
   "execution_count": 7,
   "metadata": {},
   "outputs": [],
   "source": [
    "class CNN:\n",
    "    \n",
    "    def __init__(self, layers):\n",
    "        if len(layers) < 2:\n",
    "            raise ValueError(\"Not enough layers. Should be at least 2\")\n",
    "        \n",
    "        self.layers = [layers[0]]\n",
    "        \n",
    "        for layer in layers[1:]:\n",
    "            self.layers[-1].add_layer(layer)\n",
    "            if layer is not None and layer not in self.layers:\n",
    "                self.layers.append(layer)\n",
    "        \n",
    "        self.early_stop = None\n",
    "        \n",
    "    # @calculate_execution_time\n",
    "    def forward(self, image):\n",
    "        for layer in self.layers:\n",
    "            image = layer.forward(image)\n",
    "        return image\n",
    "    \n",
    "    # @calculate_execution_time\n",
    "    def backward(self, gradient, learning_rate):\n",
    "        for layer in reversed(self.layers):\n",
    "            gradient = layer.backward(gradient, learning_rate)\n",
    "\n",
    "    def train(self, X_train, y_train, X_val = None, y_val = None, epochs=10, learning_rate=0.1, lr_decay=0, step=50, val_step=100):\n",
    "        data_amount = X_train.shape[0]\n",
    "        num_digits = len(str(data_amount))\n",
    "        learning_rate_0 = learning_rate\n",
    "            \n",
    "        for epoch in range(epochs):\n",
    "            print(f'Epoch {epoch + 1}')\n",
    "            accuracies = []\n",
    "            losses = []\n",
    "            \n",
    "            self.history['accuracy'][epoch] = []\n",
    "            self.history['loss'][epoch] = []\n",
    "                \n",
    "            self.history['val_accuracy'][epoch] = []\n",
    "            self.history['val_loss'][epoch] = []\n",
    "            \n",
    "            for i, X in enumerate(X_train):              \n",
    "                output = self.forward(X)\n",
    "                \n",
    "                accuracy = output[np.argmax(y_train[i])]\n",
    "                loss = -np.sum(y_train[i] * np.log(output))\n",
    "                accuracies.append(accuracy)\n",
    "                losses.append(loss)\n",
    "                \n",
    "                gradient = np.copy(output) - y_train[i]\n",
    "                self.backward(gradient, learning_rate)\n",
    "                \n",
    "                learning_rate = (1/(1+lr_decay*((epoch + 1) * (i + 1)))) * learning_rate_0\n",
    "                \n",
    "                if i > val_step and i % step == 0:\n",
    "                    avg_loss = np.mean(losses)\n",
    "                    avg_accuracy = np.mean(accuracies)\n",
    "                    accuracies = []\n",
    "                    losses = []\n",
    "                    \n",
    "                    if self.early_stop is not None:\n",
    "                        if self.EarlyStopping(epoch, i, accuracy, loss, step, val_step, X_val, y_val):\n",
    "                            self.output = np.array(output)\n",
    "                            return\n",
    "                    \n",
    "                    val_accuracy, val_loss = self.history['val_accuracy'][epoch][-1], self.history['val_loss'][epoch][-1]\n",
    "                    \n",
    "                    print(f'[Image {i:{num_digits}d}]: ' +\n",
    "                          f'Avg Loss {avg_loss:5.2f} | ' +\n",
    "                          f'Avg Acc: {avg_accuracy:7.2%} | ' +\n",
    "                          f'Val Loss: {val_loss:5.2f} | ' +\n",
    "                          f'Val Acc: {val_accuracy:7.2%}')\n",
    "\n",
    "    def val_pred(self, X_val, y_val):\n",
    "        accuracies = []\n",
    "        losses = []\n",
    "        \n",
    "        for i, X in enumerate(X_val):\n",
    "            current_output = self.forward(X)\n",
    "            \n",
    "            accuracy = current_output[np.argmax(y_val[i])]\n",
    "            loss = -np.sum(y_val[i] * np.log(current_output))\n",
    "            accuracies.append(accuracy)\n",
    "            losses.append(loss)\n",
    "            \n",
    "        return np.mean(accuracies), np.mean(losses)\n",
    "        \n",
    "    def predict(self, X):\n",
    "        return np.array([np.argmax(self.forward(x), 0) for x in X])\n",
    "        \n",
    "    def EarlyStop(self, monitor=\"accuracy\", min_delta=.1, min_monitor = 0.6, patience=3, restore_best_layers=False):\n",
    "        self.early_stop = {\n",
    "            \"monitor\": monitor, \n",
    "            \"min_delta\": min_delta, \n",
    "            \"min_monitor\": min_monitor, \n",
    "            \"patience\": patience,\n",
    "            \"restore_best_layers\": restore_best_layers,\n",
    "        }\n",
    "        \n",
    "        self.history = {\n",
    "            \"accuracy\": {},\n",
    "            \"loss\": {},\n",
    "            'val_accuracy': {},\n",
    "            'val_loss': {},\n",
    "            \"global_max_index\": (0, 0),\n",
    "            \"best_layers\": []\n",
    "        }\n",
    "    \n",
    "    def EarlyStopping(self, epoch, im_i, accuracy, loss, step, val_step, X_val=None, y_val=None):\n",
    "        \n",
    "        im_i = int((im_i - val_step)/step) - 1\n",
    "        \n",
    "        self.history['accuracy'][epoch].append(accuracy)\n",
    "        self.history['loss'][epoch].append(loss)\n",
    "        \n",
    "        val_accuracy, val_loss = self.val_pred(X_val, y_val)\n",
    "        self.history['val_accuracy'][epoch].append(val_accuracy)\n",
    "        self.history['val_loss'][epoch].append(val_loss)\n",
    "        \n",
    "        if ((epoch + 1) * (im_i + 1)) > self.early_stop['patience']:\n",
    "            \n",
    "            if self.history[self.early_stop['monitor']][epoch][-1] >= self.history[self.early_stop['monitor']][self.history['global_max_index'][0]][self.history['global_max_index'][1]]:\n",
    "                self.history['global_max_index'] = (epoch, im_i)\n",
    "            \n",
    "            if self.early_stop['restore_best_layers'] and (epoch, im_i) == self.history['global_max_index']:\n",
    "                self.history['best_layers'] = []\n",
    "                for layer in self.layers:\n",
    "                    if layer.__class__.__name__ == 'Conv':\n",
    "                        self.history['best_layers'].append(layer.filters)\n",
    "                    elif layer.__class__.__name__ == 'MaxPool':\n",
    "                        self.history['best_layers'].append(None)\n",
    "                    elif layer.__class__.__name__ == 'Dense':\n",
    "                        self.history['best_layers'].append((layer.weights, layer.biases))\n",
    "                \n",
    "            min_local_accuracy = min(self.history[self.early_stop['monitor']][epoch][-self.early_stop['patience']:])\n",
    "            difference = abs(min_local_accuracy - self.history[self.early_stop['monitor']][self.history['global_max_index'][0]][self.history['global_max_index'][1]])\n",
    "            \n",
    "            if min_local_accuracy >= self.early_stop['min_monitor'] and difference < self.early_stop['min_delta']:\n",
    "                if self.early_stop['restore_best_layers']:\n",
    "                    for i, layer in enumerate(self.layers):\n",
    "                        if layer.__class__.__name__ == 'Conv':\n",
    "                            layer.filters = self.history['best_layers'][i]\n",
    "                        elif layer.__class__.__name__ == 'MaxPool':\n",
    "                            continue\n",
    "                        elif layer.__class__.__name__ == 'Dense':\n",
    "                            layer.weights, layer.biases = self.history['best_layers'][i]\n",
    "                return True\n",
    "        return False\n",
    "    \n",
    "    def restore_best_layers(self):\n",
    "        if self.early_stop['restore_best_layers']:\n",
    "            for i, layer in enumerate(self.layers):\n",
    "                if layer.__class__.__name__ == 'Conv':\n",
    "                    layer.filters = self.history['best_layers'][i]\n",
    "                elif layer.__class__.__name__ == 'MaxPool':\n",
    "                    continue\n",
    "                elif layer.__class__.__name__ == 'Dense':\n",
    "                    layer.weights, layer.biases = self.history['best_layers'][i]"
   ]
  },
  {
   "cell_type": "markdown",
   "metadata": {},
   "source": [
    "## Training"
   ]
  },
  {
   "cell_type": "markdown",
   "metadata": {},
   "source": [
    "### import data"
   ]
  },
  {
   "cell_type": "code",
   "execution_count": 8,
   "metadata": {},
   "outputs": [],
   "source": [
    "# # data = pd.read_csv(\"train.csv\").sample(frac=.05).to_numpy()\n",
    "# X = idx2numpy.convert_from_file('D:\\\\Programming\\\\Projects\\\\data_sets\\\\num_mnist_X.idx3-ubyte').astype('float32')\n",
    "# Y = idx2numpy.convert_from_file('D:\\\\Programming\\\\Projects\\\\data_sets\\\\num_mnist_Y.idx1-ubyte')\n",
    "\n",
    "# X = X.reshape(-1, 1, 28, 28)\n",
    "\n",
    "# # minmax\n",
    "# X = (X - np.min(X, axis=(2,3), keepdims=True)) / (np.max(X, axis=(2,3), keepdims=True) - np.min(X, axis=(2,3), keepdims=True))\n",
    "\n",
    "# # Z-score\n",
    "# # X = (X - np.mean(X, axis=(2,3), keepdims=True)) / np.var(X, axis=(2,3), keepdims=True)\n",
    "\n",
    "# Y_onehot = OneHotEncoder().fit_transform(Y.reshape(-1, 1)).toarray()\n",
    "\n",
    "# X_train, X_test, y_train, y_test = train_test_split(X, Y_onehot, test_size=0.05, random_state=101)\n",
    "\n",
    "# percent = 0.1\n",
    "# sample = np.random.choice([True, False], size=X_test.shape[0], p=[percent, 1-percent])\n",
    "# X_val = X_test[sample]\n",
    "# y_val = y_test[sample]"
   ]
  },
  {
   "cell_type": "code",
   "execution_count": 9,
   "metadata": {},
   "outputs": [],
   "source": [
    "# data = pd.read_csv(\"train.csv\").sample(frac=.05).to_numpy()\n",
    "X_train = idx2numpy.convert_from_file('D:\\Programming\\Projects\\data_sets\\Fashion_MNIST\\TrainX').astype('float32')\n",
    "y_train = idx2numpy.convert_from_file('D:\\Programming\\Projects\\data_sets\\Fashion_MNIST\\TrainY').reshape(-1, 1)\n",
    "\n",
    "X_test = idx2numpy.convert_from_file('D:\\Programming\\Projects\\data_sets\\Fashion_MNIST\\TestX').astype('float32')\n",
    "y_test = idx2numpy.convert_from_file('D:\\Programming\\Projects\\data_sets\\Fashion_MNIST\\TestY').reshape(-1, 1)\n",
    "\n",
    "unique_vals, indeces = np.unique(y_train, return_index=True)\n",
    "\n",
    "X_train, X_test = X_train.reshape(-1, 1, 28, 28), X_test.reshape(-1, 1, 28, 28)\n",
    "\n",
    "# minmax\n",
    "X_max, X_min = np.max(X_train), np.min(X_train)\n",
    "X_train = (X_train - X_min) / (X_max - X_min)\n",
    "X_test = (X_test - X_min) / (X_max - X_min)\n",
    "\n",
    "# Z-score\n",
    "# X_mean, X_std = np.mean(X_train), np.std(X_train), \n",
    "# X_train = (X_train - X_mean)/X_std\n",
    "# X_test = (X_test - X_mean)/X_std\n",
    "\n",
    "# One-Hot\n",
    "OneHot = OneHotEncoder(sparse_output=False).fit(y_train)\n",
    "y_train = OneHot.transform(y_train)\n",
    "y_test = OneHot.transform(y_test)\n",
    "\n",
    "percent = 0.01\n",
    "sample = np.random.choice([True, False], size=X_test.shape[0], p=[percent, 1-percent])\n",
    "X_val = X_test[sample]\n",
    "y_val = y_test[sample]"
   ]
  },
  {
   "cell_type": "code",
   "execution_count": 10,
   "metadata": {},
   "outputs": [
    {
     "data": {
      "image/png": "[encoded data removed]",
      "text/plain": [
       "<Figure size 640x480 with 10 Axes>"
      ]
     },
     "metadata": {},
     "output_type": "display_data"
    }
   ],
   "source": [
    "fig, axs = plt.subplots(2,5)\n",
    "\n",
    "for i, idx in enumerate(indeces):\n",
    "    axs[np.unravel_index(i, shape=(2,5))].imshow(X_train[idx, 0], cmap='Greys')\n",
    "    axs[np.unravel_index(i, shape=(2,5))].title.set_text(i)"
   ]
  },
  {
   "cell_type": "markdown",
   "metadata": {},
   "source": [
    "### training"
   ]
  },
  {
   "cell_type": "code",
   "execution_count": 13,
   "metadata": {},
   "outputs": [
    {
     "name": "stdout",
     "output_type": "stream",
     "text": [
      "Epoch 1\n",
      "[Image   510]: Avg Loss  1.71 | Avg Acc:  26.93% | Val Loss:  1.16 | Val Acc:  45.49%\n",
      "[Image   520]: Avg Loss  0.69 | Avg Acc:  62.01% | Val Loss:  1.01 | Val Acc:  50.76%\n",
      "[Image   530]: Avg Loss  1.21 | Avg Acc:  39.92% | Val Loss:  1.06 | Val Acc:  47.61%\n",
      "[Image   540]: Avg Loss  1.08 | Avg Acc:  50.55% | Val Loss:  0.99 | Val Acc:  47.07%\n",
      "[Image   550]: Avg Loss  1.26 | Avg Acc:  37.32% | Val Loss:  1.04 | Val Acc:  47.65%\n",
      "[Image   560]: Avg Loss  1.39 | Avg Acc:  36.69% | Val Loss:  0.94 | Val Acc:  48.15%\n",
      "[Image   570]: Avg Loss  0.85 | Avg Acc:  51.63% | Val Loss:  0.92 | Val Acc:  48.85%\n",
      "[Image   580]: Avg Loss  2.24 | Avg Acc:  19.33% | Val Loss:  0.99 | Val Acc:  44.32%\n",
      "[Image   590]: Avg Loss  0.94 | Avg Acc:  48.40% | Val Loss:  1.02 | Val Acc:  46.00%\n",
      "[Image   600]: Avg Loss  1.25 | Avg Acc:  39.25% | Val Loss:  1.02 | Val Acc:  46.42%\n",
      "[Image   610]: Avg Loss  1.28 | Avg Acc:  39.79% | Val Loss:  0.96 | Val Acc:  49.90%\n",
      "[Image   620]: Avg Loss  1.04 | Avg Acc:  52.62% | Val Loss:  0.98 | Val Acc:  44.72%\n",
      "[Image   630]: Avg Loss  1.04 | Avg Acc:  44.47% | Val Loss:  0.85 | Val Acc:  52.01%\n",
      "[Image   640]: Avg Loss  1.37 | Avg Acc:  42.12% | Val Loss:  1.01 | Val Acc:  45.49%\n",
      "[Image   650]: Avg Loss  0.47 | Avg Acc:  65.98% | Val Loss:  0.94 | Val Acc:  50.61%\n",
      "[Image   660]: Avg Loss  1.01 | Avg Acc:  50.41% | Val Loss:  0.90 | Val Acc:  49.94%\n",
      "[Image   670]: Avg Loss  0.61 | Avg Acc:  66.00% | Val Loss:  0.92 | Val Acc:  54.99%\n",
      "[Image   680]: Avg Loss  0.53 | Avg Acc:  65.60% | Val Loss:  0.79 | Val Acc:  57.07%\n",
      "[Image   690]: Avg Loss  1.29 | Avg Acc:  49.96% | Val Loss:  0.90 | Val Acc:  50.97%\n",
      "[Image   700]: Avg Loss  0.85 | Avg Acc:  57.72% | Val Loss:  0.94 | Val Acc:  52.54%\n",
      "[Image   710]: Avg Loss  1.34 | Avg Acc:  33.39% | Val Loss:  0.99 | Val Acc:  46.46%\n",
      "[Image   720]: Avg Loss  0.96 | Avg Acc:  47.28% | Val Loss:  0.89 | Val Acc:  52.14%\n",
      "[Image   730]: Avg Loss  0.35 | Avg Acc:  74.01% | Val Loss:  0.81 | Val Acc:  57.14%\n",
      "[Image   740]: Avg Loss  0.95 | Avg Acc:  53.27% | Val Loss:  0.78 | Val Acc:  56.84%\n",
      "[Image   750]: Avg Loss  0.72 | Avg Acc:  62.66% | Val Loss:  0.86 | Val Acc:  56.88%\n",
      "[Image   760]: Avg Loss  0.64 | Avg Acc:  62.70% | Val Loss:  0.88 | Val Acc:  54.74%\n",
      "[Image   770]: Avg Loss  0.90 | Avg Acc:  57.02% | Val Loss:  1.01 | Val Acc:  52.19%\n",
      "[Image   780]: Avg Loss  1.35 | Avg Acc:  34.16% | Val Loss:  1.07 | Val Acc:  42.98%\n",
      "[Image   790]: Avg Loss  1.19 | Avg Acc:  35.43% | Val Loss:  1.08 | Val Acc:  43.85%\n",
      "[Image   800]: Avg Loss  0.75 | Avg Acc:  59.42% | Val Loss:  0.95 | Val Acc:  50.98%\n",
      "[Image   810]: Avg Loss  1.24 | Avg Acc:  40.98% | Val Loss:  0.89 | Val Acc:  52.47%\n",
      "[Image   820]: Avg Loss  0.59 | Avg Acc:  69.24% | Val Loss:  0.86 | Val Acc:  55.71%\n",
      "[Image   830]: Avg Loss  0.77 | Avg Acc:  55.91% | Val Loss:  0.85 | Val Acc:  57.08%\n",
      "[Image   840]: Avg Loss  0.98 | Avg Acc:  54.36% | Val Loss:  0.96 | Val Acc:  54.80%\n",
      "[Image   850]: Avg Loss  1.44 | Avg Acc:  37.88% | Val Loss:  0.81 | Val Acc:  56.17%\n",
      "[Image   860]: Avg Loss  0.66 | Avg Acc:  62.49% | Val Loss:  0.85 | Val Acc:  54.52%\n",
      "[Image   870]: Avg Loss  0.84 | Avg Acc:  58.23% | Val Loss:  0.91 | Val Acc:  53.69%\n",
      "[Image   880]: Avg Loss  1.60 | Avg Acc:  44.02% | Val Loss:  0.87 | Val Acc:  53.21%\n",
      "[Image   890]: Avg Loss  0.84 | Avg Acc:  52.97% | Val Loss:  0.83 | Val Acc:  55.23%\n",
      "[Image   900]: Avg Loss  1.11 | Avg Acc:  44.47% | Val Loss:  0.89 | Val Acc:  54.76%\n",
      "[Image   910]: Avg Loss  1.08 | Avg Acc:  45.85% | Val Loss:  0.89 | Val Acc:  53.41%\n",
      "[Image   920]: Avg Loss  0.83 | Avg Acc:  51.98% | Val Loss:  0.83 | Val Acc:  53.46%\n",
      "[Image   930]: Avg Loss  0.88 | Avg Acc:  44.43% | Val Loss:  0.83 | Val Acc:  53.90%\n",
      "[Image   940]: Avg Loss  1.33 | Avg Acc:  41.97% | Val Loss:  0.88 | Val Acc:  51.24%\n",
      "[Image   950]: Avg Loss  1.00 | Avg Acc:  44.10% | Val Loss:  0.95 | Val Acc:  48.94%\n",
      "[Image   960]: Avg Loss  0.63 | Avg Acc:  56.56% | Val Loss:  0.91 | Val Acc:  52.72%\n",
      "[Image   970]: Avg Loss  0.66 | Avg Acc:  65.10% | Val Loss:  0.86 | Val Acc:  54.21%\n",
      "[Image   980]: Avg Loss  1.26 | Avg Acc:  40.03% | Val Loss:  0.83 | Val Acc:  55.85%\n",
      "[Image   990]: Avg Loss  1.34 | Avg Acc:  38.54% | Val Loss:  0.88 | Val Acc:  55.87%\n",
      "[Image  1000]: Avg Loss  0.99 | Avg Acc:  49.66% | Val Loss:  0.77 | Val Acc:  58.39%\n",
      "[Image  1010]: Avg Loss  0.96 | Avg Acc:  46.02% | Val Loss:  0.95 | Val Acc:  51.84%\n",
      "[Image  1020]: Avg Loss  0.50 | Avg Acc:  66.37% | Val Loss:  0.96 | Val Acc:  52.36%\n",
      "[Image  1030]: Avg Loss  0.93 | Avg Acc:  50.65% | Val Loss:  0.76 | Val Acc:  57.40%\n",
      "[Image  1040]: Avg Loss  1.13 | Avg Acc:  50.13% | Val Loss:  0.80 | Val Acc:  56.67%\n",
      "[Image  1050]: Avg Loss  0.84 | Avg Acc:  49.68% | Val Loss:  0.76 | Val Acc:  59.32%\n",
      "[Image  1060]: Avg Loss  0.51 | Avg Acc:  66.72% | Val Loss:  0.80 | Val Acc:  57.54%\n",
      "[Image  1070]: Avg Loss  0.52 | Avg Acc:  68.78% | Val Loss:  0.88 | Val Acc:  60.19%\n",
      "[Image  1080]: Avg Loss  1.47 | Avg Acc:  46.66% | Val Loss:  0.87 | Val Acc:  57.50%\n",
      "[Image  1090]: Avg Loss  0.92 | Avg Acc:  57.33% | Val Loss:  0.97 | Val Acc:  49.96%\n",
      "[Image  1100]: Avg Loss  0.96 | Avg Acc:  46.06% | Val Loss:  0.99 | Val Acc:  50.40%\n",
      "[Image  1110]: Avg Loss  1.80 | Avg Acc:  40.19% | Val Loss:  1.00 | Val Acc:  50.11%\n",
      "[Image  1120]: Avg Loss  1.21 | Avg Acc:  41.17% | Val Loss:  0.95 | Val Acc:  48.34%\n",
      "[Image  1130]: Avg Loss  1.09 | Avg Acc:  43.79% | Val Loss:  0.86 | Val Acc:  52.71%\n",
      "[Image  1140]: Avg Loss  0.76 | Avg Acc:  53.13% | Val Loss:  0.79 | Val Acc:  55.65%\n",
      "[Image  1150]: Avg Loss  1.55 | Avg Acc:  28.55% | Val Loss:  0.75 | Val Acc:  56.09%\n",
      "[Image  1160]: Avg Loss  0.90 | Avg Acc:  47.31% | Val Loss:  0.80 | Val Acc:  53.58%\n",
      "[Image  1170]: Avg Loss  0.71 | Avg Acc:  60.19% | Val Loss:  0.79 | Val Acc:  55.19%\n",
      "[Image  1180]: Avg Loss  1.27 | Avg Acc:  40.86% | Val Loss:  0.76 | Val Acc:  56.48%\n",
      "[Image  1190]: Avg Loss  1.13 | Avg Acc:  42.32% | Val Loss:  0.76 | Val Acc:  56.82%\n",
      "[Image  1200]: Avg Loss  0.92 | Avg Acc:  52.71% | Val Loss:  0.79 | Val Acc:  54.64%\n",
      "[Image  1210]: Avg Loss  1.80 | Avg Acc:  40.87% | Val Loss:  0.76 | Val Acc:  54.61%\n",
      "[Image  1220]: Avg Loss  0.83 | Avg Acc:  52.60% | Val Loss:  0.75 | Val Acc:  57.10%\n",
      "[Image  1230]: Avg Loss  0.78 | Avg Acc:  51.95% | Val Loss:  0.77 | Val Acc:  57.52%\n",
      "[Image  1240]: Avg Loss  0.70 | Avg Acc:  60.09% | Val Loss:  0.80 | Val Acc:  55.76%\n",
      "[Image  1250]: Avg Loss  1.25 | Avg Acc:  36.56% | Val Loss:  0.72 | Val Acc:  57.41%\n",
      "[Image  1260]: Avg Loss  0.90 | Avg Acc:  50.37% | Val Loss:  0.80 | Val Acc:  57.83%\n",
      "[Image  1270]: Avg Loss  1.06 | Avg Acc:  46.48% | Val Loss:  0.81 | Val Acc:  55.70%\n",
      "[Image  1280]: Avg Loss  1.40 | Avg Acc:  43.85% | Val Loss:  0.76 | Val Acc:  56.43%\n",
      "[Image  1290]: Avg Loss  1.10 | Avg Acc:  38.46% | Val Loss:  0.76 | Val Acc:  54.49%\n",
      "[Image  1300]: Avg Loss  0.63 | Avg Acc:  59.15% | Val Loss:  0.74 | Val Acc:  55.62%\n",
      "[Image  1310]: Avg Loss  0.93 | Avg Acc:  51.28% | Val Loss:  0.72 | Val Acc:  58.84%\n",
      "[Image  1320]: Avg Loss  0.48 | Avg Acc:  66.68% | Val Loss:  0.71 | Val Acc:  58.58%\n",
      "[Image  1330]: Avg Loss  1.20 | Avg Acc:  54.91% | Val Loss:  0.69 | Val Acc:  61.12%\n",
      "[Image  1340]: Avg Loss  0.31 | Avg Acc:  76.90% | Val Loss:  0.73 | Val Acc:  59.76%\n",
      "[Image  1350]: Avg Loss  1.78 | Avg Acc:  31.61% | Val Loss:  0.78 | Val Acc:  55.08%\n",
      "[Image  1360]: Avg Loss  0.97 | Avg Acc:  47.70% | Val Loss:  0.76 | Val Acc:  57.67%\n",
      "[Image  1370]: Avg Loss  1.07 | Avg Acc:  47.05% | Val Loss:  0.90 | Val Acc:  54.24%\n",
      "[Image  1380]: Avg Loss  0.84 | Avg Acc:  53.81% | Val Loss:  0.94 | Val Acc:  55.57%\n",
      "[Image  1390]: Avg Loss  1.51 | Avg Acc:  38.17% | Val Loss:  0.76 | Val Acc:  59.19%\n",
      "[Image  1400]: Avg Loss  0.77 | Avg Acc:  52.93% | Val Loss:  0.73 | Val Acc:  59.43%\n",
      "[Image  1410]: Avg Loss  1.04 | Avg Acc:  43.93% | Val Loss:  0.73 | Val Acc:  57.61%\n",
      "[Image  1420]: Avg Loss  0.92 | Avg Acc:  50.47% | Val Loss:  0.84 | Val Acc:  55.93%\n",
      "[Image  1430]: Avg Loss  0.76 | Avg Acc:  58.93% | Val Loss:  0.78 | Val Acc:  55.88%\n",
      "[Image  1440]: Avg Loss  1.03 | Avg Acc:  41.90% | Val Loss:  0.76 | Val Acc:  57.05%\n",
      "[Image  1450]: Avg Loss  1.47 | Avg Acc:  41.91% | Val Loss:  0.76 | Val Acc:  58.68%\n",
      "[Image  1460]: Avg Loss  0.72 | Avg Acc:  58.19% | Val Loss:  0.79 | Val Acc:  57.06%\n",
      "[Image  1470]: Avg Loss  0.64 | Avg Acc:  63.37% | Val Loss:  0.76 | Val Acc:  57.28%\n",
      "[Image  1480]: Avg Loss  1.24 | Avg Acc:  46.00% | Val Loss:  0.79 | Val Acc:  56.68%\n",
      "[Image  1490]: Avg Loss  0.71 | Avg Acc:  63.39% | Val Loss:  0.75 | Val Acc:  58.14%\n",
      "[Image  1500]: Avg Loss  1.39 | Avg Acc:  33.75% | Val Loss:  0.80 | Val Acc:  57.48%\n",
      "[Image  1510]: Avg Loss  0.43 | Avg Acc:  68.04% | Val Loss:  0.78 | Val Acc:  59.50%\n",
      "[Image  1520]: Avg Loss  0.76 | Avg Acc:  57.07% | Val Loss:  0.87 | Val Acc:  56.37%\n",
      "[Image  1530]: Avg Loss  0.84 | Avg Acc:  58.96% | Val Loss:  0.77 | Val Acc:  59.02%\n",
      "[Image  1540]: Avg Loss  0.85 | Avg Acc:  64.49% | Val Loss:  0.72 | Val Acc:  60.03%\n",
      "[Image  1550]: Avg Loss  0.69 | Avg Acc:  54.83% | Val Loss:  0.72 | Val Acc:  62.61%\n",
      "[Image  1560]: Avg Loss  0.40 | Avg Acc:  72.53% | Val Loss:  0.69 | Val Acc:  64.43%\n",
      "[Image  1570]: Avg Loss  0.57 | Avg Acc:  67.99% | Val Loss:  0.72 | Val Acc:  62.46%\n",
      "[Image  1580]: Avg Loss  0.48 | Avg Acc:  70.55% | Val Loss:  0.70 | Val Acc:  62.71%\n",
      "[Image  1590]: Avg Loss  0.87 | Avg Acc:  58.05% | Val Loss:  0.76 | Val Acc:  62.31%\n",
      "[Image  1600]: Avg Loss  0.91 | Avg Acc:  59.39% | Val Loss:  0.82 | Val Acc:  63.01%\n",
      "[Image  1610]: Avg Loss  0.84 | Avg Acc:  56.25% | Val Loss:  0.74 | Val Acc:  63.90%\n",
      "[Image  1620]: Avg Loss  0.33 | Avg Acc:  79.39% | Val Loss:  0.71 | Val Acc:  63.92%\n",
      "[Image  1630]: Avg Loss  0.74 | Avg Acc:  63.43% | Val Loss:  0.71 | Val Acc:  64.25%\n",
      "[Image  1640]: Avg Loss  0.71 | Avg Acc:  63.64% | Val Loss:  0.73 | Val Acc:  65.44%\n",
      "[Image  1650]: Avg Loss  1.00 | Avg Acc:  60.53% | Val Loss:  0.75 | Val Acc:  61.74%\n",
      "[Image  1660]: Avg Loss  0.40 | Avg Acc:  71.28% | Val Loss:  0.74 | Val Acc:  63.11%\n",
      "[Image  1670]: Avg Loss  0.94 | Avg Acc:  55.51% | Val Loss:  0.72 | Val Acc:  63.94%\n",
      "[Image  1680]: Avg Loss  0.59 | Avg Acc:  65.87% | Val Loss:  0.65 | Val Acc:  64.80%\n",
      "[Image  1690]: Avg Loss  1.12 | Avg Acc:  44.94% | Val Loss:  0.68 | Val Acc:  64.77%\n",
      "[Image  1700]: Avg Loss  0.71 | Avg Acc:  63.68% | Val Loss:  0.71 | Val Acc:  64.08%\n",
      "[Image  1710]: Avg Loss  0.94 | Avg Acc:  65.21% | Val Loss:  0.64 | Val Acc:  65.35%\n",
      "[Image  1720]: Avg Loss  0.25 | Avg Acc:  82.12% | Val Loss:  0.72 | Val Acc:  63.43%\n",
      "[Image  1730]: Avg Loss  0.82 | Avg Acc:  56.83% | Val Loss:  0.71 | Val Acc:  62.30%\n",
      "[Image  1740]: Avg Loss  0.62 | Avg Acc:  67.96% | Val Loss:  0.85 | Val Acc:  58.88%\n",
      "[Image  1750]: Avg Loss  0.72 | Avg Acc:  56.60% | Val Loss:  0.92 | Val Acc:  58.11%\n",
      "[Image  1760]: Avg Loss  0.86 | Avg Acc:  64.55% | Val Loss:  0.70 | Val Acc:  62.78%\n",
      "[Image  1770]: Avg Loss  1.31 | Avg Acc:  51.85% | Val Loss:  0.70 | Val Acc:  61.06%\n",
      "[Image  1780]: Avg Loss  0.90 | Avg Acc:  50.14% | Val Loss:  0.70 | Val Acc:  62.59%\n",
      "[Image  1790]: Avg Loss  1.16 | Avg Acc:  39.06% | Val Loss:  0.71 | Val Acc:  60.44%\n",
      "[Image  1800]: Avg Loss  1.30 | Avg Acc:  38.56% | Val Loss:  0.82 | Val Acc:  55.01%\n",
      "[Image  1810]: Avg Loss  0.83 | Avg Acc:  50.67% | Val Loss:  0.75 | Val Acc:  57.86%\n",
      "[Image  1820]: Avg Loss  0.86 | Avg Acc:  45.10% | Val Loss:  0.76 | Val Acc:  60.23%\n",
      "[Image  1830]: Avg Loss  1.35 | Avg Acc:  43.85% | Val Loss:  0.75 | Val Acc:  58.30%\n",
      "[Image  1840]: Avg Loss  1.15 | Avg Acc:  51.33% | Val Loss:  0.73 | Val Acc:  57.77%\n",
      "[Image  1850]: Avg Loss  0.63 | Avg Acc:  59.73% | Val Loss:  0.74 | Val Acc:  57.65%\n",
      "[Image  1860]: Avg Loss  1.13 | Avg Acc:  45.68% | Val Loss:  0.67 | Val Acc:  60.52%\n",
      "[Image  1870]: Avg Loss  1.03 | Avg Acc:  51.47% | Val Loss:  0.75 | Val Acc:  58.69%\n",
      "[Image  1880]: Avg Loss  0.57 | Avg Acc:  71.00% | Val Loss:  0.77 | Val Acc:  56.61%\n",
      "[Image  1890]: Avg Loss  0.69 | Avg Acc:  58.25% | Val Loss:  0.75 | Val Acc:  58.44%\n",
      "[Image  1900]: Avg Loss  0.41 | Avg Acc:  70.52% | Val Loss:  0.72 | Val Acc:  60.60%\n",
      "[Image  1910]: Avg Loss  0.78 | Avg Acc:  51.98% | Val Loss:  0.71 | Val Acc:  58.75%\n",
      "[Image  1920]: Avg Loss  1.06 | Avg Acc:  50.56% | Val Loss:  0.65 | Val Acc:  63.14%\n",
      "[Image  1930]: Avg Loss  0.45 | Avg Acc:  70.33% | Val Loss:  0.66 | Val Acc:  65.05%\n",
      "[Image  1940]: Avg Loss  1.29 | Avg Acc:  34.70% | Val Loss:  0.68 | Val Acc:  60.82%\n",
      "[Image  1950]: Avg Loss  0.38 | Avg Acc:  71.76% | Val Loss:  0.67 | Val Acc:  62.56%\n",
      "[Image  1960]: Avg Loss  0.64 | Avg Acc:  60.33% | Val Loss:  0.67 | Val Acc:  65.14%\n",
      "[Image  1970]: Avg Loss  1.20 | Avg Acc:  47.00% | Val Loss:  0.69 | Val Acc:  65.46%\n",
      "[Image  1980]: Avg Loss  0.70 | Avg Acc:  58.30% | Val Loss:  0.76 | Val Acc:  61.95%\n",
      "[Image  1990]: Avg Loss  0.39 | Avg Acc:  73.31% | Val Loss:  0.68 | Val Acc:  63.49%\n",
      "[Image  2000]: Avg Loss  0.52 | Avg Acc:  68.31% | Val Loss:  0.65 | Val Acc:  65.00%\n",
      "[Image  2010]: Avg Loss  0.41 | Avg Acc:  70.72% | Val Loss:  0.65 | Val Acc:  65.49%\n",
      "[Image  2020]: Avg Loss  1.36 | Avg Acc:  51.36% | Val Loss:  0.65 | Val Acc:  64.76%\n",
      "[Image  2030]: Avg Loss  0.77 | Avg Acc:  58.63% | Val Loss:  0.67 | Val Acc:  64.23%\n",
      "[Image  2040]: Avg Loss  0.68 | Avg Acc:  60.84% | Val Loss:  0.69 | Val Acc:  62.61%\n",
      "[Image  2050]: Avg Loss  0.82 | Avg Acc:  59.41% | Val Loss:  0.72 | Val Acc:  62.10%\n",
      "[Image  2060]: Avg Loss  0.50 | Avg Acc:  71.31% | Val Loss:  0.68 | Val Acc:  63.36%\n",
      "[Image  2070]: Avg Loss  1.05 | Avg Acc:  48.58% | Val Loss:  0.66 | Val Acc:  64.05%\n",
      "[Image  2080]: Avg Loss  1.14 | Avg Acc:  54.22% | Val Loss:  0.68 | Val Acc:  62.49%\n",
      "[Image  2090]: Avg Loss  0.93 | Avg Acc:  47.94% | Val Loss:  0.69 | Val Acc:  62.46%\n",
      "[Image  2100]: Avg Loss  0.60 | Avg Acc:  71.46% | Val Loss:  0.70 | Val Acc:  62.67%\n",
      "[Image  2110]: Avg Loss  0.78 | Avg Acc:  55.08% | Val Loss:  0.68 | Val Acc:  63.87%\n",
      "[Image  2120]: Avg Loss  0.76 | Avg Acc:  58.81% | Val Loss:  0.68 | Val Acc:  63.39%\n",
      "[Image  2130]: Avg Loss  0.54 | Avg Acc:  68.14% | Val Loss:  0.69 | Val Acc:  63.64%\n",
      "[Image  2140]: Avg Loss  0.80 | Avg Acc:  55.95% | Val Loss:  0.67 | Val Acc:  63.14%\n",
      "[Image  2150]: Avg Loss  0.64 | Avg Acc:  57.80% | Val Loss:  0.67 | Val Acc:  62.89%\n",
      "[Image  2160]: Avg Loss  0.33 | Avg Acc:  72.64% | Val Loss:  0.67 | Val Acc:  63.22%\n",
      "[Image  2170]: Avg Loss  0.93 | Avg Acc:  48.72% | Val Loss:  0.70 | Val Acc:  63.71%\n",
      "[Image  2180]: Avg Loss  1.14 | Avg Acc:  54.20% | Val Loss:  0.77 | Val Acc:  62.64%\n",
      "[Image  2190]: Avg Loss  1.03 | Avg Acc:  50.15% | Val Loss:  0.70 | Val Acc:  62.02%\n",
      "[Image  2200]: Avg Loss  0.79 | Avg Acc:  61.98% | Val Loss:  0.69 | Val Acc:  63.35%\n",
      "[Image  2210]: Avg Loss  0.72 | Avg Acc:  62.66% | Val Loss:  0.64 | Val Acc:  65.62%\n",
      "[Image  2220]: Avg Loss  1.14 | Avg Acc:  55.14% | Val Loss:  0.73 | Val Acc:  64.09%\n",
      "[Image  2230]: Avg Loss  0.47 | Avg Acc:  70.54% | Val Loss:  0.69 | Val Acc:  64.91%\n",
      "[Image  2240]: Avg Loss  0.49 | Avg Acc:  67.91% | Val Loss:  0.66 | Val Acc:  65.54%\n",
      "[Image  2250]: Avg Loss  0.66 | Avg Acc:  61.91% | Val Loss:  0.67 | Val Acc:  64.13%\n",
      "[Image  2260]: Avg Loss  0.74 | Avg Acc:  64.55% | Val Loss:  0.74 | Val Acc:  63.78%\n",
      "[Image  2270]: Avg Loss  0.84 | Avg Acc:  63.29% | Val Loss:  0.70 | Val Acc:  63.13%\n",
      "[Image  2280]: Avg Loss  0.63 | Avg Acc:  63.90% | Val Loss:  0.62 | Val Acc:  66.58%\n",
      "[Image  2290]: Avg Loss  0.67 | Avg Acc:  67.00% | Val Loss:  0.63 | Val Acc:  66.31%\n",
      "[Image  2300]: Avg Loss  0.46 | Avg Acc:  82.32% | Val Loss:  0.61 | Val Acc:  68.24%\n",
      "[Image  2310]: Avg Loss  1.15 | Avg Acc:  42.59% | Val Loss:  0.66 | Val Acc:  64.63%\n",
      "[Image  2320]: Avg Loss  0.72 | Avg Acc:  61.68% | Val Loss:  0.71 | Val Acc:  63.34%\n",
      "[Image  2330]: Avg Loss  0.59 | Avg Acc:  62.64% | Val Loss:  0.69 | Val Acc:  64.05%\n",
      "[Image  2340]: Avg Loss  0.60 | Avg Acc:  61.35% | Val Loss:  0.65 | Val Acc:  65.90%\n",
      "[Image  2350]: Avg Loss  0.32 | Avg Acc:  73.69% | Val Loss:  0.64 | Val Acc:  65.37%\n",
      "[Image  2360]: Avg Loss  0.74 | Avg Acc:  62.40% | Val Loss:  0.66 | Val Acc:  65.38%\n",
      "[Image  2370]: Avg Loss  0.34 | Avg Acc:  74.11% | Val Loss:  0.66 | Val Acc:  64.06%\n",
      "[Image  2380]: Avg Loss  2.71 | Avg Acc:  55.08% | Val Loss:  0.76 | Val Acc:  60.99%\n",
      "[Image  2390]: Avg Loss  0.60 | Avg Acc:  69.03% | Val Loss:  0.71 | Val Acc:  63.16%\n",
      "[Image  2400]: Avg Loss  1.19 | Avg Acc:  44.69% | Val Loss:  0.68 | Val Acc:  63.90%\n",
      "[Image  2410]: Avg Loss  1.39 | Avg Acc:  43.34% | Val Loss:  0.67 | Val Acc:  62.85%\n",
      "[Image  2420]: Avg Loss  0.98 | Avg Acc:  53.58% | Val Loss:  0.69 | Val Acc:  64.26%\n",
      "[Image  2430]: Avg Loss  0.48 | Avg Acc:  66.72% | Val Loss:  0.68 | Val Acc:  63.36%\n",
      "[Image  2440]: Avg Loss  0.83 | Avg Acc:  57.37% | Val Loss:  0.69 | Val Acc:  63.19%\n",
      "[Image  2450]: Avg Loss  0.61 | Avg Acc:  69.94% | Val Loss:  0.69 | Val Acc:  63.16%\n",
      "[Image  2460]: Avg Loss  0.68 | Avg Acc:  64.95% | Val Loss:  0.70 | Val Acc:  62.51%\n",
      "[Image  2470]: Avg Loss  0.88 | Avg Acc:  55.00% | Val Loss:  0.71 | Val Acc:  61.14%\n",
      "[Image  2480]: Avg Loss  0.40 | Avg Acc:  69.46% | Val Loss:  0.68 | Val Acc:  63.23%\n",
      "[Image  2490]: Avg Loss  0.69 | Avg Acc:  54.04% | Val Loss:  0.70 | Val Acc:  61.22%\n",
      "[Image  2500]: Avg Loss  0.63 | Avg Acc:  66.42% | Val Loss:  0.66 | Val Acc:  62.54%\n",
      "[Image  2510]: Avg Loss  0.92 | Avg Acc:  51.80% | Val Loss:  0.65 | Val Acc:  63.92%\n",
      "[Image  2520]: Avg Loss  0.77 | Avg Acc:  54.33% | Val Loss:  0.66 | Val Acc:  62.38%\n",
      "[Image  2530]: Avg Loss  0.56 | Avg Acc:  62.33% | Val Loss:  0.67 | Val Acc:  62.43%\n",
      "[Image  2540]: Avg Loss  0.29 | Avg Acc:  80.39% | Val Loss:  0.69 | Val Acc:  62.15%\n",
      "[Image  2550]: Avg Loss  1.20 | Avg Acc:  58.82% | Val Loss:  0.70 | Val Acc:  61.53%\n",
      "[Image  2560]: Avg Loss  0.38 | Avg Acc:  73.43% | Val Loss:  0.70 | Val Acc:  61.45%\n",
      "[Image  2570]: Avg Loss  1.03 | Avg Acc:  55.53% | Val Loss:  0.65 | Val Acc:  63.79%\n",
      "[Image  2580]: Avg Loss  0.91 | Avg Acc:  51.53% | Val Loss:  0.66 | Val Acc:  65.40%\n",
      "[Image  2590]: Avg Loss  0.61 | Avg Acc:  65.48% | Val Loss:  0.63 | Val Acc:  65.72%\n",
      "[Image  2600]: Avg Loss  0.63 | Avg Acc:  70.09% | Val Loss:  0.64 | Val Acc:  65.34%\n",
      "[Image  2610]: Avg Loss  0.26 | Avg Acc:  80.07% | Val Loss:  0.62 | Val Acc:  66.67%\n",
      "[Image  2620]: Avg Loss  1.66 | Avg Acc:  38.83% | Val Loss:  0.68 | Val Acc:  64.19%\n",
      "[Image  2630]: Avg Loss  0.50 | Avg Acc:  65.81% | Val Loss:  0.65 | Val Acc:  65.46%\n",
      "[Image  2640]: Avg Loss  0.32 | Avg Acc:  79.04% | Val Loss:  0.65 | Val Acc:  64.88%\n",
      "[Image  2650]: Avg Loss  0.84 | Avg Acc:  59.04% | Val Loss:  0.70 | Val Acc:  63.76%\n",
      "[Image  2660]: Avg Loss  0.85 | Avg Acc:  55.05% | Val Loss:  0.67 | Val Acc:  64.28%\n",
      "[Image  2670]: Avg Loss  0.79 | Avg Acc:  69.33% | Val Loss:  0.70 | Val Acc:  62.85%\n",
      "[Image  2680]: Avg Loss  0.67 | Avg Acc:  62.13% | Val Loss:  0.70 | Val Acc:  62.35%\n",
      "[Image  2690]: Avg Loss  1.74 | Avg Acc:  42.30% | Val Loss:  0.71 | Val Acc:  61.43%\n",
      "[Image  2700]: Avg Loss  0.46 | Avg Acc:  71.03% | Val Loss:  0.69 | Val Acc:  62.42%\n",
      "[Image  2710]: Avg Loss  0.79 | Avg Acc:  62.64% | Val Loss:  0.67 | Val Acc:  62.81%\n",
      "[Image  2720]: Avg Loss  0.77 | Avg Acc:  51.64% | Val Loss:  0.70 | Val Acc:  61.39%\n",
      "[Image  2730]: Avg Loss  0.69 | Avg Acc:  59.05% | Val Loss:  0.71 | Val Acc:  61.85%\n",
      "[Image  2740]: Avg Loss  1.36 | Avg Acc:  44.64% | Val Loss:  0.70 | Val Acc:  61.89%\n",
      "[Image  2750]: Avg Loss  1.08 | Avg Acc:  54.61% | Val Loss:  0.74 | Val Acc:  59.66%\n",
      "[Image  2760]: Avg Loss  0.66 | Avg Acc:  59.84% | Val Loss:  0.75 | Val Acc:  60.18%\n",
      "[Image  2770]: Avg Loss  0.34 | Avg Acc:  76.65% | Val Loss:  0.70 | Val Acc:  63.47%\n",
      "[Image  2780]: Avg Loss  1.19 | Avg Acc:  57.12% | Val Loss:  0.70 | Val Acc:  61.89%\n",
      "[Image  2790]: Avg Loss  1.99 | Avg Acc:  36.49% | Val Loss:  0.69 | Val Acc:  61.13%\n",
      "[Image  2800]: Avg Loss  1.06 | Avg Acc:  57.74% | Val Loss:  0.65 | Val Acc:  62.38%\n",
      "[Image  2810]: Avg Loss  0.79 | Avg Acc:  54.58% | Val Loss:  0.66 | Val Acc:  62.00%\n",
      "[Image  2820]: Avg Loss  1.07 | Avg Acc:  39.51% | Val Loss:  0.66 | Val Acc:  62.33%\n",
      "[Image  2830]: Avg Loss  0.78 | Avg Acc:  49.25% | Val Loss:  0.65 | Val Acc:  64.20%\n",
      "[Image  2840]: Avg Loss  0.28 | Avg Acc:  80.07% | Val Loss:  0.68 | Val Acc:  63.84%\n",
      "[Image  2850]: Avg Loss  0.88 | Avg Acc:  56.59% | Val Loss:  0.69 | Val Acc:  61.97%\n",
      "[Image  2860]: Avg Loss  0.47 | Avg Acc:  70.07% | Val Loss:  0.70 | Val Acc:  61.40%\n",
      "[Image  2870]: Avg Loss  1.14 | Avg Acc:  58.09% | Val Loss:  0.79 | Val Acc:  58.89%\n",
      "[Image  2880]: Avg Loss  0.95 | Avg Acc:  42.77% | Val Loss:  0.68 | Val Acc:  61.22%\n",
      "[Image  2890]: Avg Loss  0.60 | Avg Acc:  58.15% | Val Loss:  0.65 | Val Acc:  63.11%\n",
      "[Image  2900]: Avg Loss  1.70 | Avg Acc:  53.55% | Val Loss:  0.70 | Val Acc:  60.92%\n",
      "[Image  2910]: Avg Loss  0.77 | Avg Acc:  59.80% | Val Loss:  0.70 | Val Acc:  61.10%\n",
      "[Image  2920]: Avg Loss  1.13 | Avg Acc:  41.70% | Val Loss:  0.69 | Val Acc:  60.79%\n",
      "[Image  2930]: Avg Loss  0.68 | Avg Acc:  56.38% | Val Loss:  0.66 | Val Acc:  61.87%\n",
      "[Image  2940]: Avg Loss  0.77 | Avg Acc:  56.87% | Val Loss:  0.69 | Val Acc:  59.98%\n",
      "[Image  2950]: Avg Loss  0.76 | Avg Acc:  54.60% | Val Loss:  0.69 | Val Acc:  60.47%\n",
      "[Image  2960]: Avg Loss  1.33 | Avg Acc:  37.68% | Val Loss:  0.71 | Val Acc:  59.19%\n",
      "[Image  2970]: Avg Loss  0.87 | Avg Acc:  54.76% | Val Loss:  0.71 | Val Acc:  59.81%\n",
      "[Image  2980]: Avg Loss  0.99 | Avg Acc:  44.54% | Val Loss:  0.69 | Val Acc:  61.43%\n",
      "[Image  2990]: Avg Loss  0.72 | Avg Acc:  60.84% | Val Loss:  0.71 | Val Acc:  60.51%\n",
      "[Image  3000]: Avg Loss  0.57 | Avg Acc:  63.49% | Val Loss:  0.69 | Val Acc:  61.76%\n",
      "[Image  3010]: Avg Loss  1.10 | Avg Acc:  45.96% | Val Loss:  0.69 | Val Acc:  63.45%\n",
      "[Image  3020]: Avg Loss  0.45 | Avg Acc:  70.44% | Val Loss:  0.67 | Val Acc:  63.86%\n",
      "[Image  3030]: Avg Loss  1.02 | Avg Acc:  48.59% | Val Loss:  0.69 | Val Acc:  60.87%\n",
      "[Image  3040]: Avg Loss  0.50 | Avg Acc:  65.18% | Val Loss:  0.68 | Val Acc:  61.17%\n",
      "[Image  3050]: Avg Loss  0.56 | Avg Acc:  67.09% | Val Loss:  0.73 | Val Acc:  59.89%\n",
      "[Image  3060]: Avg Loss  0.46 | Avg Acc:  69.71% | Val Loss:  0.68 | Val Acc:  61.84%\n",
      "[Image  3070]: Avg Loss  1.01 | Avg Acc:  52.21% | Val Loss:  0.67 | Val Acc:  62.72%\n",
      "[Image  3080]: Avg Loss  1.07 | Avg Acc:  52.23% | Val Loss:  0.66 | Val Acc:  63.74%\n",
      "[Image  3090]: Avg Loss  0.95 | Avg Acc:  56.13% | Val Loss:  0.65 | Val Acc:  64.01%\n",
      "[Image  3100]: Avg Loss  0.93 | Avg Acc:  48.70% | Val Loss:  0.63 | Val Acc:  64.20%\n",
      "[Image  3110]: Avg Loss  0.48 | Avg Acc:  67.49% | Val Loss:  0.61 | Val Acc:  65.40%\n",
      "[Image  3120]: Avg Loss  0.73 | Avg Acc:  51.84% | Val Loss:  0.61 | Val Acc:  66.53%\n",
      "[Image  3130]: Avg Loss  0.82 | Avg Acc:  56.52% | Val Loss:  0.62 | Val Acc:  66.67%\n",
      "[Image  3140]: Avg Loss  0.58 | Avg Acc:  66.74% | Val Loss:  0.62 | Val Acc:  67.02%\n",
      "[Image  3150]: Avg Loss  0.72 | Avg Acc:  59.88% | Val Loss:  0.60 | Val Acc:  66.73%\n",
      "[Image  3160]: Avg Loss  0.44 | Avg Acc:  73.20% | Val Loss:  0.63 | Val Acc:  65.25%\n",
      "[Image  3170]: Avg Loss  0.58 | Avg Acc:  64.69% | Val Loss:  0.64 | Val Acc:  65.05%\n",
      "[Image  3180]: Avg Loss  0.63 | Avg Acc:  57.77% | Val Loss:  0.63 | Val Acc:  66.91%\n",
      "[Image  3190]: Avg Loss  0.36 | Avg Acc:  73.73% | Val Loss:  0.59 | Val Acc:  67.44%\n",
      "[Image  3200]: Avg Loss  0.75 | Avg Acc:  65.50% | Val Loss:  0.62 | Val Acc:  66.76%\n",
      "[Image  3210]: Avg Loss  0.90 | Avg Acc:  55.98% | Val Loss:  0.66 | Val Acc:  65.11%\n",
      "[Image  3220]: Avg Loss  0.70 | Avg Acc:  67.65% | Val Loss:  0.66 | Val Acc:  66.19%\n",
      "[Image  3230]: Avg Loss  1.02 | Avg Acc:  57.82% | Val Loss:  0.68 | Val Acc:  65.25%\n",
      "[Image  3240]: Avg Loss  0.66 | Avg Acc:  61.71% | Val Loss:  0.71 | Val Acc:  63.91%\n",
      "[Image  3250]: Avg Loss  0.81 | Avg Acc:  60.16% | Val Loss:  0.69 | Val Acc:  63.48%\n",
      "[Image  3260]: Avg Loss  0.81 | Avg Acc:  53.38% | Val Loss:  0.70 | Val Acc:  63.61%\n",
      "[Image  3270]: Avg Loss  0.91 | Avg Acc:  56.95% | Val Loss:  0.78 | Val Acc:  60.36%\n",
      "[Image  3280]: Avg Loss  0.52 | Avg Acc:  64.89% | Val Loss:  0.70 | Val Acc:  63.72%\n",
      "[Image  3290]: Avg Loss  0.45 | Avg Acc:  77.79% | Val Loss:  0.68 | Val Acc:  63.50%\n",
      "[Image  3300]: Avg Loss  0.63 | Avg Acc:  60.47% | Val Loss:  0.71 | Val Acc:  61.04%\n",
      "[Image  3310]: Avg Loss  0.72 | Avg Acc:  59.27% | Val Loss:  0.72 | Val Acc:  59.66%\n",
      "[Image  3320]: Avg Loss  0.84 | Avg Acc:  63.86% | Val Loss:  0.69 | Val Acc:  61.60%\n",
      "[Image  3330]: Avg Loss  0.27 | Avg Acc:  80.70% | Val Loss:  0.69 | Val Acc:  61.87%\n",
      "[Image  3340]: Avg Loss  1.02 | Avg Acc:  61.39% | Val Loss:  0.70 | Val Acc:  61.58%\n",
      "[Image  3350]: Avg Loss  1.01 | Avg Acc:  55.42% | Val Loss:  0.68 | Val Acc:  62.57%\n",
      "[Image  3360]: Avg Loss  1.15 | Avg Acc:  48.89% | Val Loss:  0.71 | Val Acc:  61.44%\n",
      "[Image  3370]: Avg Loss  0.81 | Avg Acc:  57.47% | Val Loss:  0.73 | Val Acc:  60.97%\n",
      "[Image  3380]: Avg Loss  0.97 | Avg Acc:  52.08% | Val Loss:  0.68 | Val Acc:  62.51%\n",
      "[Image  3390]: Avg Loss  0.50 | Avg Acc:  75.26% | Val Loss:  0.68 | Val Acc:  63.32%\n",
      "[Image  3400]: Avg Loss  0.72 | Avg Acc:  60.04% | Val Loss:  0.67 | Val Acc:  63.25%\n",
      "[Image  3410]: Avg Loss  0.75 | Avg Acc:  54.50% | Val Loss:  0.69 | Val Acc:  63.62%\n",
      "[Image  3420]: Avg Loss  0.82 | Avg Acc:  56.27% | Val Loss:  0.72 | Val Acc:  62.66%\n"
     ]
    },
    {
     "ename": "KeyboardInterrupt",
     "evalue": "",
     "output_type": "error",
     "traceback": [
      "\u001b[1;31m---------------------------------------------------------------------------\u001b[0m",
      "\u001b[1;31mKeyboardInterrupt\u001b[0m                         Traceback (most recent call last)",
      "Cell \u001b[1;32mIn[13], line 13\u001b[0m\n\u001b[0;32m      9\u001b[0m CNN_model \u001b[38;5;241m=\u001b[39m CNN(layers)\n\u001b[0;32m     11\u001b[0m CNN_model\u001b[38;5;241m.\u001b[39mEarlyStop(monitor \u001b[38;5;241m=\u001b[39m \u001b[38;5;124m\"\u001b[39m\u001b[38;5;124mval_accuracy\u001b[39m\u001b[38;5;124m\"\u001b[39m, min_delta \u001b[38;5;241m=\u001b[39m \u001b[38;5;241m1e-3\u001b[39m, min_monitor\u001b[38;5;241m=\u001b[39m\u001b[38;5;241m0.6\u001b[39m, patience \u001b[38;5;241m=\u001b[39m \u001b[38;5;241m3\u001b[39m, restore_best_layers\u001b[38;5;241m=\u001b[39m\u001b[38;5;28;01mTrue\u001b[39;00m)\n\u001b[1;32m---> 13\u001b[0m \u001b[43mCNN_model\u001b[49m\u001b[38;5;241;43m.\u001b[39;49m\u001b[43mtrain\u001b[49m\u001b[43m(\u001b[49m\u001b[43mX_train\u001b[49m\u001b[43m,\u001b[49m\u001b[43m \u001b[49m\u001b[43my_train\u001b[49m\u001b[43m,\u001b[49m\u001b[43m \u001b[49m\u001b[43mX_val\u001b[49m\u001b[43m,\u001b[49m\u001b[43m \u001b[49m\u001b[43my_val\u001b[49m\u001b[43m,\u001b[49m\u001b[43m \u001b[49m\u001b[43mepochs\u001b[49m\u001b[38;5;241;43m=\u001b[39;49m\u001b[38;5;241;43m1\u001b[39;49m\u001b[43m,\u001b[49m\u001b[43m \u001b[49m\u001b[43mlearning_rate\u001b[49m\u001b[38;5;241;43m=\u001b[39;49m\u001b[38;5;241;43m0.01\u001b[39;49m\u001b[43m,\u001b[49m\u001b[43m \u001b[49m\u001b[43mlr_decay\u001b[49m\u001b[38;5;241;43m=\u001b[39;49m\u001b[38;5;241;43m0.005\u001b[39;49m\u001b[43m,\u001b[49m\u001b[43m \u001b[49m\u001b[43mstep\u001b[49m\u001b[38;5;241;43m=\u001b[39;49m\u001b[38;5;241;43m10\u001b[39;49m\u001b[43m,\u001b[49m\u001b[43m \u001b[49m\u001b[43mval_step\u001b[49m\u001b[38;5;241;43m=\u001b[39;49m\u001b[38;5;241;43m500\u001b[39;49m\u001b[43m)\u001b[49m\n",
      "Cell \u001b[1;32mIn[7], line 63\u001b[0m, in \u001b[0;36mCNN.train\u001b[1;34m(self, X_train, y_train, X_val, y_val, epochs, learning_rate, lr_decay, step, val_step)\u001b[0m\n\u001b[0;32m     60\u001b[0m losses \u001b[38;5;241m=\u001b[39m []\n\u001b[0;32m     62\u001b[0m \u001b[38;5;28;01mif\u001b[39;00m \u001b[38;5;28mself\u001b[39m\u001b[38;5;241m.\u001b[39mearly_stop \u001b[38;5;129;01mis\u001b[39;00m \u001b[38;5;129;01mnot\u001b[39;00m \u001b[38;5;28;01mNone\u001b[39;00m:\n\u001b[1;32m---> 63\u001b[0m     \u001b[38;5;28;01mif\u001b[39;00m \u001b[38;5;28;43mself\u001b[39;49m\u001b[38;5;241;43m.\u001b[39;49m\u001b[43mEarlyStopping\u001b[49m\u001b[43m(\u001b[49m\u001b[43mepoch\u001b[49m\u001b[43m,\u001b[49m\u001b[43m \u001b[49m\u001b[43mi\u001b[49m\u001b[43m,\u001b[49m\u001b[43m \u001b[49m\u001b[43maccuracy\u001b[49m\u001b[43m,\u001b[49m\u001b[43m \u001b[49m\u001b[43mloss\u001b[49m\u001b[43m,\u001b[49m\u001b[43m \u001b[49m\u001b[43mstep\u001b[49m\u001b[43m,\u001b[49m\u001b[43m \u001b[49m\u001b[43mval_step\u001b[49m\u001b[43m,\u001b[49m\u001b[43m \u001b[49m\u001b[43mX_val\u001b[49m\u001b[43m,\u001b[49m\u001b[43m \u001b[49m\u001b[43my_val\u001b[49m\u001b[43m)\u001b[49m:\n\u001b[0;32m     64\u001b[0m         \u001b[38;5;28mself\u001b[39m\u001b[38;5;241m.\u001b[39moutput \u001b[38;5;241m=\u001b[39m np\u001b[38;5;241m.\u001b[39marray(output)\n\u001b[0;32m     65\u001b[0m         \u001b[38;5;28;01mreturn\u001b[39;00m\n",
      "Cell \u001b[1;32mIn[7], line 117\u001b[0m, in \u001b[0;36mCNN.EarlyStopping\u001b[1;34m(self, epoch, im_i, accuracy, loss, step, val_step, X_val, y_val)\u001b[0m\n\u001b[0;32m    114\u001b[0m \u001b[38;5;28mself\u001b[39m\u001b[38;5;241m.\u001b[39mhistory[\u001b[38;5;124m'\u001b[39m\u001b[38;5;124maccuracy\u001b[39m\u001b[38;5;124m'\u001b[39m][epoch]\u001b[38;5;241m.\u001b[39mappend(accuracy)\n\u001b[0;32m    115\u001b[0m \u001b[38;5;28mself\u001b[39m\u001b[38;5;241m.\u001b[39mhistory[\u001b[38;5;124m'\u001b[39m\u001b[38;5;124mloss\u001b[39m\u001b[38;5;124m'\u001b[39m][epoch]\u001b[38;5;241m.\u001b[39mappend(loss)\n\u001b[1;32m--> 117\u001b[0m val_accuracy, val_loss \u001b[38;5;241m=\u001b[39m \u001b[38;5;28;43mself\u001b[39;49m\u001b[38;5;241;43m.\u001b[39;49m\u001b[43mval_pred\u001b[49m\u001b[43m(\u001b[49m\u001b[43mX_val\u001b[49m\u001b[43m,\u001b[49m\u001b[43m \u001b[49m\u001b[43my_val\u001b[49m\u001b[43m)\u001b[49m\n\u001b[0;32m    118\u001b[0m \u001b[38;5;28mself\u001b[39m\u001b[38;5;241m.\u001b[39mhistory[\u001b[38;5;124m'\u001b[39m\u001b[38;5;124mval_accuracy\u001b[39m\u001b[38;5;124m'\u001b[39m][epoch]\u001b[38;5;241m.\u001b[39mappend(val_accuracy)\n\u001b[0;32m    119\u001b[0m \u001b[38;5;28mself\u001b[39m\u001b[38;5;241m.\u001b[39mhistory[\u001b[38;5;124m'\u001b[39m\u001b[38;5;124mval_loss\u001b[39m\u001b[38;5;124m'\u001b[39m][epoch]\u001b[38;5;241m.\u001b[39mappend(val_loss)\n",
      "Cell \u001b[1;32mIn[7], line 80\u001b[0m, in \u001b[0;36mCNN.val_pred\u001b[1;34m(self, X_val, y_val)\u001b[0m\n\u001b[0;32m     77\u001b[0m losses \u001b[38;5;241m=\u001b[39m []\n\u001b[0;32m     79\u001b[0m \u001b[38;5;28;01mfor\u001b[39;00m i, X \u001b[38;5;129;01min\u001b[39;00m \u001b[38;5;28menumerate\u001b[39m(X_val):\n\u001b[1;32m---> 80\u001b[0m     current_output \u001b[38;5;241m=\u001b[39m \u001b[38;5;28;43mself\u001b[39;49m\u001b[38;5;241;43m.\u001b[39;49m\u001b[43mforward\u001b[49m\u001b[43m(\u001b[49m\u001b[43mX\u001b[49m\u001b[43m)\u001b[49m\n\u001b[0;32m     82\u001b[0m     accuracy \u001b[38;5;241m=\u001b[39m current_output[np\u001b[38;5;241m.\u001b[39margmax(y_val[i])]\n\u001b[0;32m     83\u001b[0m     loss \u001b[38;5;241m=\u001b[39m \u001b[38;5;241m-\u001b[39mnp\u001b[38;5;241m.\u001b[39msum(y_val[i] \u001b[38;5;241m*\u001b[39m np\u001b[38;5;241m.\u001b[39mlog(current_output))\n",
      "Cell \u001b[1;32mIn[7], line 19\u001b[0m, in \u001b[0;36mCNN.forward\u001b[1;34m(self, image)\u001b[0m\n\u001b[0;32m     17\u001b[0m \u001b[38;5;28;01mdef\u001b[39;00m \u001b[38;5;21mforward\u001b[39m(\u001b[38;5;28mself\u001b[39m, image):\n\u001b[0;32m     18\u001b[0m     \u001b[38;5;28;01mfor\u001b[39;00m layer \u001b[38;5;129;01min\u001b[39;00m \u001b[38;5;28mself\u001b[39m\u001b[38;5;241m.\u001b[39mlayers:\n\u001b[1;32m---> 19\u001b[0m         image \u001b[38;5;241m=\u001b[39m \u001b[43mlayer\u001b[49m\u001b[38;5;241;43m.\u001b[39;49m\u001b[43mforward\u001b[49m\u001b[43m(\u001b[49m\u001b[43mimage\u001b[49m\u001b[43m)\u001b[49m\n\u001b[0;32m     20\u001b[0m     \u001b[38;5;28;01mreturn\u001b[39;00m image\n",
      "Cell \u001b[1;32mIn[4], line 31\u001b[0m, in \u001b[0;36mConv.forward\u001b[1;34m(self, image)\u001b[0m\n\u001b[0;32m     29\u001b[0m \u001b[38;5;28;01mwhile\u001b[39;00m current_x \u001b[38;5;241m+\u001b[39m \u001b[38;5;28mself\u001b[39m\u001b[38;5;241m.\u001b[39msize \u001b[38;5;241m<\u001b[39m\u001b[38;5;241m=\u001b[39m input_dimension:\n\u001b[0;32m     30\u001b[0m     patch \u001b[38;5;241m=\u001b[39m image[:, current_y:current_y \u001b[38;5;241m+\u001b[39m \u001b[38;5;28mself\u001b[39m\u001b[38;5;241m.\u001b[39msize, current_x:current_x \u001b[38;5;241m+\u001b[39m \u001b[38;5;28mself\u001b[39m\u001b[38;5;241m.\u001b[39msize]\n\u001b[1;32m---> 31\u001b[0m     out[f, out_y, out_x] \u001b[38;5;241m=\u001b[39m \u001b[43mnp\u001b[49m\u001b[38;5;241;43m.\u001b[39;49m\u001b[43msum\u001b[49m\u001b[43m(\u001b[49m\u001b[38;5;28;43mself\u001b[39;49m\u001b[38;5;241;43m.\u001b[39;49m\u001b[43mfilters\u001b[49m\u001b[43m[\u001b[49m\u001b[43mf\u001b[49m\u001b[43m]\u001b[49m\u001b[43m \u001b[49m\u001b[38;5;241;43m*\u001b[39;49m\u001b[43m \u001b[49m\u001b[43mpatch\u001b[49m\u001b[43m)\u001b[49m\n\u001b[0;32m     32\u001b[0m     current_x \u001b[38;5;241m+\u001b[39m\u001b[38;5;241m=\u001b[39m \u001b[38;5;28mself\u001b[39m\u001b[38;5;241m.\u001b[39mstride\n\u001b[0;32m     33\u001b[0m     out_x \u001b[38;5;241m+\u001b[39m\u001b[38;5;241m=\u001b[39m \u001b[38;5;241m1\u001b[39m\n",
      "File \u001b[1;32md:\\Programming\\.venvs\\university\\Lib\\site-packages\\numpy\\core\\fromnumeric.py:2177\u001b[0m, in \u001b[0;36msum\u001b[1;34m(a, axis, dtype, out, keepdims, initial, where)\u001b[0m\n\u001b[0;32m   2172\u001b[0m \u001b[38;5;28;01mdef\u001b[39;00m \u001b[38;5;21m_sum_dispatcher\u001b[39m(a, axis\u001b[38;5;241m=\u001b[39m\u001b[38;5;28;01mNone\u001b[39;00m, dtype\u001b[38;5;241m=\u001b[39m\u001b[38;5;28;01mNone\u001b[39;00m, out\u001b[38;5;241m=\u001b[39m\u001b[38;5;28;01mNone\u001b[39;00m, keepdims\u001b[38;5;241m=\u001b[39m\u001b[38;5;28;01mNone\u001b[39;00m,\n\u001b[0;32m   2173\u001b[0m                     initial\u001b[38;5;241m=\u001b[39m\u001b[38;5;28;01mNone\u001b[39;00m, where\u001b[38;5;241m=\u001b[39m\u001b[38;5;28;01mNone\u001b[39;00m):\n\u001b[0;32m   2174\u001b[0m     \u001b[38;5;28;01mreturn\u001b[39;00m (a, out)\n\u001b[1;32m-> 2177\u001b[0m \u001b[38;5;129m@array_function_dispatch\u001b[39m(_sum_dispatcher)\n\u001b[0;32m   2178\u001b[0m \u001b[38;5;28;01mdef\u001b[39;00m \u001b[38;5;21msum\u001b[39m(a, axis\u001b[38;5;241m=\u001b[39m\u001b[38;5;28;01mNone\u001b[39;00m, dtype\u001b[38;5;241m=\u001b[39m\u001b[38;5;28;01mNone\u001b[39;00m, out\u001b[38;5;241m=\u001b[39m\u001b[38;5;28;01mNone\u001b[39;00m, keepdims\u001b[38;5;241m=\u001b[39mnp\u001b[38;5;241m.\u001b[39m_NoValue,\n\u001b[0;32m   2179\u001b[0m         initial\u001b[38;5;241m=\u001b[39mnp\u001b[38;5;241m.\u001b[39m_NoValue, where\u001b[38;5;241m=\u001b[39mnp\u001b[38;5;241m.\u001b[39m_NoValue):\n\u001b[0;32m   2180\u001b[0m \u001b[38;5;250m    \u001b[39m\u001b[38;5;124;03m\"\"\"\u001b[39;00m\n\u001b[0;32m   2181\u001b[0m \u001b[38;5;124;03m    Sum of array elements over a given axis.\u001b[39;00m\n\u001b[0;32m   2182\u001b[0m \n\u001b[1;32m   (...)\u001b[0m\n\u001b[0;32m   2298\u001b[0m \u001b[38;5;124;03m    15\u001b[39;00m\n\u001b[0;32m   2299\u001b[0m \u001b[38;5;124;03m    \"\"\"\u001b[39;00m\n\u001b[0;32m   2300\u001b[0m     \u001b[38;5;28;01mif\u001b[39;00m \u001b[38;5;28misinstance\u001b[39m(a, _gentype):\n\u001b[0;32m   2301\u001b[0m         \u001b[38;5;66;03m# 2018-02-25, 1.15.0\u001b[39;00m\n",
      "\u001b[1;31mKeyboardInterrupt\u001b[0m: "
     ]
    }
   ],
   "source": [
    "layers = [\n",
    "    Conv(num_filters=7, size=5, stride=1, activation='relu'),\n",
    "    Conv(num_filters=5, size=3, stride=1, activation='relu'), \n",
    "    MaxPool(size=2, stride=2, activation='relu'),\n",
    "    Dense(n_inputs=605, n_neurons=128, activation='relu'),\n",
    "    Dense(n_inputs=128, n_neurons=10, activation='softmax'),\n",
    "]\n",
    "\n",
    "CNN_model = CNN(layers)\n",
    "\n",
    "CNN_model.EarlyStop(monitor = \"val_accuracy\", min_delta = 1e-3, min_monitor=0.6, patience = 3, restore_best_layers=True)\n",
    "\n",
    "CNN_model.train(X_train, y_train, X_val, y_val, epochs=1, learning_rate=0.01, lr_decay=0.005, step=10, val_step=500)"
   ]
  },
  {
   "cell_type": "code",
   "execution_count": 14,
   "metadata": {},
   "outputs": [],
   "source": [
    "CNN_model.restore_best_layers()"
   ]
  },
  {
   "cell_type": "code",
   "execution_count": 15,
   "metadata": {},
   "outputs": [
    {
     "data": {
      "application/vnd.plotly.v1+json": {
       "config": {
        "plotlyServerURL": "https://plot.ly"
       },
       "data": [
        {
         "name": "accuracy",
         "type": "scatter",
         "y": [
          0.9388633785162784,
          0.058836040347307945,
          0.07638799668588998,
          0.8352091837053803,
          0.08896711788626402,
          0.16543413527422662,
          0.9781031542336467,
          0.2131331966983152,
          0.256443549103107,
          0.38413014218945607,
          0.3813479955238759,
          0.08764424439547708,
          0.6926675085265891,
          0.5440832482315267,
          0.7454406052960967,
          0.762977765095138,
          0.6743173769770877,
          0.9615687702934079,
          0.9373725604714289,
          0.05519610766105135,
          0.1637847083916161,
          0.3120994183875277,
          0.8682533489786759,
          0.41165301180644664,
          0.717589347218201,
          0.3413389816515571,
          0.705566298923108,
          0.6470959470579076,
          0.1970880662780061,
          0.9749190858791553,
          0.04357806862580339,
          0.05466963042764072,
          0.2736229276523291,
          0.16051717540746882,
          0.03930797771279233,
          0.11175400023813446,
          0.8920988324536133,
          0.5221331993757174,
          0.8603550204135566,
          0.5140808865333965,
          0.40497666347726263,
          0.8368295463648973,
          0.5486941360075184,
          0.11174656714885492,
          0.39673270953278256,
          0.5108973743898599,
          0.3714629764279699,
          0.6443815811408682,
          0.8140764891512409,
          0.693135035089107,
          0.8777925585557039,
          0.885546560780374,
          0.7791651685877966,
          0.5715810017821109,
          0.711433363841662,
          0.9788649450314816,
          0.9476438085903529,
          0.5341400286811839,
          0.14534337998847663,
          0.34165858063138443,
          0.025953545558190634,
          0.2080958183795264,
          0.788817272225073,
          0.15486822297804315,
          0.37964943128773976,
          0.6760374707381398,
          0.08333702939354563,
          0.10359631372903619,
          0.29878477606565856,
          0.06257521933638321,
          0.14317703125316505,
          0.7645857680358176,
          0.40220428859078483,
          0.8750860472421809,
          0.3225239737712351,
          0.21627329563800543,
          0.2746775672654604,
          0.7066897083724357,
          0.10220894551658243,
          0.640545365444711,
          0.3820231771805988,
          0.7084215719399302,
          0.8262185188085323,
          0.7551536748032447,
          0.18326548644310264,
          0.10274335343373922,
          0.8898893793409626,
          0.3421502003922564,
          0.31820288957039083,
          0.2948586637464247,
          0.2252760677286759,
          0.20740829302078626,
          0.7051585100220435,
          0.22861425223910722,
          0.5787152820472168,
          0.8512683775742781,
          0.7203537199970843,
          0.4267903368449952,
          0.16175244793221374,
          0.6472669690467586,
          0.5396323137403354,
          0.3205989315614976,
          0.1599505626355945,
          0.7996303534621848,
          0.3456277609674539,
          0.7467299122899352,
          0.9596673095404191,
          0.8842227946997833,
          0.07018928819547286,
          0.016660135517160696,
          0.13206685692740433,
          0.9627128695493894,
          0.9443314679818432,
          0.07866734227504149,
          0.7956944984168941,
          0.5004742165515282,
          0.5704566614427881,
          0.9686592720078949,
          0.7934472537525051,
          0.8324151877854397,
          0.7985110426867216,
          0.966015937488367,
          0.9532292927097291,
          0.8343628733315511,
          0.5026253670552849,
          0.2172872062187536,
          0.8634213329010832,
          0.10292277179555494,
          0.1417089912145836,
          0.47250657227118814,
          0.19838333823692011,
          0.18838353404048988,
          0.14994623283831904,
          0.2349972704548752,
          0.6548192625762514,
          0.8702150376316836,
          0.9218407856295628,
          0.5601476252216618,
          0.6315253678828971,
          0.6485465897105613,
          0.8253990812554204,
          0.3754901058627211,
          0.794294216236384,
          0.5233789844714491,
          0.7246745678252412,
          0.9811930888474059,
          0.7214649917542363,
          0.6831646076736081,
          0.7507323643550965,
          0.7235729325378639,
          0.879831556275627,
          0.6284660074270818,
          0.1122446024782217,
          0.3585614846344456,
          0.929578787865356,
          0.9580007676562156,
          0.22265640198924372,
          0.4925228135043452,
          0.8410654414406171,
          0.9637124686743566,
          0.20373583982844157,
          0.3807435136343972,
          0.8656664126409364,
          0.5399815290172226,
          0.9632652644817595,
          0.7734422185277443,
          0.16589651541983583,
          0.7591872204401565,
          0.6719811825707566,
          0.9883915414564624,
          0.19588965568836175,
          0.9828022762585671,
          0.6278818007016926,
          0.42070437911681713,
          0.9848724373644703,
          0.43161075124866244,
          0.9070817223590945,
          0.9383549996556514,
          0.8275751256276941,
          0.8895793151870349,
          0.27192849429901567,
          0.9970791453176562,
          0.2589117239755448,
          0.4229312371493215,
          0.9408176911870759,
          0.7958852239462899,
          0.6878018179128323,
          0.7526908245413234,
          0.9095095046400287,
          0.06438420178640468,
          0.555087967316665,
          0.06710906589935432,
          0.8821056342374234,
          0.4406041639081219,
          0.6937120092674511,
          0.7626671418685498,
          0.9412353034236107,
          0.7462057999943077,
          0.5000149614319659,
          0.7564352236672516,
          0.8847137333060908,
          0.7271308229925484,
          0.9596187675342182,
          0.9612935494266643,
          0.5029507553625284,
          0.3062505465646112,
          0.39143255011028183,
          0.8423238723209,
          0.8583695360947468,
          0.03382497340350762,
          0.991593784859406,
          0.10120421101356736,
          0.5287983385311664,
          0.8787082128975361,
          0.48087919040964233,
          0.5929736905421825,
          0.8165537227916269,
          0.647097614754427,
          0.8902939276877245,
          0.24625483194136236,
          0.8599004849572689,
          0.3452846255017047,
          0.44486909248553097,
          0.0446027644483375,
          0.8440369596298132,
          0.9415827558328673,
          0.3144707375844148,
          0.9848427823347273,
          0.39979880594835066,
          0.5939470316893446,
          0.7924133969749422,
          0.35934481312952554,
          0.27824168338063493,
          0.9838909143199974,
          0.25507953397262656,
          0.42700256790192886,
          0.1946350753728638,
          0.4499453977342021,
          0.7054598303431792,
          0.5104917279540252,
          0.7986357539728741,
          0.22899989981469765,
          0.34121806790685905,
          0.1671349605788872,
          0.7220039714717876,
          0.12733418530832413,
          0.9216608102272905,
          0.4473094447244696,
          0.7810774571837333,
          0.4968330310822316,
          0.5701262551628689,
          0.9325957820548332,
          0.7581800122915556,
          0.9750833679020352,
          0.8063453875584876,
          0.9016854936751332,
          0.7640226999403614,
          0.570904291718797,
          0.3499602745685378,
          0.4317192595416924,
          0.9661516100351493,
          0.5552371257403139,
          0.6929444292747476,
          0.48839031491800067,
          0.9990837927440404,
          0.6226268143642187,
          0.1043223750039211,
          0.26880885996135845,
          0.9990701880624637,
          0.6981214621932881,
          0.3048424379648871,
          0.7880664123554515,
          0.9079445837475796,
          0.5327238391255934,
          0.09579638953431739,
          0.8062718154740129,
          0.11173348248048949,
          0.8339712668559682,
          0.9360905157244384,
          0.7598677087532252,
          0.9920103362235286,
          0.9693864900595928,
          0.9050280418331066,
          0.8129312507711351,
          0.3847212085126555,
          0.7514101423425229,
          0.17061692590477207,
          0.4621181353531328,
          0.19275393656692288,
          0.9490831869828927,
          0.313279572520758,
          0.6876122637118501,
          0.9660074265659321
         ]
        },
        {
         "name": "val_accuracy",
         "type": "scatter",
         "y": [
          0.4549391461172099,
          0.5075707325956356,
          0.4761492975913314,
          0.47074680322569273,
          0.47651874856708837,
          0.48148684779205536,
          0.4884787822152087,
          0.4431968813450176,
          0.45997644327416076,
          0.46417012303597005,
          0.49897285546816983,
          0.447200937059948,
          0.5200977908611402,
          0.45492444701945156,
          0.5060902227496761,
          0.4994074872745738,
          0.5499457222244438,
          0.570718716742374,
          0.5097042999553354,
          0.5253803377069095,
          0.46463102658730787,
          0.5213908705995612,
          0.5714421560879247,
          0.5683687966203563,
          0.5688425618845374,
          0.5474068105449402,
          0.5219452297531152,
          0.42980262049626833,
          0.4384881279540831,
          0.5098275053700577,
          0.5246848151213371,
          0.5571003716690995,
          0.5708465418644801,
          0.5480407515534755,
          0.5617250744754498,
          0.545198640950885,
          0.5369423799081632,
          0.532124007972179,
          0.5522527954058251,
          0.5475547376321676,
          0.5341270178917598,
          0.534618965848895,
          0.5389602160241742,
          0.5123930140844837,
          0.4893717173324135,
          0.5271541026560638,
          0.5421143176431041,
          0.5584679560163077,
          0.558699926417223,
          0.5839246637188693,
          0.5184384224444096,
          0.5236156378463487,
          0.5740441367122266,
          0.5666841946088221,
          0.5931958501800141,
          0.5754440535338116,
          0.6018739542830669,
          0.575000617817448,
          0.4996227095945814,
          0.5039877125706975,
          0.5011017318684435,
          0.48340746436893356,
          0.5270987348214905,
          0.556503576894476,
          0.560900865205192,
          0.5358138090003436,
          0.5519217791964791,
          0.5647955205873801,
          0.5681922100219893,
          0.5463579951546329,
          0.5460915668771511,
          0.5710034155763033,
          0.5752199889700909,
          0.557598731200208,
          0.57410361964669,
          0.5782874891495628,
          0.5570271863984881,
          0.5642932301078091,
          0.5448917683806545,
          0.5561649367193096,
          0.5883539995541621,
          0.5858194471330076,
          0.611219293265037,
          0.5976462852874332,
          0.5507749934897058,
          0.576670609411635,
          0.5424443912173883,
          0.5557124380284109,
          0.5918967741847482,
          0.5943039442541587,
          0.5760785480648695,
          0.5592944195637555,
          0.5588093135218593,
          0.5704884452821576,
          0.5868191407016209,
          0.570577740187223,
          0.5727977468417073,
          0.5668391184673863,
          0.581375341630462,
          0.5747658370836493,
          0.5950276032345678,
          0.5637277499336122,
          0.5902276502186165,
          0.600270113890089,
          0.6261285914787301,
          0.6443061457837098,
          0.6246462209144292,
          0.6271415835515517,
          0.6230789677411124,
          0.6300702982636088,
          0.6390058673558557,
          0.6392312328352823,
          0.6424816517115648,
          0.6543895753168544,
          0.6174428329067422,
          0.6310963940392276,
          0.6394425074375822,
          0.6480299721743542,
          0.647699953353929,
          0.6408173741249443,
          0.6534528680394004,
          0.6343492201725793,
          0.6229775256319071,
          0.5888220904776582,
          0.5810627276835275,
          0.6278182646944638,
          0.6105549817111887,
          0.6259364167374187,
          0.6043510235671515,
          0.5500901514757903,
          0.5785789634239119,
          0.6023141281210572,
          0.5829819611984606,
          0.577699350182071,
          0.5764880196171491,
          0.6051607273485534,
          0.5869214615385709,
          0.5661380082188754,
          0.5844292202004022,
          0.6060035047576852,
          0.5874612991211733,
          0.6313880920760839,
          0.6505079591739366,
          0.6082184761320155,
          0.625604825801251,
          0.6513700956337465,
          0.654555012725878,
          0.6195439570538847,
          0.6349232388047775,
          0.6500228162657014,
          0.6549386645080807,
          0.6476129514198574,
          0.6423170877157903,
          0.6260688050229449,
          0.6210294113135587,
          0.6335552271055354,
          0.6404933275205618,
          0.6248950144350468,
          0.62459566216018,
          0.6266866430628639,
          0.6387437875736224,
          0.6339016168277788,
          0.6363842740152957,
          0.631429023219899,
          0.6288591652733223,
          0.6321968997298272,
          0.6370993606402006,
          0.6263611374904904,
          0.6201952068580754,
          0.6334831693411538,
          0.6562470348914585,
          0.6408835877085716,
          0.6490720497677458,
          0.6554013307198854,
          0.6412515737492944,
          0.637784874721627,
          0.6312640945574188,
          0.6658041148500978,
          0.6630558707364974,
          0.6823959696889654,
          0.64633436151437,
          0.6333799973231046,
          0.6405248568858719,
          0.6590157199144434,
          0.6537305952001118,
          0.6537972754658635,
          0.6406492770064809,
          0.609881290488959,
          0.6315591884431246,
          0.6390027477739018,
          0.6285107884919549,
          0.6425749910496941,
          0.6335967124931113,
          0.6319128555531105,
          0.6315825480564827,
          0.6250963206956288,
          0.6114394907558919,
          0.6323385818899442,
          0.6121553326474315,
          0.6254167528754482,
          0.639173032325507,
          0.6237649655397953,
          0.6242516251411927,
          0.6214872032107664,
          0.6152938704632442,
          0.6145222498777155,
          0.637887699685159,
          0.6540184344027242,
          0.6571685333104973,
          0.6533911506599545,
          0.6667194040667079,
          0.641904018346368,
          0.6546402447276976,
          0.6487742416656592,
          0.6375611928824958,
          0.6427785068138754,
          0.6284836731686124,
          0.623538870052088,
          0.614304884609132,
          0.6241815584877446,
          0.6280509113881603,
          0.6138585799430436,
          0.6185091000151226,
          0.6189431731765727,
          0.5965894576424585,
          0.6018002379748404,
          0.6347414390774547,
          0.6188566373559129,
          0.6112824848810978,
          0.6237835850170067,
          0.6200186316333215,
          0.62332254308987,
          0.6419886693259901,
          0.6383830852980481,
          0.6196623537456892,
          0.6140253831190248,
          0.5888610010104212,
          0.6122340588704369,
          0.6311482837045685,
          0.6091892074955825,
          0.6109975766389487,
          0.6079204634303419,
          0.6186795159847991,
          0.59981351681407,
          0.604740129909954,
          0.5919040370858336,
          0.5980808743654923,
          0.6143473553221812,
          0.6050887673259014,
          0.6175746167962811,
          0.6345001977154519,
          0.638554231433596,
          0.6087365536604292,
          0.6117358224393468,
          0.5989149682929596,
          0.6184026042093651,
          0.6272191096075287,
          0.6373538966512261,
          0.6400875051264958,
          0.6419889111537457,
          0.6539870688121707,
          0.6652958680091187,
          0.6667023474757136,
          0.6701916472076995,
          0.6672787355292411,
          0.652474664717324,
          0.6504855331109184,
          0.6690729771374083,
          0.6744387131151672,
          0.667589107418526,
          0.6510976526171623,
          0.6618965028736942,
          0.652462668230435,
          0.6391443394927772,
          0.634833994376167,
          0.6361460307765676,
          0.6035636401743949,
          0.6372142716041738,
          0.6349990438853896,
          0.6104308012186874,
          0.5966052842548952,
          0.6159719463267476,
          0.6186560709215868,
          0.615841901566552,
          0.625709322993622,
          0.614403270721124,
          0.609695089605576,
          0.6250905891938272,
          0.6332002289379841,
          0.6325491251097121,
          0.6362186704953059,
          0.6266481579378308
         ]
        }
       ],
       "layout": {
        "height": 1000,
        "legend": {
         "bgcolor": "rgba(0,0,0,0)",
         "font": {
          "size": 20
         },
         "x": 0.02,
         "y": 0.98
        },
        "margin": {
         "r": 40
        },
        "template": {
         "data": {
          "bar": [
           {
            "error_x": {
             "color": "#2a3f5f"
            },
            "error_y": {
             "color": "#2a3f5f"
            },
            "marker": {
             "line": {
              "color": "#E5ECF6",
              "width": 0.5
             },
             "pattern": {
              "fillmode": "overlay",
              "size": 10,
              "solidity": 0.2
             }
            },
            "type": "bar"
           }
          ],
          "barpolar": [
           {
            "marker": {
             "line": {
              "color": "#E5ECF6",
              "width": 0.5
             },
             "pattern": {
              "fillmode": "overlay",
              "size": 10,
              "solidity": 0.2
             }
            },
            "type": "barpolar"
           }
          ],
          "carpet": [
           {
            "aaxis": {
             "endlinecolor": "#2a3f5f",
             "gridcolor": "white",
             "linecolor": "white",
             "minorgridcolor": "white",
             "startlinecolor": "#2a3f5f"
            },
            "baxis": {
             "endlinecolor": "#2a3f5f",
             "gridcolor": "white",
             "linecolor": "white",
             "minorgridcolor": "white",
             "startlinecolor": "#2a3f5f"
            },
            "type": "carpet"
           }
          ],
          "choropleth": [
           {
            "colorbar": {
             "outlinewidth": 0,
             "ticks": ""
            },
            "type": "choropleth"
           }
          ],
          "contour": [
           {
            "colorbar": {
             "outlinewidth": 0,
             "ticks": ""
            },
            "colorscale": [
             [
              0,
              "#0d0887"
             ],
             [
              0.1111111111111111,
              "#46039f"
             ],
             [
              0.2222222222222222,
              "#7201a8"
             ],
             [
              0.3333333333333333,
              "#9c179e"
             ],
             [
              0.4444444444444444,
              "#bd3786"
             ],
             [
              0.5555555555555556,
              "#d8576b"
             ],
             [
              0.6666666666666666,
              "#ed7953"
             ],
             [
              0.7777777777777778,
              "#fb9f3a"
             ],
             [
              0.8888888888888888,
              "#fdca26"
             ],
             [
              1,
              "#f0f921"
             ]
            ],
            "type": "contour"
           }
          ],
          "contourcarpet": [
           {
            "colorbar": {
             "outlinewidth": 0,
             "ticks": ""
            },
            "type": "contourcarpet"
           }
          ],
          "heatmap": [
           {
            "colorbar": {
             "outlinewidth": 0,
             "ticks": ""
            },
            "colorscale": [
             [
              0,
              "#0d0887"
             ],
             [
              0.1111111111111111,
              "#46039f"
             ],
             [
              0.2222222222222222,
              "#7201a8"
             ],
             [
              0.3333333333333333,
              "#9c179e"
             ],
             [
              0.4444444444444444,
              "#bd3786"
             ],
             [
              0.5555555555555556,
              "#d8576b"
             ],
             [
              0.6666666666666666,
              "#ed7953"
             ],
             [
              0.7777777777777778,
              "#fb9f3a"
             ],
             [
              0.8888888888888888,
              "#fdca26"
             ],
             [
              1,
              "#f0f921"
             ]
            ],
            "type": "heatmap"
           }
          ],
          "heatmapgl": [
           {
            "colorbar": {
             "outlinewidth": 0,
             "ticks": ""
            },
            "colorscale": [
             [
              0,
              "#0d0887"
             ],
             [
              0.1111111111111111,
              "#46039f"
             ],
             [
              0.2222222222222222,
              "#7201a8"
             ],
             [
              0.3333333333333333,
              "#9c179e"
             ],
             [
              0.4444444444444444,
              "#bd3786"
             ],
             [
              0.5555555555555556,
              "#d8576b"
             ],
             [
              0.6666666666666666,
              "#ed7953"
             ],
             [
              0.7777777777777778,
              "#fb9f3a"
             ],
             [
              0.8888888888888888,
              "#fdca26"
             ],
             [
              1,
              "#f0f921"
             ]
            ],
            "type": "heatmapgl"
           }
          ],
          "histogram": [
           {
            "marker": {
             "pattern": {
              "fillmode": "overlay",
              "size": 10,
              "solidity": 0.2
             }
            },
            "type": "histogram"
           }
          ],
          "histogram2d": [
           {
            "colorbar": {
             "outlinewidth": 0,
             "ticks": ""
            },
            "colorscale": [
             [
              0,
              "#0d0887"
             ],
             [
              0.1111111111111111,
              "#46039f"
             ],
             [
              0.2222222222222222,
              "#7201a8"
             ],
             [
              0.3333333333333333,
              "#9c179e"
             ],
             [
              0.4444444444444444,
              "#bd3786"
             ],
             [
              0.5555555555555556,
              "#d8576b"
             ],
             [
              0.6666666666666666,
              "#ed7953"
             ],
             [
              0.7777777777777778,
              "#fb9f3a"
             ],
             [
              0.8888888888888888,
              "#fdca26"
             ],
             [
              1,
              "#f0f921"
             ]
            ],
            "type": "histogram2d"
           }
          ],
          "histogram2dcontour": [
           {
            "colorbar": {
             "outlinewidth": 0,
             "ticks": ""
            },
            "colorscale": [
             [
              0,
              "#0d0887"
             ],
             [
              0.1111111111111111,
              "#46039f"
             ],
             [
              0.2222222222222222,
              "#7201a8"
             ],
             [
              0.3333333333333333,
              "#9c179e"
             ],
             [
              0.4444444444444444,
              "#bd3786"
             ],
             [
              0.5555555555555556,
              "#d8576b"
             ],
             [
              0.6666666666666666,
              "#ed7953"
             ],
             [
              0.7777777777777778,
              "#fb9f3a"
             ],
             [
              0.8888888888888888,
              "#fdca26"
             ],
             [
              1,
              "#f0f921"
             ]
            ],
            "type": "histogram2dcontour"
           }
          ],
          "mesh3d": [
           {
            "colorbar": {
             "outlinewidth": 0,
             "ticks": ""
            },
            "type": "mesh3d"
           }
          ],
          "parcoords": [
           {
            "line": {
             "colorbar": {
              "outlinewidth": 0,
              "ticks": ""
             }
            },
            "type": "parcoords"
           }
          ],
          "pie": [
           {
            "automargin": true,
            "type": "pie"
           }
          ],
          "scatter": [
           {
            "fillpattern": {
             "fillmode": "overlay",
             "size": 10,
             "solidity": 0.2
            },
            "type": "scatter"
           }
          ],
          "scatter3d": [
           {
            "line": {
             "colorbar": {
              "outlinewidth": 0,
              "ticks": ""
             }
            },
            "marker": {
             "colorbar": {
              "outlinewidth": 0,
              "ticks": ""
             }
            },
            "type": "scatter3d"
           }
          ],
          "scattercarpet": [
           {
            "marker": {
             "colorbar": {
              "outlinewidth": 0,
              "ticks": ""
             }
            },
            "type": "scattercarpet"
           }
          ],
          "scattergeo": [
           {
            "marker": {
             "colorbar": {
              "outlinewidth": 0,
              "ticks": ""
             }
            },
            "type": "scattergeo"
           }
          ],
          "scattergl": [
           {
            "marker": {
             "colorbar": {
              "outlinewidth": 0,
              "ticks": ""
             }
            },
            "type": "scattergl"
           }
          ],
          "scattermapbox": [
           {
            "marker": {
             "colorbar": {
              "outlinewidth": 0,
              "ticks": ""
             }
            },
            "type": "scattermapbox"
           }
          ],
          "scatterpolar": [
           {
            "marker": {
             "colorbar": {
              "outlinewidth": 0,
              "ticks": ""
             }
            },
            "type": "scatterpolar"
           }
          ],
          "scatterpolargl": [
           {
            "marker": {
             "colorbar": {
              "outlinewidth": 0,
              "ticks": ""
             }
            },
            "type": "scatterpolargl"
           }
          ],
          "scatterternary": [
           {
            "marker": {
             "colorbar": {
              "outlinewidth": 0,
              "ticks": ""
             }
            },
            "type": "scatterternary"
           }
          ],
          "surface": [
           {
            "colorbar": {
             "outlinewidth": 0,
             "ticks": ""
            },
            "colorscale": [
             [
              0,
              "#0d0887"
             ],
             [
              0.1111111111111111,
              "#46039f"
             ],
             [
              0.2222222222222222,
              "#7201a8"
             ],
             [
              0.3333333333333333,
              "#9c179e"
             ],
             [
              0.4444444444444444,
              "#bd3786"
             ],
             [
              0.5555555555555556,
              "#d8576b"
             ],
             [
              0.6666666666666666,
              "#ed7953"
             ],
             [
              0.7777777777777778,
              "#fb9f3a"
             ],
             [
              0.8888888888888888,
              "#fdca26"
             ],
             [
              1,
              "#f0f921"
             ]
            ],
            "type": "surface"
           }
          ],
          "table": [
           {
            "cells": {
             "fill": {
              "color": "#EBF0F8"
             },
             "line": {
              "color": "white"
             }
            },
            "header": {
             "fill": {
              "color": "#C8D4E3"
             },
             "line": {
              "color": "white"
             }
            },
            "type": "table"
           }
          ]
         },
         "layout": {
          "annotationdefaults": {
           "arrowcolor": "#2a3f5f",
           "arrowhead": 0,
           "arrowwidth": 1
          },
          "autotypenumbers": "strict",
          "coloraxis": {
           "colorbar": {
            "outlinewidth": 0,
            "ticks": ""
           }
          },
          "colorscale": {
           "diverging": [
            [
             0,
             "#8e0152"
            ],
            [
             0.1,
             "#c51b7d"
            ],
            [
             0.2,
             "#de77ae"
            ],
            [
             0.3,
             "#f1b6da"
            ],
            [
             0.4,
             "#fde0ef"
            ],
            [
             0.5,
             "#f7f7f7"
            ],
            [
             0.6,
             "#e6f5d0"
            ],
            [
             0.7,
             "#b8e186"
            ],
            [
             0.8,
             "#7fbc41"
            ],
            [
             0.9,
             "#4d9221"
            ],
            [
             1,
             "#276419"
            ]
           ],
           "sequential": [
            [
             0,
             "#0d0887"
            ],
            [
             0.1111111111111111,
             "#46039f"
            ],
            [
             0.2222222222222222,
             "#7201a8"
            ],
            [
             0.3333333333333333,
             "#9c179e"
            ],
            [
             0.4444444444444444,
             "#bd3786"
            ],
            [
             0.5555555555555556,
             "#d8576b"
            ],
            [
             0.6666666666666666,
             "#ed7953"
            ],
            [
             0.7777777777777778,
             "#fb9f3a"
            ],
            [
             0.8888888888888888,
             "#fdca26"
            ],
            [
             1,
             "#f0f921"
            ]
           ],
           "sequentialminus": [
            [
             0,
             "#0d0887"
            ],
            [
             0.1111111111111111,
             "#46039f"
            ],
            [
             0.2222222222222222,
             "#7201a8"
            ],
            [
             0.3333333333333333,
             "#9c179e"
            ],
            [
             0.4444444444444444,
             "#bd3786"
            ],
            [
             0.5555555555555556,
             "#d8576b"
            ],
            [
             0.6666666666666666,
             "#ed7953"
            ],
            [
             0.7777777777777778,
             "#fb9f3a"
            ],
            [
             0.8888888888888888,
             "#fdca26"
            ],
            [
             1,
             "#f0f921"
            ]
           ]
          },
          "colorway": [
           "#636efa",
           "#EF553B",
           "#00cc96",
           "#ab63fa",
           "#FFA15A",
           "#19d3f3",
           "#FF6692",
           "#B6E880",
           "#FF97FF",
           "#FECB52"
          ],
          "font": {
           "color": "#2a3f5f"
          },
          "geo": {
           "bgcolor": "white",
           "lakecolor": "white",
           "landcolor": "#E5ECF6",
           "showlakes": true,
           "showland": true,
           "subunitcolor": "white"
          },
          "hoverlabel": {
           "align": "left"
          },
          "hovermode": "closest",
          "mapbox": {
           "style": "light"
          },
          "paper_bgcolor": "white",
          "plot_bgcolor": "#E5ECF6",
          "polar": {
           "angularaxis": {
            "gridcolor": "white",
            "linecolor": "white",
            "ticks": ""
           },
           "bgcolor": "#E5ECF6",
           "radialaxis": {
            "gridcolor": "white",
            "linecolor": "white",
            "ticks": ""
           }
          },
          "scene": {
           "xaxis": {
            "backgroundcolor": "#E5ECF6",
            "gridcolor": "white",
            "gridwidth": 2,
            "linecolor": "white",
            "showbackground": true,
            "ticks": "",
            "zerolinecolor": "white"
           },
           "yaxis": {
            "backgroundcolor": "#E5ECF6",
            "gridcolor": "white",
            "gridwidth": 2,
            "linecolor": "white",
            "showbackground": true,
            "ticks": "",
            "zerolinecolor": "white"
           },
           "zaxis": {
            "backgroundcolor": "#E5ECF6",
            "gridcolor": "white",
            "gridwidth": 2,
            "linecolor": "white",
            "showbackground": true,
            "ticks": "",
            "zerolinecolor": "white"
           }
          },
          "shapedefaults": {
           "line": {
            "color": "#2a3f5f"
           }
          },
          "ternary": {
           "aaxis": {
            "gridcolor": "white",
            "linecolor": "white",
            "ticks": ""
           },
           "baxis": {
            "gridcolor": "white",
            "linecolor": "white",
            "ticks": ""
           },
           "bgcolor": "#E5ECF6",
           "caxis": {
            "gridcolor": "white",
            "linecolor": "white",
            "ticks": ""
           }
          },
          "title": {
           "x": 0.05
          },
          "xaxis": {
           "automargin": true,
           "gridcolor": "white",
           "linecolor": "white",
           "ticks": "",
           "title": {
            "standoff": 15
           },
           "zerolinecolor": "white",
           "zerolinewidth": 2
          },
          "yaxis": {
           "automargin": true,
           "gridcolor": "white",
           "linecolor": "white",
           "ticks": "",
           "title": {
            "standoff": 15
           },
           "zerolinecolor": "white",
           "zerolinewidth": 2
          }
         }
        },
        "title": {
         "font": {
          "size": 30
         },
         "text": "accuracy per epoch",
         "x": 0.5
        },
        "xaxis": {
         "title": {
          "font": {
           "size": 20
          },
          "text": "epoch"
         }
        },
        "yaxis": {
         "title": {
          "font": {
           "size": 20
          },
          "text": "accuracy"
         }
        }
       }
      }
     },
     "metadata": {},
     "output_type": "display_data"
    }
   ],
   "source": [
    "data = [go.Scatter(y = CNN_model.history['accuracy'][0], name = 'accuracy'),\n",
    "        go.Scatter(y = CNN_model.history['val_accuracy'][0], name = 'val_accuracy')]\n",
    "\n",
    "layout = go.Layout(\n",
    "    height = 1000,\n",
    "    title = dict(\n",
    "        text = 'accuracy per epoch',\n",
    "        font_size = 30,\n",
    "        x = .5\n",
    "    ),\n",
    "    xaxis_title = dict(\n",
    "        text = 'epoch',\n",
    "        font_size = 20\n",
    "    ),\n",
    "    yaxis_title = dict(\n",
    "        text = 'accuracy',\n",
    "        font_size = 20\n",
    "    ),\n",
    "    legend = dict(\n",
    "        x = 0.02, y = .98,\n",
    "        bgcolor = 'rgba(0,0,0,0)',\n",
    "        font_size = 20\n",
    "    ),\n",
    "    margin={'r':40}\n",
    ")\n",
    "go.Figure(data, layout)"
   ]
  },
  {
   "cell_type": "code",
   "execution_count": 16,
   "metadata": {},
   "outputs": [
    {
     "data": {
      "application/vnd.plotly.v1+json": {
       "config": {
        "plotlyServerURL": "https://plot.ly"
       },
       "data": [
        {
         "name": "loss",
         "type": "scatter",
         "y": [
          0.06308530714733447,
          2.8330006807664216,
          2.571929706594188,
          0.18007306609838739,
          2.419488439469969,
          1.7991821375516153,
          0.022140139832851954,
          1.545837972102369,
          1.3608467200621617,
          0.9567738718603845,
          0.9640429466493043,
          2.4344693355385023,
          0.36720518060212676,
          0.6086530139967004,
          0.2937798189155675,
          0.27052638954413694,
          0.39405439317903845,
          0.03918919254491665,
          0.06467446587478073,
          2.896862841572024,
          1.8092024672835902,
          1.164433493252389,
          0.14127173020596154,
          0.8875744888392352,
          0.33185781336139425,
          1.074879214380411,
          0.34875453772739295,
          0.43526070017774016,
          1.624104613191201,
          0.025400800269946323,
          3.1332012683503603,
          2.9064469261558665,
          1.2960042968458934,
          1.8293543302528887,
          3.2363277854712207,
          2.1914552498147293,
          0.11417835382503877,
          0.6498325524322868,
          0.15041016048465133,
          0.6653746591113362,
          0.90392583457955,
          0.17813487754135565,
          0.6002141220391616,
          2.1915217649862044,
          0.9244925007829026,
          0.6715865418446152,
          0.9903060794731292,
          0.4394642110473649,
          0.20570095037795386,
          0.36653044294572773,
          0.13034497914408708,
          0.12155024179730341,
          0.24953222915732154,
          0.5593490703890159,
          0.34047352171781936,
          0.021361597927544978,
          0.053776576666138505,
          0.6270972484024426,
          1.9286561983293897,
          1.0739433428025214,
          3.6514470483298838,
          1.5697566400683123,
          0.2372205790963835,
          1.865180698001261,
          0.9685070013149559,
          0.39150677438935777,
          2.4848622980490056,
          2.2672535315558604,
          1.2080317772702829,
          2.771385936494522,
          1.9436734335972305,
          0.2684210715004134,
          0.9107951388690435,
          0.13343305775420491,
          1.1315778082340406,
          1.531212413478456,
          1.2921573518821754,
          0.34716359432834976,
          2.2807360755265553,
          0.44543533198069385,
          0.9622739989684681,
          0.3447159218997059,
          0.19089598983284614,
          0.28083400765938016,
          1.6968194318647052,
          2.2755211144743335,
          0.11665811685627403,
          1.0725054558984113,
          1.1450660821316534,
          1.2212591433945648,
          1.4904286612044138,
          1.5730659983506936,
          0.34933266453119854,
          1.4757191838119674,
          0.5469446632044181,
          0.16102783282425354,
          0.32801290983572395,
          0.8514624007550963,
          1.8216882116679562,
          0.4349964435496827,
          0.6168672718226912,
          1.137564371433892,
          1.8328904950210898,
          0.2236057162682502,
          1.0623929184048473,
          0.29205172242860433,
          0.04116860714553479,
          0.12304621789539534,
          2.65655956940146,
          4.094736507993169,
          2.024446992745206,
          0.038000074104969146,
          0.05727804313211896,
          2.5425271744194626,
          0.22853996276494845,
          0.6921991969353866,
          0.5613180784853038,
          0.031842357401983525,
          0.23136821412678937,
          0.18342393885131114,
          0.2250064821343761,
          0.03457494647055421,
          0.04789980331310767,
          0.181086871333985,
          0.687910183488348,
          1.5265352695747245,
          0.14685248814991816,
          2.2737763603770738,
          1.9539796818314565,
          0.7497036225764246,
          1.6175540683186227,
          1.6692753195952126,
          1.8974784968881697,
          1.4481813799910712,
          0.4233960164220408,
          0.139014928183313,
          0.08138275403604554,
          0.5795549135264044,
          0.459617167162476,
          0.43302143553853556,
          0.19188827475438852,
          0.9795231573588602,
          0.23030133695538055,
          0.6474494416382301,
          0.3220325968658247,
          0.01898601019435179,
          0.3264714234225664,
          0.3810194416060663,
          0.28670606309711044,
          0.32355393282473444,
          0.1280248031549042,
          0.4644733376538231,
          2.1870748383424186,
          1.025655128391334,
          0.07302371170620166,
          0.04290669970030783,
          1.5021254940268876,
          0.7082144976065827,
          0.17308580819512923,
          0.03696229787264326,
          1.590931027050767,
          0.965629323111931,
          0.14425564943274388,
          0.616220345532501,
          0.03742644874779969,
          0.25690431308089645,
          1.7963910861061718,
          0.2755068647572875,
          0.39752494097790475,
          0.011676362718482505,
          1.6302037594668568,
          0.01734732224238704,
          0.4654033456718523,
          0.8658248793197576,
          0.015243151410308197,
          0.8402311356937165,
          0.09752273109671537,
          0.06362693712386433,
          0.18925538959470978,
          0.11700660756928193,
          1.3022161358539668,
          0.002925128702939121,
          1.3512681094509884,
          0.8605456730808387,
          0.06100589760654386,
          0.22830029455652776,
          0.3742545379039626,
          0.2841007270766338,
          0.09484983067721425,
          2.7428869898419035,
          0.5886286781257815,
          2.701436133857535,
          0.12544346343770865,
          0.8196083941181012,
          0.36569837683724055,
          0.27093359207136014,
          0.06056211388251005,
          0.2927538455178255,
          0.6931172581436935,
          0.2791383757685145,
          0.12249115149121431,
          0.3186488685418492,
          0.04121919054400898,
          0.03947545419329414,
          0.6872630155388587,
          1.1833517324240217,
          0.9379420641916743,
          0.17159069223541978,
          0.15272057746741374,
          3.386555891222487,
          0.008441746630774577,
          2.290614912188476,
          0.6371481324103256,
          0.1293023898783653,
          0.7321392038126994,
          0.5226052476765983,
          0.2026625722981081,
          0.43525812297975597,
          0.11620361494949992,
          1.4013883770255466,
          0.15093861159606636,
          1.0633862006232033,
          0.8099752142834296,
          3.1099594387304137,
          0.1695589943143948,
          0.06019303689018727,
          1.15686425141722,
          0.01527326239229037,
          0.9167938435427319,
          0.5209651358357333,
          0.2326720574670632,
          1.0234728692068493,
          1.2792651782915514,
          0.01624024750614145,
          1.3661798845218904,
          0.850965251949748,
          1.636628882035008,
          0.7986290419483068,
          0.3489054471654573,
          0.6723808453205997,
          0.2248503145401802,
          1.4740337129183965,
          1.0752335107605921,
          1.7889536457615207,
          0.3257246394509939,
          2.0609402681629865,
          0.08157800789777107,
          0.8045046537998549,
          0.247080957128361,
          0.6995012628874249,
          0.5618974423953729,
          0.06978341739872214,
          0.27683443830020266,
          0.025232306099131314,
          0.21524310772018648,
          0.10348949635645253,
          0.2691577782931844,
          0.5605336985786329,
          1.0499356321731792,
          0.8399797641619845,
          0.03443451087822772,
          0.5883600028963754,
          0.3668054716442422,
          0.7166403671674328,
          0.0009166272303695775,
          0.473807953536772,
          2.2602694145376305,
          1.3137547097105817,
          0.0009302444807992445,
          0.3593621767549849,
          1.1879602326932799,
          0.23817291303668933,
          0.0965719333583185,
          0.6297521145576049,
          2.3455302822487365,
          0.2153343532859505,
          2.19163886419396,
          0.1815563294279506,
          0.06604310234635435,
          0.27461092828322053,
          0.008021752171377714,
          0.031091892062039526,
          0.09978935031130359,
          0.20710873540705527,
          0.9552363407391871,
          0.28580364800613167,
          1.7683344348672054,
          0.7719347163595921,
          1.6463408435725513,
          0.05225882669768481,
          1.1606592841686356,
          0.37453017010042583,
          0.03458375684271981
         ]
        },
        {
         "name": "val_loss",
         "type": "scatter",
         "y": [
          1.1645913658565168,
          1.0079566824119426,
          1.0577198681128355,
          0.9893765095472914,
          1.0356150192596258,
          0.938539216788588,
          0.9243477329830521,
          0.9915485844550044,
          1.0201965299094262,
          1.017550130044899,
          0.96075328242696,
          0.9791987430856168,
          0.8469731392184279,
          1.0101387570830385,
          0.9391118005480842,
          0.9022543033096067,
          0.9188074730390822,
          0.7853269537493673,
          0.9026022889156451,
          0.9384938665943514,
          0.9866537822572617,
          0.8898674223831472,
          0.8121826815564487,
          0.782924718716705,
          0.8605842430375851,
          0.8789437579782774,
          1.006790658456679,
          1.0693303359555215,
          1.076148967153831,
          0.9500278807335213,
          0.892839135302616,
          0.8554531576640533,
          0.8477709539919389,
          0.959170496568521,
          0.8143955700287354,
          0.8474471228454881,
          0.9066768593069044,
          0.8715645931442806,
          0.8297699529171506,
          0.8947869181803164,
          0.8853078734902955,
          0.8290774458218703,
          0.8280751415792927,
          0.8769166386288982,
          0.9547608912009362,
          0.9064035204350029,
          0.8565581808440069,
          0.8267766667510595,
          0.8767360581442588,
          0.7653912210758963,
          0.9468636044204981,
          0.9572655674060534,
          0.759184839445764,
          0.7966474025216609,
          0.7609937987873131,
          0.8004867802078268,
          0.8836791014529419,
          0.8718211002624329,
          0.9748973518775017,
          0.9921069738198547,
          0.9975593886206909,
          0.9500464980507518,
          0.864980528875107,
          0.7900041122682935,
          0.7508744731126584,
          0.7962853688676411,
          0.7896762134434633,
          0.7602945917756981,
          0.7595908809492015,
          0.7855108276479359,
          0.7647955216894458,
          0.7547406450510011,
          0.7732850196996212,
          0.8049490168432141,
          0.723283049204774,
          0.7958941042517295,
          0.806521213790249,
          0.7561394599181197,
          0.7644927356173724,
          0.7444888282473704,
          0.7243267628173254,
          0.7113777184599612,
          0.685416685860901,
          0.7336822739377216,
          0.7815207677873938,
          0.7558771233401756,
          0.8975375615673381,
          0.9364523263356029,
          0.7579772803878535,
          0.7306272834518179,
          0.7308561597955425,
          0.8413611325807718,
          0.7798975398946887,
          0.7551880450876565,
          0.7578370990977453,
          0.789117465965526,
          0.7640411105823456,
          0.788877525275713,
          0.7524776979261812,
          0.803917217650158,
          0.7816817155289321,
          0.8719050164752599,
          0.7745262702968335,
          0.7177147798456949,
          0.7189241085168041,
          0.6869848258929783,
          0.7244892495832057,
          0.7004318211883205,
          0.7610937786852924,
          0.8161875895273536,
          0.735564093879071,
          0.7066137998648732,
          0.7099203188780182,
          0.7260811703223561,
          0.7541867973086607,
          0.7351348900826841,
          0.7177750418697562,
          0.6525039829894541,
          0.6798955558126454,
          0.7069130266380032,
          0.6378986313660288,
          0.7185316856223563,
          0.711173137541857,
          0.8455317428258206,
          0.9188556792799917,
          0.6961762791046169,
          0.7049121304637931,
          0.7022553790658671,
          0.7140022140384739,
          0.8153546050695281,
          0.751246992890122,
          0.7587881654449231,
          0.7466196679335503,
          0.7346788120703579,
          0.7359865219942694,
          0.6724531132378384,
          0.7451963112410561,
          0.7654395641356465,
          0.7460116697882804,
          0.7239650306690012,
          0.7121714330624448,
          0.6459871193644945,
          0.6574520943986005,
          0.6820690080639916,
          0.6707148127244803,
          0.6740906992530288,
          0.6850802602435488,
          0.7638971415527491,
          0.6767279941225164,
          0.6549296474685554,
          0.6539200040170501,
          0.651624252660947,
          0.6673388900458418,
          0.6865625197058177,
          0.7151306732763678,
          0.6777760064266627,
          0.6579980202044482,
          0.6776739268073422,
          0.6910614813216954,
          0.69521425601225,
          0.677179040613067,
          0.6830559944289982,
          0.6877452157375906,
          0.6698554800637152,
          0.6707170604897786,
          0.6683369657245145,
          0.7010962847900936,
          0.7686547386927268,
          0.6984877039009011,
          0.6917316218625925,
          0.640066995573153,
          0.7299095795436155,
          0.6872634115551588,
          0.6570959990297277,
          0.6715238975357075,
          0.7413513241204441,
          0.7004351073243773,
          0.615970905986414,
          0.6280233514594309,
          0.613924841559181,
          0.6587570512859127,
          0.7124040999305479,
          0.6938225180357626,
          0.6539868771945209,
          0.6420007115309699,
          0.6607934338578733,
          0.659707367188399,
          0.7559603748299564,
          0.7143825985028313,
          0.6780087028652287,
          0.6739877484554072,
          0.6856280127449947,
          0.6771656794946296,
          0.6902452977893659,
          0.6901754665814586,
          0.7044299830239713,
          0.7091959887138479,
          0.6796571975700577,
          0.7036217962805287,
          0.6593408994405527,
          0.6499529054884501,
          0.6626819231202006,
          0.6679683009332179,
          0.6862311388433467,
          0.7024969532568063,
          0.7039662924070099,
          0.648141322748665,
          0.6582924767472563,
          0.6334404521342896,
          0.6391445474571035,
          0.6182593832704437,
          0.6771015212202331,
          0.6507105064826105,
          0.6511952410302516,
          0.70161412760917,
          0.669957963797481,
          0.702941528511683,
          0.7044652572042532,
          0.7088008536326009,
          0.6874420080860779,
          0.6723912291317116,
          0.7042330087020229,
          0.7090401024667055,
          0.7020664578724813,
          0.7357085614546668,
          0.75379898248855,
          0.7047671532948638,
          0.7023700579738625,
          0.6863987529622834,
          0.651144966904132,
          0.6603611884033426,
          0.6649286349722495,
          0.6536811000128724,
          0.6788822443795819,
          0.6911417168279933,
          0.6967436217699857,
          0.7949452010823387,
          0.6831658951685585,
          0.6508205390502833,
          0.6976442876403891,
          0.7049262216213161,
          0.6868890442850434,
          0.6632988180725516,
          0.6903010462759869,
          0.6876725239162557,
          0.7112448669879705,
          0.7107885429539329,
          0.6932747975700696,
          0.7114218826489802,
          0.6894999570405855,
          0.693632124502103,
          0.6749910511401426,
          0.6854421915936942,
          0.6811114257378196,
          0.7254502607471054,
          0.6778222027205779,
          0.6688998566071854,
          0.6631385488624681,
          0.6541447218819486,
          0.6338394419328381,
          0.6081987329848754,
          0.608788859366789,
          0.615948032479181,
          0.6192723832709806,
          0.600478463416325,
          0.6281066839797028,
          0.6428284251961015,
          0.6289541744139925,
          0.5911180015397046,
          0.6175314412111875,
          0.6550792524532549,
          0.6632709471534082,
          0.6774121388123274,
          0.7129076024845828,
          0.6947716666252696,
          0.6972771372980339,
          0.7781718492879632,
          0.7034686284336265,
          0.6784283650393851,
          0.7110773836434272,
          0.7227464798882869,
          0.6897295022716462,
          0.6930950675895947,
          0.6973309930500106,
          0.6768174228027993,
          0.7057876907136602,
          0.725950081984733,
          0.6831564508431032,
          0.6764164951106518,
          0.6737218508117497,
          0.6901463805649438,
          0.7214277173855438
         ]
        }
       ],
       "layout": {
        "height": 1000,
        "legend": {
         "bgcolor": "rgba(0,0,0,0)",
         "font": {
          "size": 20
         },
         "x": 0.02,
         "y": 0.98
        },
        "margin": {
         "r": 0
        },
        "template": {
         "data": {
          "bar": [
           {
            "error_x": {
             "color": "#2a3f5f"
            },
            "error_y": {
             "color": "#2a3f5f"
            },
            "marker": {
             "line": {
              "color": "#E5ECF6",
              "width": 0.5
             },
             "pattern": {
              "fillmode": "overlay",
              "size": 10,
              "solidity": 0.2
             }
            },
            "type": "bar"
           }
          ],
          "barpolar": [
           {
            "marker": {
             "line": {
              "color": "#E5ECF6",
              "width": 0.5
             },
             "pattern": {
              "fillmode": "overlay",
              "size": 10,
              "solidity": 0.2
             }
            },
            "type": "barpolar"
           }
          ],
          "carpet": [
           {
            "aaxis": {
             "endlinecolor": "#2a3f5f",
             "gridcolor": "white",
             "linecolor": "white",
             "minorgridcolor": "white",
             "startlinecolor": "#2a3f5f"
            },
            "baxis": {
             "endlinecolor": "#2a3f5f",
             "gridcolor": "white",
             "linecolor": "white",
             "minorgridcolor": "white",
             "startlinecolor": "#2a3f5f"
            },
            "type": "carpet"
           }
          ],
          "choropleth": [
           {
            "colorbar": {
             "outlinewidth": 0,
             "ticks": ""
            },
            "type": "choropleth"
           }
          ],
          "contour": [
           {
            "colorbar": {
             "outlinewidth": 0,
             "ticks": ""
            },
            "colorscale": [
             [
              0,
              "#0d0887"
             ],
             [
              0.1111111111111111,
              "#46039f"
             ],
             [
              0.2222222222222222,
              "#7201a8"
             ],
             [
              0.3333333333333333,
              "#9c179e"
             ],
             [
              0.4444444444444444,
              "#bd3786"
             ],
             [
              0.5555555555555556,
              "#d8576b"
             ],
             [
              0.6666666666666666,
              "#ed7953"
             ],
             [
              0.7777777777777778,
              "#fb9f3a"
             ],
             [
              0.8888888888888888,
              "#fdca26"
             ],
             [
              1,
              "#f0f921"
             ]
            ],
            "type": "contour"
           }
          ],
          "contourcarpet": [
           {
            "colorbar": {
             "outlinewidth": 0,
             "ticks": ""
            },
            "type": "contourcarpet"
           }
          ],
          "heatmap": [
           {
            "colorbar": {
             "outlinewidth": 0,
             "ticks": ""
            },
            "colorscale": [
             [
              0,
              "#0d0887"
             ],
             [
              0.1111111111111111,
              "#46039f"
             ],
             [
              0.2222222222222222,
              "#7201a8"
             ],
             [
              0.3333333333333333,
              "#9c179e"
             ],
             [
              0.4444444444444444,
              "#bd3786"
             ],
             [
              0.5555555555555556,
              "#d8576b"
             ],
             [
              0.6666666666666666,
              "#ed7953"
             ],
             [
              0.7777777777777778,
              "#fb9f3a"
             ],
             [
              0.8888888888888888,
              "#fdca26"
             ],
             [
              1,
              "#f0f921"
             ]
            ],
            "type": "heatmap"
           }
          ],
          "heatmapgl": [
           {
            "colorbar": {
             "outlinewidth": 0,
             "ticks": ""
            },
            "colorscale": [
             [
              0,
              "#0d0887"
             ],
             [
              0.1111111111111111,
              "#46039f"
             ],
             [
              0.2222222222222222,
              "#7201a8"
             ],
             [
              0.3333333333333333,
              "#9c179e"
             ],
             [
              0.4444444444444444,
              "#bd3786"
             ],
             [
              0.5555555555555556,
              "#d8576b"
             ],
             [
              0.6666666666666666,
              "#ed7953"
             ],
             [
              0.7777777777777778,
              "#fb9f3a"
             ],
             [
              0.8888888888888888,
              "#fdca26"
             ],
             [
              1,
              "#f0f921"
             ]
            ],
            "type": "heatmapgl"
           }
          ],
          "histogram": [
           {
            "marker": {
             "pattern": {
              "fillmode": "overlay",
              "size": 10,
              "solidity": 0.2
             }
            },
            "type": "histogram"
           }
          ],
          "histogram2d": [
           {
            "colorbar": {
             "outlinewidth": 0,
             "ticks": ""
            },
            "colorscale": [
             [
              0,
              "#0d0887"
             ],
             [
              0.1111111111111111,
              "#46039f"
             ],
             [
              0.2222222222222222,
              "#7201a8"
             ],
             [
              0.3333333333333333,
              "#9c179e"
             ],
             [
              0.4444444444444444,
              "#bd3786"
             ],
             [
              0.5555555555555556,
              "#d8576b"
             ],
             [
              0.6666666666666666,
              "#ed7953"
             ],
             [
              0.7777777777777778,
              "#fb9f3a"
             ],
             [
              0.8888888888888888,
              "#fdca26"
             ],
             [
              1,
              "#f0f921"
             ]
            ],
            "type": "histogram2d"
           }
          ],
          "histogram2dcontour": [
           {
            "colorbar": {
             "outlinewidth": 0,
             "ticks": ""
            },
            "colorscale": [
             [
              0,
              "#0d0887"
             ],
             [
              0.1111111111111111,
              "#46039f"
             ],
             [
              0.2222222222222222,
              "#7201a8"
             ],
             [
              0.3333333333333333,
              "#9c179e"
             ],
             [
              0.4444444444444444,
              "#bd3786"
             ],
             [
              0.5555555555555556,
              "#d8576b"
             ],
             [
              0.6666666666666666,
              "#ed7953"
             ],
             [
              0.7777777777777778,
              "#fb9f3a"
             ],
             [
              0.8888888888888888,
              "#fdca26"
             ],
             [
              1,
              "#f0f921"
             ]
            ],
            "type": "histogram2dcontour"
           }
          ],
          "mesh3d": [
           {
            "colorbar": {
             "outlinewidth": 0,
             "ticks": ""
            },
            "type": "mesh3d"
           }
          ],
          "parcoords": [
           {
            "line": {
             "colorbar": {
              "outlinewidth": 0,
              "ticks": ""
             }
            },
            "type": "parcoords"
           }
          ],
          "pie": [
           {
            "automargin": true,
            "type": "pie"
           }
          ],
          "scatter": [
           {
            "fillpattern": {
             "fillmode": "overlay",
             "size": 10,
             "solidity": 0.2
            },
            "type": "scatter"
           }
          ],
          "scatter3d": [
           {
            "line": {
             "colorbar": {
              "outlinewidth": 0,
              "ticks": ""
             }
            },
            "marker": {
             "colorbar": {
              "outlinewidth": 0,
              "ticks": ""
             }
            },
            "type": "scatter3d"
           }
          ],
          "scattercarpet": [
           {
            "marker": {
             "colorbar": {
              "outlinewidth": 0,
              "ticks": ""
             }
            },
            "type": "scattercarpet"
           }
          ],
          "scattergeo": [
           {
            "marker": {
             "colorbar": {
              "outlinewidth": 0,
              "ticks": ""
             }
            },
            "type": "scattergeo"
           }
          ],
          "scattergl": [
           {
            "marker": {
             "colorbar": {
              "outlinewidth": 0,
              "ticks": ""
             }
            },
            "type": "scattergl"
           }
          ],
          "scattermapbox": [
           {
            "marker": {
             "colorbar": {
              "outlinewidth": 0,
              "ticks": ""
             }
            },
            "type": "scattermapbox"
           }
          ],
          "scatterpolar": [
           {
            "marker": {
             "colorbar": {
              "outlinewidth": 0,
              "ticks": ""
             }
            },
            "type": "scatterpolar"
           }
          ],
          "scatterpolargl": [
           {
            "marker": {
             "colorbar": {
              "outlinewidth": 0,
              "ticks": ""
             }
            },
            "type": "scatterpolargl"
           }
          ],
          "scatterternary": [
           {
            "marker": {
             "colorbar": {
              "outlinewidth": 0,
              "ticks": ""
             }
            },
            "type": "scatterternary"
           }
          ],
          "surface": [
           {
            "colorbar": {
             "outlinewidth": 0,
             "ticks": ""
            },
            "colorscale": [
             [
              0,
              "#0d0887"
             ],
             [
              0.1111111111111111,
              "#46039f"
             ],
             [
              0.2222222222222222,
              "#7201a8"
             ],
             [
              0.3333333333333333,
              "#9c179e"
             ],
             [
              0.4444444444444444,
              "#bd3786"
             ],
             [
              0.5555555555555556,
              "#d8576b"
             ],
             [
              0.6666666666666666,
              "#ed7953"
             ],
             [
              0.7777777777777778,
              "#fb9f3a"
             ],
             [
              0.8888888888888888,
              "#fdca26"
             ],
             [
              1,
              "#f0f921"
             ]
            ],
            "type": "surface"
           }
          ],
          "table": [
           {
            "cells": {
             "fill": {
              "color": "#EBF0F8"
             },
             "line": {
              "color": "white"
             }
            },
            "header": {
             "fill": {
              "color": "#C8D4E3"
             },
             "line": {
              "color": "white"
             }
            },
            "type": "table"
           }
          ]
         },
         "layout": {
          "annotationdefaults": {
           "arrowcolor": "#2a3f5f",
           "arrowhead": 0,
           "arrowwidth": 1
          },
          "autotypenumbers": "strict",
          "coloraxis": {
           "colorbar": {
            "outlinewidth": 0,
            "ticks": ""
           }
          },
          "colorscale": {
           "diverging": [
            [
             0,
             "#8e0152"
            ],
            [
             0.1,
             "#c51b7d"
            ],
            [
             0.2,
             "#de77ae"
            ],
            [
             0.3,
             "#f1b6da"
            ],
            [
             0.4,
             "#fde0ef"
            ],
            [
             0.5,
             "#f7f7f7"
            ],
            [
             0.6,
             "#e6f5d0"
            ],
            [
             0.7,
             "#b8e186"
            ],
            [
             0.8,
             "#7fbc41"
            ],
            [
             0.9,
             "#4d9221"
            ],
            [
             1,
             "#276419"
            ]
           ],
           "sequential": [
            [
             0,
             "#0d0887"
            ],
            [
             0.1111111111111111,
             "#46039f"
            ],
            [
             0.2222222222222222,
             "#7201a8"
            ],
            [
             0.3333333333333333,
             "#9c179e"
            ],
            [
             0.4444444444444444,
             "#bd3786"
            ],
            [
             0.5555555555555556,
             "#d8576b"
            ],
            [
             0.6666666666666666,
             "#ed7953"
            ],
            [
             0.7777777777777778,
             "#fb9f3a"
            ],
            [
             0.8888888888888888,
             "#fdca26"
            ],
            [
             1,
             "#f0f921"
            ]
           ],
           "sequentialminus": [
            [
             0,
             "#0d0887"
            ],
            [
             0.1111111111111111,
             "#46039f"
            ],
            [
             0.2222222222222222,
             "#7201a8"
            ],
            [
             0.3333333333333333,
             "#9c179e"
            ],
            [
             0.4444444444444444,
             "#bd3786"
            ],
            [
             0.5555555555555556,
             "#d8576b"
            ],
            [
             0.6666666666666666,
             "#ed7953"
            ],
            [
             0.7777777777777778,
             "#fb9f3a"
            ],
            [
             0.8888888888888888,
             "#fdca26"
            ],
            [
             1,
             "#f0f921"
            ]
           ]
          },
          "colorway": [
           "#636efa",
           "#EF553B",
           "#00cc96",
           "#ab63fa",
           "#FFA15A",
           "#19d3f3",
           "#FF6692",
           "#B6E880",
           "#FF97FF",
           "#FECB52"
          ],
          "font": {
           "color": "#2a3f5f"
          },
          "geo": {
           "bgcolor": "white",
           "lakecolor": "white",
           "landcolor": "#E5ECF6",
           "showlakes": true,
           "showland": true,
           "subunitcolor": "white"
          },
          "hoverlabel": {
           "align": "left"
          },
          "hovermode": "closest",
          "mapbox": {
           "style": "light"
          },
          "paper_bgcolor": "white",
          "plot_bgcolor": "#E5ECF6",
          "polar": {
           "angularaxis": {
            "gridcolor": "white",
            "linecolor": "white",
            "ticks": ""
           },
           "bgcolor": "#E5ECF6",
           "radialaxis": {
            "gridcolor": "white",
            "linecolor": "white",
            "ticks": ""
           }
          },
          "scene": {
           "xaxis": {
            "backgroundcolor": "#E5ECF6",
            "gridcolor": "white",
            "gridwidth": 2,
            "linecolor": "white",
            "showbackground": true,
            "ticks": "",
            "zerolinecolor": "white"
           },
           "yaxis": {
            "backgroundcolor": "#E5ECF6",
            "gridcolor": "white",
            "gridwidth": 2,
            "linecolor": "white",
            "showbackground": true,
            "ticks": "",
            "zerolinecolor": "white"
           },
           "zaxis": {
            "backgroundcolor": "#E5ECF6",
            "gridcolor": "white",
            "gridwidth": 2,
            "linecolor": "white",
            "showbackground": true,
            "ticks": "",
            "zerolinecolor": "white"
           }
          },
          "shapedefaults": {
           "line": {
            "color": "#2a3f5f"
           }
          },
          "ternary": {
           "aaxis": {
            "gridcolor": "white",
            "linecolor": "white",
            "ticks": ""
           },
           "baxis": {
            "gridcolor": "white",
            "linecolor": "white",
            "ticks": ""
           },
           "bgcolor": "#E5ECF6",
           "caxis": {
            "gridcolor": "white",
            "linecolor": "white",
            "ticks": ""
           }
          },
          "title": {
           "x": 0.05
          },
          "xaxis": {
           "automargin": true,
           "gridcolor": "white",
           "linecolor": "white",
           "ticks": "",
           "title": {
            "standoff": 15
           },
           "zerolinecolor": "white",
           "zerolinewidth": 2
          },
          "yaxis": {
           "automargin": true,
           "gridcolor": "white",
           "linecolor": "white",
           "ticks": "",
           "title": {
            "standoff": 15
           },
           "zerolinecolor": "white",
           "zerolinewidth": 2
          }
         }
        },
        "title": {
         "font": {
          "size": 30
         },
         "text": "loss per epoch",
         "x": 0.5
        },
        "xaxis": {
         "title": {
          "font": {
           "size": 20
          },
          "text": "epoch"
         }
        },
        "yaxis": {
         "title": {
          "font": {
           "size": 20
          },
          "text": "loss"
         }
        }
       }
      }
     },
     "metadata": {},
     "output_type": "display_data"
    }
   ],
   "source": [
    "data = [go.Scatter(y = CNN_model.history['loss'][0], name = 'loss'),\n",
    "        go.Scatter(y = CNN_model.history['val_loss'][0], name = 'val_loss')]\n",
    "\n",
    "layout = go.Layout(\n",
    "    height = 1000,\n",
    "    title = dict(\n",
    "        text = 'loss per epoch',\n",
    "        font_size = 30,\n",
    "        x = .5\n",
    "    ),\n",
    "    xaxis_title = dict(\n",
    "        text = 'epoch',\n",
    "        font_size = 20\n",
    "    ),\n",
    "    yaxis_title = dict(\n",
    "        text = 'loss',\n",
    "        font_size = 20\n",
    "    ),\n",
    "    legend = dict(\n",
    "        x = 0.02, y = .98,\n",
    "        bgcolor = 'rgba(0,0,0,0)',\n",
    "        font_size = 20\n",
    "    ),\n",
    "    margin={'r':0}\n",
    ")\n",
    "go.Figure(data, layout)"
   ]
  },
  {
   "cell_type": "code",
   "execution_count": 17,
   "metadata": {},
   "outputs": [
    {
     "data": {
      "text/plain": [
       "0.66"
      ]
     },
     "execution_count": 17,
     "metadata": {},
     "output_type": "execute_result"
    }
   ],
   "source": [
    "predictions = CNN_model.predict(X_test[:100])\n",
    "accuracy_score(np.argmax(y_test[:100], 1), predictions)"
   ]
  }
 ],
 "metadata": {
  "kernelspec": {
   "display_name": "university",
   "language": "python",
   "name": "python3"
  },
  "language_info": {
   "codemirror_mode": {
    "name": "ipython",
    "version": 3
   },
   "file_extension": ".py",
   "mimetype": "text/x-python",
   "name": "python",
   "nbconvert_exporter": "python",
   "pygments_lexer": "ipython3",
   "version": "3.11.4"
  },
  "orig_nbformat": 4
 },
 "nbformat": 4,
 "nbformat_minor": 2
}
